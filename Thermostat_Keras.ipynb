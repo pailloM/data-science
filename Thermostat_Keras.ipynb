{
 "cells": [
  {
   "cell_type": "markdown",
   "metadata": {},
   "source": [
    "# Prepare environment"
   ]
  },
  {
   "cell_type": "code",
   "execution_count": 1,
   "metadata": {
    "vscode": {
     "languageId": "shellscript"
    }
   },
   "outputs": [],
   "source": [
    "!source .venv/bin/activate"
   ]
  },
  {
   "cell_type": "markdown",
   "metadata": {},
   "source": [
    "# Imports"
   ]
  },
  {
   "cell_type": "code",
   "execution_count": 2,
   "metadata": {},
   "outputs": [
    {
     "name": "stderr",
     "output_type": "stream",
     "text": [
      "2024-04-03 02:06:57.570578: I tensorflow/core/util/port.cc:113] oneDNN custom operations are on. You may see slightly different numerical results due to floating-point round-off errors from different computation orders. To turn them off, set the environment variable `TF_ENABLE_ONEDNN_OPTS=0`.\n",
      "2024-04-03 02:06:57.601126: I tensorflow/core/platform/cpu_feature_guard.cc:210] This TensorFlow binary is optimized to use available CPU instructions in performance-critical operations.\n",
      "To enable the following instructions: AVX2 AVX512F AVX512_VNNI AVX512_BF16 FMA, in other operations, rebuild TensorFlow with the appropriate compiler flags.\n",
      "2024-04-03 02:06:58.263265: W tensorflow/compiler/tf2tensorrt/utils/py_utils.cc:38] TF-TRT Warning: Could not find TensorRT\n"
     ]
    },
    {
     "name": "stdout",
     "output_type": "stream",
     "text": [
      "{'influx_db': {'url': 'https://influxdb.ap-home', 'org': 'openhab', 'token': 'U3b0bON--ptBSPLxXySbF5in5K0wxAwdmBv1J6tR-lFAEr6uW0wRqAWmo7elPMJYmmoE1tBQjFC3o0twEJfXFg=='}, 'mlflow': {'url': 'https://mlflow.ap-home'}, 'data': ['ha_started', 'in_the_area', 'presence', 'in_bed', 'openweathermap_temperature', 'cloudliness', 'thermostat_base_heating_sp', 'living_room_occupancy', 'sun:elevation:mean', 'humidity_setpoint', 'house_humidity', 'water_heater_low_heat', 'thermostat_base_cooling_sp', 'total_radiations', 'openweathermap_cloud_coverage', 'outdoor_temperature_increasing_2', 'outdoor_temperature_decreasing', 'thermostat:temperature:mean', 'thermostat:target_temp_high:mean', 'thermostat:target_temp_low:mean', 'thermostat:state', 'openings', 'electricity_peak_cost', 'multisensor_air_temperature'], 'features': ['in_the_area', 'presence', 'in_bed', 'openweathermap_temperature', 'outdoor_temperature_increasing_2', 'outdoor_temperature_decreasing', 'thermostat_base_heating_sp', 'living_room_occupancy', 'multisensor_air_temperature', 'elevation', 'humidity_setpoint', 'house_humidity', 'water_heater_low_heat', 'thermostat_base_cooling_sp', 'total_radiations', 'openweathermap_cloud_coverage', 'openings', 'electricity_peak_cost'], 'numeric_features': ['openweathermap_temperature', 'multisensor_air_temperature', 'elevation', 'house_humidity', 'total_radiations', 'openweathermap_cloud_coverage'], 'targets': ['target_temp_high', 'target_temp_low']}\n"
     ]
    }
   ],
   "source": [
    "import influxdb_client, os, time\n",
    "from influxdb_client import InfluxDBClient, Point, WritePrecision\n",
    "from influxdb_client.client.write_api import SYNCHRONOUS\n",
    "import numpy as np\n",
    "import pandas as pd\n",
    "import mlflow\n",
    "from mlflow.models import infer_signature, set_signature\n",
    "import mlflow.keras\n",
    "import yaml\n",
    "from pickle import dump\n",
    "import math\n",
    "import os\n",
    "import shutil\n",
    "import matplotlib.pyplot as plt \n",
    "from datetime import datetime, timedelta\n",
    "\n",
    "with open('thermostat.yaml', 'r') as file:\n",
    "    variables = yaml.safe_load(file)\n",
    "\n",
    "print(f\"{variables}\")"
   ]
  },
  {
   "cell_type": "markdown",
   "metadata": {},
   "source": [
    "# Load data"
   ]
  },
  {
   "cell_type": "code",
   "execution_count": 3,
   "metadata": {},
   "outputs": [
    {
     "name": "stdout",
     "output_type": "stream",
     "text": [
      "ha_started\n",
      "  result  table                            _time  ha_started\n",
      "0   last      0 2024-02-15 20:52:54.449147+00:00         0.0\n",
      "1   last      0 2024-02-15 20:54:14.248861+00:00         1.0\n",
      "2   last      0 2024-02-16 00:33:15.867404+00:00         0.0\n",
      "3   last      0 2024-02-16 00:35:30.212120+00:00         0.0\n",
      "4   last      0 2024-02-16 00:37:03.224660+00:00         1.0\n",
      "in_the_area\n"
     ]
    },
    {
     "name": "stderr",
     "output_type": "stream",
     "text": [
      "/workspaces/python/.venv/lib/python3.11/site-packages/urllib3/connectionpool.py:1103: InsecureRequestWarning: Unverified HTTPS request is being made to host 'influxdb.ap-home'. Adding certificate verification is strongly advised. See: https://urllib3.readthedocs.io/en/latest/advanced-usage.html#tls-warnings\n",
      "  warnings.warn(\n",
      "/workspaces/python/.venv/lib/python3.11/site-packages/urllib3/connectionpool.py:1103: InsecureRequestWarning: Unverified HTTPS request is being made to host 'influxdb.ap-home'. Adding certificate verification is strongly advised. See: https://urllib3.readthedocs.io/en/latest/advanced-usage.html#tls-warnings\n",
      "  warnings.warn(\n"
     ]
    },
    {
     "name": "stdout",
     "output_type": "stream",
     "text": [
      "  result  table                            _time  in_the_area\n",
      "0   last      0 2021-12-27 06:42:47.249077+00:00          1.0\n",
      "1   last      0 2021-12-27 07:05:04.196674+00:00          0.0\n",
      "2   last      0 2021-12-27 07:05:38.366981+00:00          1.0\n",
      "3   last      0 2021-12-27 08:09:26.085641+00:00          0.0\n",
      "4   last      0 2021-12-27 08:09:47.785437+00:00          1.0\n",
      "presence\n"
     ]
    },
    {
     "name": "stderr",
     "output_type": "stream",
     "text": [
      "/workspaces/python/.venv/lib/python3.11/site-packages/urllib3/connectionpool.py:1103: InsecureRequestWarning: Unverified HTTPS request is being made to host 'influxdb.ap-home'. Adding certificate verification is strongly advised. See: https://urllib3.readthedocs.io/en/latest/advanced-usage.html#tls-warnings\n",
      "  warnings.warn(\n"
     ]
    },
    {
     "name": "stdout",
     "output_type": "stream",
     "text": [
      "  result  table                            _time  presence\n",
      "0   last      0 2021-12-27 06:42:47.246690+00:00       1.0\n",
      "1   last      0 2021-12-27 07:05:04.195767+00:00       0.0\n",
      "2   last      0 2021-12-27 07:05:38.365327+00:00       1.0\n",
      "3   last      0 2021-12-27 08:09:26.084493+00:00       0.0\n",
      "4   last      0 2021-12-27 08:09:47.783601+00:00       1.0\n",
      "in_bed\n"
     ]
    },
    {
     "name": "stderr",
     "output_type": "stream",
     "text": [
      "/workspaces/python/.venv/lib/python3.11/site-packages/urllib3/connectionpool.py:1103: InsecureRequestWarning: Unverified HTTPS request is being made to host 'influxdb.ap-home'. Adding certificate verification is strongly advised. See: https://urllib3.readthedocs.io/en/latest/advanced-usage.html#tls-warnings\n",
      "  warnings.warn(\n"
     ]
    },
    {
     "name": "stdout",
     "output_type": "stream",
     "text": [
      "  result  table                            _time  in_bed\n",
      "0   last      0 2021-12-27 06:42:47.260392+00:00     0.0\n",
      "1   last      0 2021-12-27 07:05:04.201661+00:00     0.0\n",
      "2   last      0 2021-12-27 08:09:26.088733+00:00     0.0\n",
      "3   last      0 2021-12-27 08:30:01.442487+00:00     1.0\n",
      "4   last      0 2021-12-27 10:53:44.434106+00:00     0.0\n",
      "openweathermap_temperature\n"
     ]
    },
    {
     "name": "stderr",
     "output_type": "stream",
     "text": [
      "/workspaces/python/.venv/lib/python3.11/site-packages/urllib3/connectionpool.py:1103: InsecureRequestWarning: Unverified HTTPS request is being made to host 'influxdb.ap-home'. Adding certificate verification is strongly advised. See: https://urllib3.readthedocs.io/en/latest/advanced-usage.html#tls-warnings\n",
      "  warnings.warn(\n"
     ]
    },
    {
     "name": "stdout",
     "output_type": "stream",
     "text": [
      "  result  table                            _time  openweathermap_temperature\n",
      "0   last      0 2021-12-27 00:05:05.589065+00:00                       -0.23\n",
      "1   last      0 2021-12-27 00:15:05.668450+00:00                       -0.21\n",
      "2   last      0 2021-12-27 00:35:05.719533+00:00                       -0.31\n",
      "3   last      0 2021-12-27 00:45:05.610818+00:00                       -0.35\n",
      "4   last      0 2021-12-27 00:55:05.616188+00:00                       -0.51\n",
      "cloudliness\n"
     ]
    },
    {
     "name": "stderr",
     "output_type": "stream",
     "text": [
      "/workspaces/python/.venv/lib/python3.11/site-packages/urllib3/connectionpool.py:1103: InsecureRequestWarning: Unverified HTTPS request is being made to host 'influxdb.ap-home'. Adding certificate verification is strongly advised. See: https://urllib3.readthedocs.io/en/latest/advanced-usage.html#tls-warnings\n",
      "  warnings.warn(\n"
     ]
    },
    {
     "name": "stdout",
     "output_type": "stream",
     "text": [
      "  result  table                            _time  cloudliness\n",
      "0   last      0 2021-12-27 07:40:08.617290+00:00        0.001\n",
      "1   last      0 2021-12-27 18:54:24.652019+00:00        0.001\n",
      "2   last      0 2021-12-27 22:53:28.671523+00:00        0.001\n",
      "3   last      0 2021-12-28 03:03:33.407426+00:00       50.000\n",
      "4   last      0 2021-12-28 04:28:16.089624+00:00        0.000\n",
      "thermostat_base_heating_sp\n"
     ]
    },
    {
     "name": "stderr",
     "output_type": "stream",
     "text": [
      "/workspaces/python/.venv/lib/python3.11/site-packages/urllib3/connectionpool.py:1103: InsecureRequestWarning: Unverified HTTPS request is being made to host 'influxdb.ap-home'. Adding certificate verification is strongly advised. See: https://urllib3.readthedocs.io/en/latest/advanced-usage.html#tls-warnings\n",
      "  warnings.warn(\n"
     ]
    },
    {
     "name": "stdout",
     "output_type": "stream",
     "text": [
      "  result  table                            _time  thermostat_base_heating_sp\n",
      "0   last      0 2021-12-27 04:00:00.183558+00:00                        18.5\n",
      "1   last      0 2021-12-27 06:42:47.684055+00:00                        20.5\n",
      "2   last      0 2021-12-27 06:58:49.629396+00:00                        18.5\n",
      "3   last      0 2021-12-27 07:05:44.808091+00:00                        20.5\n",
      "4   last      0 2021-12-27 07:05:51.186678+00:00                        18.5\n",
      "living_room_occupancy\n"
     ]
    },
    {
     "name": "stderr",
     "output_type": "stream",
     "text": [
      "/workspaces/python/.venv/lib/python3.11/site-packages/urllib3/connectionpool.py:1103: InsecureRequestWarning: Unverified HTTPS request is being made to host 'influxdb.ap-home'. Adding certificate verification is strongly advised. See: https://urllib3.readthedocs.io/en/latest/advanced-usage.html#tls-warnings\n",
      "  warnings.warn(\n"
     ]
    },
    {
     "name": "stdout",
     "output_type": "stream",
     "text": [
      "  result  table                            _time  living_room_occupancy\n",
      "0   last      0 2021-12-27 01:38:14.873103+00:00                    1.0\n",
      "1   last      0 2021-12-27 01:38:17.366902+00:00                    1.0\n",
      "2   last      0 2021-12-27 01:45:13.840187+00:00                    1.0\n",
      "3   last      0 2021-12-27 01:46:13.846108+00:00                    1.0\n",
      "4   last      0 2021-12-27 01:47:13.851278+00:00                    1.0\n",
      "sun:elevation:mean\n"
     ]
    },
    {
     "name": "stderr",
     "output_type": "stream",
     "text": [
      "/workspaces/python/.venv/lib/python3.11/site-packages/urllib3/connectionpool.py:1103: InsecureRequestWarning: Unverified HTTPS request is being made to host 'influxdb.ap-home'. Adding certificate verification is strongly advised. See: https://urllib3.readthedocs.io/en/latest/advanced-usage.html#tls-warnings\n",
      "  warnings.warn(\n"
     ]
    },
    {
     "name": "stdout",
     "output_type": "stream",
     "text": [
      "  result  table                            _time  elevation\n",
      "0   last      0 2021-12-27 00:09:10.913936+00:00     -21.59\n",
      "1   last      0 2021-12-27 00:29:10.915659+00:00     -25.22\n",
      "2   last      0 2021-12-27 00:49:10.916708+00:00     -28.88\n",
      "3   last      0 2021-12-27 01:09:10.917947+00:00     -32.57\n",
      "4   last      0 2021-12-27 01:29:10.918695+00:00     -36.26\n",
      "humidity_setpoint\n"
     ]
    },
    {
     "name": "stderr",
     "output_type": "stream",
     "text": [
      "/workspaces/python/.venv/lib/python3.11/site-packages/urllib3/connectionpool.py:1103: InsecureRequestWarning: Unverified HTTPS request is being made to host 'influxdb.ap-home'. Adding certificate verification is strongly advised. See: https://urllib3.readthedocs.io/en/latest/advanced-usage.html#tls-warnings\n",
      "  warnings.warn(\n"
     ]
    },
    {
     "name": "stdout",
     "output_type": "stream",
     "text": [
      "  result  table                            _time  humidity_setpoint\n",
      "0   last      0 2021-12-27 07:05:42.316189+00:00                0.0\n",
      "1   last      0 2021-12-27 08:10:01.246784+00:00                0.0\n",
      "2   last      0 2021-12-27 21:29:45.121693+00:00                0.0\n",
      "3   last      0 2021-12-28 04:06:45.500400+00:00                0.0\n",
      "4   last      0 2021-12-28 04:17:50.218831+00:00                0.0\n",
      "house_humidity\n"
     ]
    },
    {
     "name": "stderr",
     "output_type": "stream",
     "text": [
      "/workspaces/python/.venv/lib/python3.11/site-packages/urllib3/connectionpool.py:1103: InsecureRequestWarning: Unverified HTTPS request is being made to host 'influxdb.ap-home'. Adding certificate verification is strongly advised. See: https://urllib3.readthedocs.io/en/latest/advanced-usage.html#tls-warnings\n",
      "  warnings.warn(\n"
     ]
    },
    {
     "name": "stdout",
     "output_type": "stream",
     "text": [
      "  result  table                            _time  house_humidity\n",
      "0   last      0 2021-12-27 00:03:57.886784+00:00            45.3\n",
      "1   last      0 2021-12-27 00:05:38.402520+00:00            45.3\n",
      "2   last      0 2021-12-27 00:07:18.396221+00:00            45.0\n",
      "3   last      0 2021-12-27 00:07:48.453476+00:00            45.3\n",
      "4   last      0 2021-12-27 00:08:08.492871+00:00            45.0\n",
      "water_heater_low_heat\n"
     ]
    },
    {
     "name": "stderr",
     "output_type": "stream",
     "text": [
      "/workspaces/python/.venv/lib/python3.11/site-packages/urllib3/connectionpool.py:1103: InsecureRequestWarning: Unverified HTTPS request is being made to host 'influxdb.ap-home'. Adding certificate verification is strongly advised. See: https://urllib3.readthedocs.io/en/latest/advanced-usage.html#tls-warnings\n",
      "  warnings.warn(\n"
     ]
    },
    {
     "name": "stdout",
     "output_type": "stream",
     "text": [
      "  result  table                            _time  water_heater_low_heat\n",
      "0   last      0 2021-12-27 04:00:00.065904+00:00                    1.0\n",
      "1   last      0 2021-12-27 06:42:47.492977+00:00                    0.0\n",
      "2   last      0 2021-12-27 06:58:49.554044+00:00                    1.0\n",
      "3   last      0 2021-12-27 07:05:41.332719+00:00                    0.0\n",
      "4   last      0 2021-12-27 07:05:49.796552+00:00                    1.0\n",
      "thermostat_base_cooling_sp\n"
     ]
    },
    {
     "name": "stderr",
     "output_type": "stream",
     "text": [
      "/workspaces/python/.venv/lib/python3.11/site-packages/urllib3/connectionpool.py:1103: InsecureRequestWarning: Unverified HTTPS request is being made to host 'influxdb.ap-home'. Adding certificate verification is strongly advised. See: https://urllib3.readthedocs.io/en/latest/advanced-usage.html#tls-warnings\n",
      "  warnings.warn(\n"
     ]
    },
    {
     "name": "stdout",
     "output_type": "stream",
     "text": [
      "  result  table                            _time  thermostat_base_cooling_sp\n",
      "0   last      0 2021-12-27 07:05:44.714643+00:00                       27.00\n",
      "1   last      0 2021-12-27 08:10:01.701995+00:00                       27.00\n",
      "2   last      0 2021-12-27 21:29:46.188642+00:00                       27.00\n",
      "3   last      0 2021-12-28 04:00:00.159340+00:00                       31.75\n",
      "4   last      0 2021-12-28 04:06:46.091951+00:00                       31.75\n",
      "total_radiations\n"
     ]
    },
    {
     "name": "stderr",
     "output_type": "stream",
     "text": [
      "/workspaces/python/.venv/lib/python3.11/site-packages/urllib3/connectionpool.py:1103: InsecureRequestWarning: Unverified HTTPS request is being made to host 'influxdb.ap-home'. Adding certificate verification is strongly advised. See: https://urllib3.readthedocs.io/en/latest/advanced-usage.html#tls-warnings\n",
      "  warnings.warn(\n"
     ]
    },
    {
     "name": "stdout",
     "output_type": "stream",
     "text": [
      "  result  table                            _time  total_radiations\n",
      "0   last      0 2021-12-27 07:05:42.135715+00:00         -0.000000\n",
      "1   last      0 2021-12-27 08:10:01.190800+00:00         -0.000000\n",
      "2   last      0 2021-12-27 13:04:15.296453+00:00          0.000000\n",
      "3   last      0 2021-12-27 13:26:15.305085+00:00         21.005876\n",
      "4   last      0 2021-12-27 13:28:15.337702+00:00         22.960629\n",
      "openweathermap_cloud_coverage\n"
     ]
    },
    {
     "name": "stderr",
     "output_type": "stream",
     "text": [
      "/workspaces/python/.venv/lib/python3.11/site-packages/urllib3/connectionpool.py:1103: InsecureRequestWarning: Unverified HTTPS request is being made to host 'influxdb.ap-home'. Adding certificate verification is strongly advised. See: https://urllib3.readthedocs.io/en/latest/advanced-usage.html#tls-warnings\n",
      "  warnings.warn(\n"
     ]
    },
    {
     "name": "stdout",
     "output_type": "stream",
     "text": [
      "  result  table                            _time  \\\n",
      "0   last      0 2021-12-27 00:05:05.591224+00:00   \n",
      "1   last      0 2021-12-27 00:55:05.617231+00:00   \n",
      "2   last      0 2021-12-27 01:05:05.704789+00:00   \n",
      "3   last      0 2021-12-27 01:55:05.624036+00:00   \n",
      "4   last      0 2021-12-27 02:05:06.042063+00:00   \n",
      "\n",
      "   openweathermap_cloud_coverage  \n",
      "0                            1.0  \n",
      "1                           97.0  \n",
      "2                            1.0  \n",
      "3                           99.0  \n",
      "4                           20.0  \n",
      "outdoor_temperature_increasing_2\n"
     ]
    },
    {
     "name": "stderr",
     "output_type": "stream",
     "text": [
      "/workspaces/python/.venv/lib/python3.11/site-packages/urllib3/connectionpool.py:1103: InsecureRequestWarning: Unverified HTTPS request is being made to host 'influxdb.ap-home'. Adding certificate verification is strongly advised. See: https://urllib3.readthedocs.io/en/latest/advanced-usage.html#tls-warnings\n",
      "  warnings.warn(\n"
     ]
    },
    {
     "name": "stdout",
     "output_type": "stream",
     "text": [
      "  result  table                            _time  \\\n",
      "0   last      0 2021-12-29 20:26:53.749458+00:00   \n",
      "1   last      0 2021-12-29 20:30:47.145708+00:00   \n",
      "2   last      0 2021-12-29 20:33:40.363402+00:00   \n",
      "3   last      0 2021-12-29 20:39:09.911254+00:00   \n",
      "4   last      0 2021-12-29 20:39:46.568545+00:00   \n",
      "\n",
      "   outdoor_temperature_increasing_2  \n",
      "0                               0.0  \n",
      "1                               0.0  \n",
      "2                               0.0  \n",
      "3                               0.0  \n",
      "4                               0.0  \n",
      "outdoor_temperature_decreasing\n"
     ]
    },
    {
     "name": "stderr",
     "output_type": "stream",
     "text": [
      "/workspaces/python/.venv/lib/python3.11/site-packages/urllib3/connectionpool.py:1103: InsecureRequestWarning: Unverified HTTPS request is being made to host 'influxdb.ap-home'. Adding certificate verification is strongly advised. See: https://urllib3.readthedocs.io/en/latest/advanced-usage.html#tls-warnings\n",
      "  warnings.warn(\n"
     ]
    },
    {
     "name": "stdout",
     "output_type": "stream",
     "text": [
      "  result  table                            _time  \\\n",
      "0   last      0 2021-12-29 20:26:53.747164+00:00   \n",
      "1   last      0 2021-12-29 20:30:47.143160+00:00   \n",
      "2   last      0 2021-12-29 20:33:40.360886+00:00   \n",
      "3   last      0 2021-12-29 20:39:09.910719+00:00   \n",
      "4   last      0 2021-12-29 20:39:46.565661+00:00   \n",
      "\n",
      "   outdoor_temperature_decreasing  \n",
      "0                             0.0  \n",
      "1                             0.0  \n",
      "2                             0.0  \n",
      "3                             0.0  \n",
      "4                             0.0  \n",
      "thermostat:temperature:mean\n"
     ]
    },
    {
     "name": "stderr",
     "output_type": "stream",
     "text": [
      "/workspaces/python/.venv/lib/python3.11/site-packages/urllib3/connectionpool.py:1103: InsecureRequestWarning: Unverified HTTPS request is being made to host 'influxdb.ap-home'. Adding certificate verification is strongly advised. See: https://urllib3.readthedocs.io/en/latest/advanced-usage.html#tls-warnings\n",
      "  warnings.warn(\n"
     ]
    },
    {
     "name": "stdout",
     "output_type": "stream",
     "text": [
      "  result  table                            _time  temperature\n",
      "0   last      0 2021-12-27 00:05:07.322867+00:00         19.4\n",
      "1   last      0 2021-12-27 00:05:14.147118+00:00         20.0\n",
      "2   last      0 2021-12-27 00:05:26.827215+00:00         20.0\n",
      "3   last      0 2021-12-27 00:09:12.444515+00:00         19.4\n",
      "4   last      0 2021-12-27 00:09:18.895677+00:00         20.0\n",
      "thermostat:target_temp_high:mean\n"
     ]
    },
    {
     "name": "stderr",
     "output_type": "stream",
     "text": [
      "/workspaces/python/.venv/lib/python3.11/site-packages/urllib3/connectionpool.py:1103: InsecureRequestWarning: Unverified HTTPS request is being made to host 'influxdb.ap-home'. Adding certificate verification is strongly advised. See: https://urllib3.readthedocs.io/en/latest/advanced-usage.html#tls-warnings\n",
      "  warnings.warn(\n"
     ]
    },
    {
     "name": "stdout",
     "output_type": "stream",
     "text": [
      "  result  table                            _time  target_temp_high\n",
      "0   last      0 2022-05-11 00:10:59.556129+00:00              33.9\n",
      "1   last      0 2022-05-11 00:10:59.720472+00:00              33.9\n",
      "2   last      0 2022-05-11 00:24:52.948134+00:00              33.9\n",
      "3   last      0 2022-05-11 00:32:31.889439+00:00              33.9\n",
      "4   last      0 2022-05-11 00:37:33.506552+00:00              33.9\n",
      "thermostat:target_temp_low:mean\n"
     ]
    },
    {
     "name": "stderr",
     "output_type": "stream",
     "text": [
      "/workspaces/python/.venv/lib/python3.11/site-packages/urllib3/connectionpool.py:1103: InsecureRequestWarning: Unverified HTTPS request is being made to host 'influxdb.ap-home'. Adding certificate verification is strongly advised. See: https://urllib3.readthedocs.io/en/latest/advanced-usage.html#tls-warnings\n",
      "  warnings.warn(\n"
     ]
    },
    {
     "name": "stdout",
     "output_type": "stream",
     "text": [
      "  result  table                            _time  target_temp_low\n",
      "0   last      0 2022-05-11 00:10:59.556129+00:00             13.9\n",
      "1   last      0 2022-05-11 00:10:59.720472+00:00             13.9\n",
      "2   last      0 2022-05-11 00:24:52.948134+00:00             13.9\n",
      "3   last      0 2022-05-11 00:32:31.889439+00:00             13.9\n",
      "4   last      0 2022-05-11 00:37:33.506552+00:00             13.9\n",
      "thermostat:state\n"
     ]
    },
    {
     "name": "stderr",
     "output_type": "stream",
     "text": [
      "/workspaces/python/.venv/lib/python3.11/site-packages/urllib3/connectionpool.py:1103: InsecureRequestWarning: Unverified HTTPS request is being made to host 'influxdb.ap-home'. Adding certificate verification is strongly advised. See: https://urllib3.readthedocs.io/en/latest/advanced-usage.html#tls-warnings\n",
      "  warnings.warn(\n"
     ]
    },
    {
     "name": "stdout",
     "output_type": "stream",
     "text": [
      "  result  table                            _time state\n",
      "0   last      0 2021-12-27 00:05:07.322867+00:00  heat\n",
      "1   last      0 2021-12-27 00:05:14.147118+00:00  heat\n",
      "2   last      0 2021-12-27 00:05:26.827215+00:00  heat\n",
      "3   last      0 2021-12-27 00:09:12.444515+00:00  heat\n",
      "4   last      0 2021-12-27 00:09:18.895677+00:00  heat\n",
      "openings\n"
     ]
    },
    {
     "name": "stderr",
     "output_type": "stream",
     "text": [
      "/workspaces/python/.venv/lib/python3.11/site-packages/urllib3/connectionpool.py:1103: InsecureRequestWarning: Unverified HTTPS request is being made to host 'influxdb.ap-home'. Adding certificate verification is strongly advised. See: https://urllib3.readthedocs.io/en/latest/advanced-usage.html#tls-warnings\n",
      "  warnings.warn(\n"
     ]
    },
    {
     "name": "stdout",
     "output_type": "stream",
     "text": [
      "  result  table                            _time  openings\n",
      "0   last      0 2022-11-03 20:53:06.385841+00:00       0.0\n",
      "1   last      0 2022-11-03 21:01:55.696259+00:00       1.0\n",
      "2   last      0 2022-11-03 21:02:03.945446+00:00       0.0\n",
      "3   last      0 2022-11-03 21:25:53.682945+00:00       0.0\n",
      "4   last      0 2022-11-03 21:40:33.414763+00:00       1.0\n",
      "electricity_peak_cost\n"
     ]
    },
    {
     "name": "stderr",
     "output_type": "stream",
     "text": [
      "/workspaces/python/.venv/lib/python3.11/site-packages/urllib3/connectionpool.py:1103: InsecureRequestWarning: Unverified HTTPS request is being made to host 'influxdb.ap-home'. Adding certificate verification is strongly advised. See: https://urllib3.readthedocs.io/en/latest/advanced-usage.html#tls-warnings\n",
      "  warnings.warn(\n"
     ]
    },
    {
     "name": "stdout",
     "output_type": "stream",
     "text": [
      "  result  table                            _time  electricity_peak_cost\n",
      "0   last      0 2023-01-16 06:07:53.047439+00:00                    0.0\n",
      "1   last      0 2023-01-17 04:39:34.425105+00:00                    0.0\n",
      "2   last      0 2023-01-18 00:51:53.993775+00:00                    0.0\n",
      "3   last      0 2023-01-18 01:19:33.908088+00:00                    0.0\n",
      "4   last      0 2023-01-18 05:20:15.817306+00:00                    0.0\n",
      "multisensor_air_temperature\n"
     ]
    },
    {
     "name": "stderr",
     "output_type": "stream",
     "text": [
      "/workspaces/python/.venv/lib/python3.11/site-packages/urllib3/connectionpool.py:1103: InsecureRequestWarning: Unverified HTTPS request is being made to host 'influxdb.ap-home'. Adding certificate verification is strongly advised. See: https://urllib3.readthedocs.io/en/latest/advanced-usage.html#tls-warnings\n",
      "  warnings.warn(\n"
     ]
    },
    {
     "name": "stdout",
     "output_type": "stream",
     "text": [
      "  result  table                            _time  multisensor_air_temperature\n",
      "0   last      0 2022-09-29 02:46:00.116413+00:00                         20.4\n",
      "1   last      0 2022-09-29 02:50:09.297159+00:00                         20.4\n",
      "2   last      0 2022-09-29 02:55:10.337236+00:00                         20.5\n",
      "3   last      0 2022-09-29 03:00:13.229263+00:00                         20.5\n",
      "4   last      0 2022-09-29 03:00:15.550054+00:00                         20.5\n"
     ]
    },
    {
     "data": {
      "text/html": [
       "<div>\n",
       "<style scoped>\n",
       "    .dataframe tbody tr th:only-of-type {\n",
       "        vertical-align: middle;\n",
       "    }\n",
       "\n",
       "    .dataframe tbody tr th {\n",
       "        vertical-align: top;\n",
       "    }\n",
       "\n",
       "    .dataframe thead th {\n",
       "        text-align: right;\n",
       "    }\n",
       "</style>\n",
       "<table border=\"1\" class=\"dataframe\">\n",
       "  <thead>\n",
       "    <tr style=\"text-align: right;\">\n",
       "      <th></th>\n",
       "      <th>_time</th>\n",
       "      <th>ha_started</th>\n",
       "      <th>in_the_area</th>\n",
       "      <th>presence</th>\n",
       "      <th>in_bed</th>\n",
       "      <th>openweathermap_temperature</th>\n",
       "      <th>cloudliness</th>\n",
       "      <th>thermostat_base_heating_sp</th>\n",
       "      <th>living_room_occupancy</th>\n",
       "      <th>elevation</th>\n",
       "      <th>...</th>\n",
       "      <th>openweathermap_cloud_coverage</th>\n",
       "      <th>outdoor_temperature_increasing_2</th>\n",
       "      <th>outdoor_temperature_decreasing</th>\n",
       "      <th>temperature</th>\n",
       "      <th>target_temp_high</th>\n",
       "      <th>target_temp_low</th>\n",
       "      <th>state</th>\n",
       "      <th>openings</th>\n",
       "      <th>electricity_peak_cost</th>\n",
       "      <th>multisensor_air_temperature</th>\n",
       "    </tr>\n",
       "  </thead>\n",
       "  <tbody>\n",
       "    <tr>\n",
       "      <th>NaT</th>\n",
       "      <td>2021-12-27 00:00:37.462031+00:00</td>\n",
       "      <td>NaN</td>\n",
       "      <td>NaN</td>\n",
       "      <td>NaN</td>\n",
       "      <td>NaN</td>\n",
       "      <td>NaN</td>\n",
       "      <td>NaN</td>\n",
       "      <td>NaN</td>\n",
       "      <td>NaN</td>\n",
       "      <td>NaN</td>\n",
       "      <td>...</td>\n",
       "      <td>NaN</td>\n",
       "      <td>NaN</td>\n",
       "      <td>NaN</td>\n",
       "      <td>NaN</td>\n",
       "      <td>NaN</td>\n",
       "      <td>NaN</td>\n",
       "      <td>NaN</td>\n",
       "      <td>NaN</td>\n",
       "      <td>NaN</td>\n",
       "      <td>20.3</td>\n",
       "    </tr>\n",
       "    <tr>\n",
       "      <th>NaT</th>\n",
       "      <td>2021-12-27 00:03:57.886784+00:00</td>\n",
       "      <td>NaN</td>\n",
       "      <td>NaN</td>\n",
       "      <td>NaN</td>\n",
       "      <td>NaN</td>\n",
       "      <td>NaN</td>\n",
       "      <td>NaN</td>\n",
       "      <td>NaN</td>\n",
       "      <td>NaN</td>\n",
       "      <td>NaN</td>\n",
       "      <td>...</td>\n",
       "      <td>NaN</td>\n",
       "      <td>NaN</td>\n",
       "      <td>NaN</td>\n",
       "      <td>NaN</td>\n",
       "      <td>NaN</td>\n",
       "      <td>NaN</td>\n",
       "      <td>NaN</td>\n",
       "      <td>NaN</td>\n",
       "      <td>NaN</td>\n",
       "      <td>NaN</td>\n",
       "    </tr>\n",
       "    <tr>\n",
       "      <th>NaT</th>\n",
       "      <td>2021-12-27 00:05:05.589065+00:00</td>\n",
       "      <td>NaN</td>\n",
       "      <td>NaN</td>\n",
       "      <td>NaN</td>\n",
       "      <td>NaN</td>\n",
       "      <td>-0.23</td>\n",
       "      <td>NaN</td>\n",
       "      <td>NaN</td>\n",
       "      <td>NaN</td>\n",
       "      <td>NaN</td>\n",
       "      <td>...</td>\n",
       "      <td>NaN</td>\n",
       "      <td>NaN</td>\n",
       "      <td>NaN</td>\n",
       "      <td>NaN</td>\n",
       "      <td>NaN</td>\n",
       "      <td>NaN</td>\n",
       "      <td>NaN</td>\n",
       "      <td>NaN</td>\n",
       "      <td>NaN</td>\n",
       "      <td>NaN</td>\n",
       "    </tr>\n",
       "    <tr>\n",
       "      <th>NaT</th>\n",
       "      <td>2021-12-27 00:05:05.591224+00:00</td>\n",
       "      <td>NaN</td>\n",
       "      <td>NaN</td>\n",
       "      <td>NaN</td>\n",
       "      <td>NaN</td>\n",
       "      <td>NaN</td>\n",
       "      <td>NaN</td>\n",
       "      <td>NaN</td>\n",
       "      <td>NaN</td>\n",
       "      <td>NaN</td>\n",
       "      <td>...</td>\n",
       "      <td>1.0</td>\n",
       "      <td>NaN</td>\n",
       "      <td>NaN</td>\n",
       "      <td>NaN</td>\n",
       "      <td>NaN</td>\n",
       "      <td>NaN</td>\n",
       "      <td>NaN</td>\n",
       "      <td>NaN</td>\n",
       "      <td>NaN</td>\n",
       "      <td>NaN</td>\n",
       "    </tr>\n",
       "    <tr>\n",
       "      <th>NaT</th>\n",
       "      <td>2021-12-27 00:05:07.322867+00:00</td>\n",
       "      <td>NaN</td>\n",
       "      <td>NaN</td>\n",
       "      <td>NaN</td>\n",
       "      <td>NaN</td>\n",
       "      <td>NaN</td>\n",
       "      <td>NaN</td>\n",
       "      <td>NaN</td>\n",
       "      <td>NaN</td>\n",
       "      <td>NaN</td>\n",
       "      <td>...</td>\n",
       "      <td>NaN</td>\n",
       "      <td>NaN</td>\n",
       "      <td>NaN</td>\n",
       "      <td>19.4</td>\n",
       "      <td>NaN</td>\n",
       "      <td>NaN</td>\n",
       "      <td>heat</td>\n",
       "      <td>NaN</td>\n",
       "      <td>NaN</td>\n",
       "      <td>NaN</td>\n",
       "    </tr>\n",
       "  </tbody>\n",
       "</table>\n",
       "<p>5 rows × 25 columns</p>\n",
       "</div>"
      ],
      "text/plain": [
       "                               _time  ha_started  in_the_area  presence  \\\n",
       "NaT 2021-12-27 00:00:37.462031+00:00         NaN          NaN       NaN   \n",
       "NaT 2021-12-27 00:03:57.886784+00:00         NaN          NaN       NaN   \n",
       "NaT 2021-12-27 00:05:05.589065+00:00         NaN          NaN       NaN   \n",
       "NaT 2021-12-27 00:05:05.591224+00:00         NaN          NaN       NaN   \n",
       "NaT 2021-12-27 00:05:07.322867+00:00         NaN          NaN       NaN   \n",
       "\n",
       "     in_bed  openweathermap_temperature  cloudliness  \\\n",
       "NaT     NaN                         NaN          NaN   \n",
       "NaT     NaN                         NaN          NaN   \n",
       "NaT     NaN                       -0.23          NaN   \n",
       "NaT     NaN                         NaN          NaN   \n",
       "NaT     NaN                         NaN          NaN   \n",
       "\n",
       "     thermostat_base_heating_sp  living_room_occupancy  elevation  ...  \\\n",
       "NaT                         NaN                    NaN        NaN  ...   \n",
       "NaT                         NaN                    NaN        NaN  ...   \n",
       "NaT                         NaN                    NaN        NaN  ...   \n",
       "NaT                         NaN                    NaN        NaN  ...   \n",
       "NaT                         NaN                    NaN        NaN  ...   \n",
       "\n",
       "     openweathermap_cloud_coverage  outdoor_temperature_increasing_2  \\\n",
       "NaT                            NaN                               NaN   \n",
       "NaT                            NaN                               NaN   \n",
       "NaT                            NaN                               NaN   \n",
       "NaT                            1.0                               NaN   \n",
       "NaT                            NaN                               NaN   \n",
       "\n",
       "     outdoor_temperature_decreasing  temperature  target_temp_high  \\\n",
       "NaT                             NaN          NaN               NaN   \n",
       "NaT                             NaN          NaN               NaN   \n",
       "NaT                             NaN          NaN               NaN   \n",
       "NaT                             NaN          NaN               NaN   \n",
       "NaT                             NaN         19.4               NaN   \n",
       "\n",
       "     target_temp_low  state  openings  electricity_peak_cost  \\\n",
       "NaT              NaN    NaN       NaN                    NaN   \n",
       "NaT              NaN    NaN       NaN                    NaN   \n",
       "NaT              NaN    NaN       NaN                    NaN   \n",
       "NaT              NaN    NaN       NaN                    NaN   \n",
       "NaT              NaN   heat       NaN                    NaN   \n",
       "\n",
       "     multisensor_air_temperature  \n",
       "NaT                         20.3  \n",
       "NaT                          NaN  \n",
       "NaT                          NaN  \n",
       "NaT                          NaN  \n",
       "NaT                          NaN  \n",
       "\n",
       "[5 rows x 25 columns]"
      ]
     },
     "execution_count": 3,
     "metadata": {},
     "output_type": "execute_result"
    }
   ],
   "source": [
    "client = influxdb_client.InfluxDBClient(\n",
    "    url=variables[\"influx_db\"][\"url\"],\n",
    "    token=variables[\"influx_db\"][\"token\"],\n",
    "    org=variables[\"influx_db\"][\"org\"],\n",
    "    verify_ssl=False,\n",
    "    timeout=3600000\n",
    ")\n",
    "\n",
    "query_api = client.query_api()\n",
    "\n",
    "# range = start: 2022-01-01T00:00:00Z, stop: 2023-08-21T09:30:30Z)\n",
    "start_time = \"2022-01-01T00:00:00Z\"\n",
    "query_start = datetime.strptime(start_time, \"%Y-%m-%dT%H:%M:%SZ\") - timedelta(days=5) \n",
    "\n",
    "base_query = \"\"\"\n",
    "        from(bucket: \"homeassistant\")\n",
    "            |> range(start: )\n",
    "            |> filter(fn: (r) => r[\"entity_id\"] == \"entity_name\")\n",
    "            |> filter(fn: (r) => r[\"_field\"] == \"value\")\n",
    "            |> fill(usePrevious: true)\n",
    "            |> drop(columns: [\"result\", \"table\", \"_start\", \"_stop\", \"_field\", \"source\",\"domain\",\"_measurement\", \"friendly_name\"])\n",
    "            |> pivot(rowKey: [\"_time\"], columnKey: [\"entity_id\"], valueColumn: \"_value\")\n",
    "            |> yield(name: \"last\")\"\"\"\n",
    "base_query = base_query.replace(\"start: \", f'start: {datetime.strftime(query_start, \"%Y-%m-%dT%H:%M:%SZ\")}')\n",
    "for nb, entity in enumerate(variables[\"data\"]):\n",
    "    print(entity)\n",
    "    entity = entity.split(\":\")\n",
    "    query = base_query.replace(\"entity_name\", entity[0], 1)\n",
    "    if len(entity)> 1 and {entity[1]} != \"\":\n",
    "        query = query.replace('r[\"_field\"] == \"value\"', f'r[\"_field\"] == \"{entity[1]}\"')\n",
    "        query = query.replace('columnKey: [\"entity_id\"]', f'columnKey: [\"_field\"]')\n",
    "        query = query.replace(\n",
    "            'drop(columns: [\"result\", \"table\", \"_start\", \"_stop\", \"_field\", \"source\",\"domain\",\"_measurement\", \"friendly_name\"])',\n",
    "            'drop(columns: [\"result\", \"table\", \"_start\", \"_stop\", \"entity_id\", \"source\",\"domain\",\"_measurement\", \"friendly_name\"])'\n",
    "        )\n",
    "    if len(entity)> 2 and {entity[2]} != \"\":\n",
    "       query = query.replace('fn: last,', f'fn: {entity[2]},')\n",
    "    # print(query)\n",
    "    df = query_api.query_data_frame(query, org=variables[\"influx_db\"][\"org\"])\n",
    "    print(df.head())\n",
    "    try:\n",
    "        df.set_index('_time', inplace=True)\n",
    "        df.drop([\"result\", \"table\"], axis=1, inplace=True)\n",
    "        if nb == 0:\n",
    "            full_df = df.copy()\n",
    "        else:\n",
    "            full_df = full_df.join(df,on=\"_time\", how='outer')\n",
    "    except KeyError:\n",
    "        print(f\"{entity[1]} was not found\")\n",
    "        if len(entity)> 2:\n",
    "            full_df[entity[1]] =  entity[2]\n",
    "        else: \n",
    "            full_df[entity[1]] = np.nan\n",
    "\n",
    "full_df.head()"
   ]
  },
  {
   "cell_type": "markdown",
   "metadata": {},
   "source": [
    "# Prepare data"
   ]
  },
  {
   "cell_type": "code",
   "execution_count": 4,
   "metadata": {},
   "outputs": [
    {
     "name": "stdout",
     "output_type": "stream",
     "text": [
      "                               _time  ha_started  in_the_area  presence  \\\n",
      "NaT 2021-12-27 00:00:37.462031+00:00         NaN          NaN       NaN   \n",
      "NaT 2021-12-27 00:03:57.886784+00:00         NaN          NaN       NaN   \n",
      "NaT 2021-12-27 00:05:05.589065+00:00         NaN          NaN       NaN   \n",
      "NaT 2021-12-27 00:05:05.591224+00:00         NaN          NaN       NaN   \n",
      "NaT 2021-12-27 00:05:07.322867+00:00         NaN          NaN       NaN   \n",
      "NaT 2021-12-27 00:05:14.147118+00:00         NaN          NaN       NaN   \n",
      "NaT 2021-12-27 00:05:26.827215+00:00         NaN          NaN       NaN   \n",
      "NaT 2021-12-27 00:05:38.047106+00:00         NaN          NaN       NaN   \n",
      "NaT 2021-12-27 00:05:38.402520+00:00         NaN          NaN       NaN   \n",
      "NaT 2021-12-27 00:07:18.396221+00:00         NaN          NaN       NaN   \n",
      "\n",
      "     in_bed  openweathermap_temperature  cloudliness  \\\n",
      "NaT     NaN                         NaN          NaN   \n",
      "NaT     NaN                         NaN          NaN   \n",
      "NaT     NaN                       -0.23          NaN   \n",
      "NaT     NaN                         NaN          NaN   \n",
      "NaT     NaN                         NaN          NaN   \n",
      "NaT     NaN                         NaN          NaN   \n",
      "NaT     NaN                         NaN          NaN   \n",
      "NaT     NaN                         NaN          NaN   \n",
      "NaT     NaN                         NaN          NaN   \n",
      "NaT     NaN                         NaN          NaN   \n",
      "\n",
      "     thermostat_base_heating_sp  living_room_occupancy  elevation  ...  \\\n",
      "NaT                         NaN                    NaN        NaN  ...   \n",
      "NaT                         NaN                    NaN        NaN  ...   \n",
      "NaT                         NaN                    NaN        NaN  ...   \n",
      "NaT                         NaN                    NaN        NaN  ...   \n",
      "NaT                         NaN                    NaN        NaN  ...   \n",
      "NaT                         NaN                    NaN        NaN  ...   \n",
      "NaT                         NaN                    NaN        NaN  ...   \n",
      "NaT                         NaN                    NaN        NaN  ...   \n",
      "NaT                         NaN                    NaN        NaN  ...   \n",
      "NaT                         NaN                    NaN        NaN  ...   \n",
      "\n",
      "     openweathermap_cloud_coverage  outdoor_temperature_increasing_2  \\\n",
      "NaT                            NaN                               NaN   \n",
      "NaT                            NaN                               NaN   \n",
      "NaT                            NaN                               NaN   \n",
      "NaT                            1.0                               NaN   \n",
      "NaT                            NaN                               NaN   \n",
      "NaT                            NaN                               NaN   \n",
      "NaT                            NaN                               NaN   \n",
      "NaT                            NaN                               NaN   \n",
      "NaT                            NaN                               NaN   \n",
      "NaT                            NaN                               NaN   \n",
      "\n",
      "     outdoor_temperature_decreasing  temperature  target_temp_high  \\\n",
      "NaT                             NaN          NaN               NaN   \n",
      "NaT                             NaN          NaN               NaN   \n",
      "NaT                             NaN          NaN               NaN   \n",
      "NaT                             NaN          NaN               NaN   \n",
      "NaT                             NaN         19.4               NaN   \n",
      "NaT                             NaN         20.0               NaN   \n",
      "NaT                             NaN         20.0               NaN   \n",
      "NaT                             NaN          NaN               NaN   \n",
      "NaT                             NaN          NaN               NaN   \n",
      "NaT                             NaN          NaN               NaN   \n",
      "\n",
      "     target_temp_low  state  openings  electricity_peak_cost  \\\n",
      "NaT              NaN    NaN       NaN                    NaN   \n",
      "NaT              NaN    NaN       NaN                    NaN   \n",
      "NaT              NaN    NaN       NaN                    NaN   \n",
      "NaT              NaN    NaN       NaN                    NaN   \n",
      "NaT              NaN   heat       NaN                    NaN   \n",
      "NaT              NaN   heat       NaN                    NaN   \n",
      "NaT              NaN   heat       NaN                    NaN   \n",
      "NaT              NaN    NaN       NaN                    NaN   \n",
      "NaT              NaN    NaN       NaN                    NaN   \n",
      "NaT              NaN    NaN       NaN                    NaN   \n",
      "\n",
      "     multisensor_air_temperature  \n",
      "NaT                         20.3  \n",
      "NaT                          NaN  \n",
      "NaT                          NaN  \n",
      "NaT                          NaN  \n",
      "NaT                          NaN  \n",
      "NaT                          NaN  \n",
      "NaT                          NaN  \n",
      "NaT                         20.4  \n",
      "NaT                          NaN  \n",
      "NaT                          NaN  \n",
      "\n",
      "[10 rows x 25 columns]\n",
      "(2342512, 26)\n",
      "   index                            _time  in_the_area  presence  in_bed  \\\n",
      "0      0 2024-02-15 20:54:14.248861+00:00          1.0       1.0     0.0   \n",
      "1      1 2024-02-15 20:54:35.243344+00:00          1.0       1.0     0.0   \n",
      "2      2 2024-02-15 20:54:53.958553+00:00          1.0       1.0     0.0   \n",
      "3      3 2024-02-15 20:54:58.196191+00:00          1.0       1.0     0.0   \n",
      "4      4 2024-02-15 20:55:58.047006+00:00          1.0       1.0     0.0   \n",
      "5      5 2024-02-15 20:55:58.119453+00:00          1.0       1.0     0.0   \n",
      "6      6 2024-02-15 20:55:58.158277+00:00          1.0       1.0     0.0   \n",
      "7      7 2024-02-15 20:55:58.164839+00:00          1.0       1.0     0.0   \n",
      "8      8 2024-02-15 20:57:05.711784+00:00          1.0       1.0     0.0   \n",
      "9      9 2024-02-15 20:57:15.729320+00:00          1.0       1.0     0.0   \n",
      "\n",
      "   openweathermap_temperature  outdoor_temperature_increasing_2  \\\n",
      "0                    3.033226                               0.0   \n",
      "1                    3.033548                               0.0   \n",
      "2                    3.033871                               0.0   \n",
      "3                    3.034194                               0.0   \n",
      "4                    3.034516                               0.0   \n",
      "5                    3.034839                               0.0   \n",
      "6                    3.035161                               0.0   \n",
      "7                    3.035484                               0.0   \n",
      "8                    3.035806                               0.0   \n",
      "9                    3.036129                               0.0   \n",
      "\n",
      "   outdoor_temperature_decreasing  thermostat_base_heating_sp  \\\n",
      "0                             0.0                        20.5   \n",
      "1                             0.0                        20.5   \n",
      "2                             0.0                        20.5   \n",
      "3                             0.0                        20.5   \n",
      "4                             0.0                        20.5   \n",
      "5                             0.0                        20.5   \n",
      "6                             0.0                        20.5   \n",
      "7                             0.0                        20.5   \n",
      "8                             0.0                        20.5   \n",
      "9                             0.0                        20.5   \n",
      "\n",
      "   living_room_occupancy  ...  humidity_setpoint  house_humidity  \\\n",
      "0                    0.0  ...                0.0       44.622222   \n",
      "1                    0.0  ...                0.0       44.644444   \n",
      "2                    0.0  ...                0.0       44.666667   \n",
      "3                    0.0  ...                0.0       44.688889   \n",
      "4                    0.0  ...                0.0       44.711111   \n",
      "5                    0.0  ...                0.0       44.733333   \n",
      "6                    0.0  ...                0.0       44.755556   \n",
      "7                    0.0  ...                0.0       44.777778   \n",
      "8                    0.0  ...                0.0       44.800000   \n",
      "9                    0.0  ...                0.0       44.600000   \n",
      "\n",
      "   water_heater_low_heat  thermostat_base_cooling_sp  total_radiations  \\\n",
      "0                    0.0                        26.0        213.859524   \n",
      "1                    0.0                        26.0        213.074456   \n",
      "2                    0.0                        26.0        212.289389   \n",
      "3                    0.0                        26.0        211.504321   \n",
      "4                    0.0                        26.0        210.719253   \n",
      "5                    0.0                        26.0        209.934185   \n",
      "6                    0.0                        26.0        209.276706   \n",
      "7                    0.0                        26.0        208.619226   \n",
      "8                    0.0                        26.0        207.961746   \n",
      "9                    0.0                        26.0        207.304267   \n",
      "\n",
      "   openweathermap_cloud_coverage  openings  electricity_peak_cost  \\\n",
      "0                      92.816154       0.0                    1.0   \n",
      "1                      92.807692       0.0                    1.0   \n",
      "2                      92.799231       1.0                    1.0   \n",
      "3                      92.790769       0.0                    1.0   \n",
      "4                      92.782308       0.0                    1.0   \n",
      "5                      92.773846       0.0                    1.0   \n",
      "6                      92.765385       0.0                    1.0   \n",
      "7                      92.756923       0.0                    1.0   \n",
      "8                      92.748462       0.0                    1.0   \n",
      "9                      92.740000       0.0                    1.0   \n",
      "\n",
      "   target_temp_high  target_temp_low  \n",
      "0              33.9             20.0  \n",
      "1              33.9             20.0  \n",
      "2              33.9             20.0  \n",
      "3              33.9             20.0  \n",
      "4              33.9             20.0  \n",
      "5              33.9             20.0  \n",
      "6              33.9             20.0  \n",
      "7              33.9             20.0  \n",
      "8              33.9             20.0  \n",
      "9              33.9             20.0  \n",
      "\n",
      "[10 rows x 22 columns]\n",
      "(161997, 22)\n"
     ]
    },
    {
     "data": {
      "text/html": [
       "<div>\n",
       "<style scoped>\n",
       "    .dataframe tbody tr th:only-of-type {\n",
       "        vertical-align: middle;\n",
       "    }\n",
       "\n",
       "    .dataframe tbody tr th {\n",
       "        vertical-align: top;\n",
       "    }\n",
       "\n",
       "    .dataframe thead th {\n",
       "        text-align: right;\n",
       "    }\n",
       "</style>\n",
       "<table border=\"1\" class=\"dataframe\">\n",
       "  <thead>\n",
       "    <tr style=\"text-align: right;\">\n",
       "      <th></th>\n",
       "      <th>in_the_area</th>\n",
       "      <th>presence</th>\n",
       "      <th>in_bed</th>\n",
       "      <th>openweathermap_temperature</th>\n",
       "      <th>outdoor_temperature_increasing_2</th>\n",
       "      <th>outdoor_temperature_decreasing</th>\n",
       "      <th>thermostat_base_heating_sp</th>\n",
       "      <th>living_room_occupancy</th>\n",
       "      <th>multisensor_air_temperature</th>\n",
       "      <th>elevation</th>\n",
       "      <th>humidity_setpoint</th>\n",
       "      <th>house_humidity</th>\n",
       "      <th>water_heater_low_heat</th>\n",
       "      <th>thermostat_base_cooling_sp</th>\n",
       "      <th>total_radiations</th>\n",
       "      <th>openweathermap_cloud_coverage</th>\n",
       "      <th>openings</th>\n",
       "      <th>electricity_peak_cost</th>\n",
       "    </tr>\n",
       "  </thead>\n",
       "  <tbody>\n",
       "    <tr>\n",
       "      <th>0</th>\n",
       "      <td>1.0</td>\n",
       "      <td>1.0</td>\n",
       "      <td>0.0</td>\n",
       "      <td>3.033226</td>\n",
       "      <td>0.0</td>\n",
       "      <td>0.0</td>\n",
       "      <td>20.5</td>\n",
       "      <td>0.0</td>\n",
       "      <td>17.792308</td>\n",
       "      <td>20.433636</td>\n",
       "      <td>0.0</td>\n",
       "      <td>44.622222</td>\n",
       "      <td>0.0</td>\n",
       "      <td>26.0</td>\n",
       "      <td>213.859524</td>\n",
       "      <td>92.816154</td>\n",
       "      <td>0.0</td>\n",
       "      <td>1.0</td>\n",
       "    </tr>\n",
       "    <tr>\n",
       "      <th>1</th>\n",
       "      <td>1.0</td>\n",
       "      <td>1.0</td>\n",
       "      <td>0.0</td>\n",
       "      <td>3.033548</td>\n",
       "      <td>0.0</td>\n",
       "      <td>0.0</td>\n",
       "      <td>20.5</td>\n",
       "      <td>0.0</td>\n",
       "      <td>17.800000</td>\n",
       "      <td>20.382727</td>\n",
       "      <td>0.0</td>\n",
       "      <td>44.644444</td>\n",
       "      <td>0.0</td>\n",
       "      <td>26.0</td>\n",
       "      <td>213.074456</td>\n",
       "      <td>92.807692</td>\n",
       "      <td>0.0</td>\n",
       "      <td>1.0</td>\n",
       "    </tr>\n",
       "    <tr>\n",
       "      <th>2</th>\n",
       "      <td>1.0</td>\n",
       "      <td>1.0</td>\n",
       "      <td>0.0</td>\n",
       "      <td>3.033871</td>\n",
       "      <td>0.0</td>\n",
       "      <td>0.0</td>\n",
       "      <td>20.5</td>\n",
       "      <td>0.0</td>\n",
       "      <td>17.814286</td>\n",
       "      <td>20.331818</td>\n",
       "      <td>0.0</td>\n",
       "      <td>44.666667</td>\n",
       "      <td>0.0</td>\n",
       "      <td>26.0</td>\n",
       "      <td>212.289389</td>\n",
       "      <td>92.799231</td>\n",
       "      <td>1.0</td>\n",
       "      <td>1.0</td>\n",
       "    </tr>\n",
       "    <tr>\n",
       "      <th>3</th>\n",
       "      <td>1.0</td>\n",
       "      <td>1.0</td>\n",
       "      <td>0.0</td>\n",
       "      <td>3.034194</td>\n",
       "      <td>0.0</td>\n",
       "      <td>0.0</td>\n",
       "      <td>20.5</td>\n",
       "      <td>0.0</td>\n",
       "      <td>17.828571</td>\n",
       "      <td>20.280909</td>\n",
       "      <td>0.0</td>\n",
       "      <td>44.688889</td>\n",
       "      <td>0.0</td>\n",
       "      <td>26.0</td>\n",
       "      <td>211.504321</td>\n",
       "      <td>92.790769</td>\n",
       "      <td>0.0</td>\n",
       "      <td>1.0</td>\n",
       "    </tr>\n",
       "    <tr>\n",
       "      <th>4</th>\n",
       "      <td>1.0</td>\n",
       "      <td>1.0</td>\n",
       "      <td>0.0</td>\n",
       "      <td>3.034516</td>\n",
       "      <td>0.0</td>\n",
       "      <td>0.0</td>\n",
       "      <td>20.5</td>\n",
       "      <td>0.0</td>\n",
       "      <td>17.842857</td>\n",
       "      <td>20.230000</td>\n",
       "      <td>0.0</td>\n",
       "      <td>44.711111</td>\n",
       "      <td>0.0</td>\n",
       "      <td>26.0</td>\n",
       "      <td>210.719253</td>\n",
       "      <td>92.782308</td>\n",
       "      <td>0.0</td>\n",
       "      <td>1.0</td>\n",
       "    </tr>\n",
       "    <tr>\n",
       "      <th>5</th>\n",
       "      <td>1.0</td>\n",
       "      <td>1.0</td>\n",
       "      <td>0.0</td>\n",
       "      <td>3.034839</td>\n",
       "      <td>0.0</td>\n",
       "      <td>0.0</td>\n",
       "      <td>20.5</td>\n",
       "      <td>0.0</td>\n",
       "      <td>17.857143</td>\n",
       "      <td>20.183333</td>\n",
       "      <td>0.0</td>\n",
       "      <td>44.733333</td>\n",
       "      <td>0.0</td>\n",
       "      <td>26.0</td>\n",
       "      <td>209.934185</td>\n",
       "      <td>92.773846</td>\n",
       "      <td>0.0</td>\n",
       "      <td>1.0</td>\n",
       "    </tr>\n",
       "    <tr>\n",
       "      <th>6</th>\n",
       "      <td>1.0</td>\n",
       "      <td>1.0</td>\n",
       "      <td>0.0</td>\n",
       "      <td>3.035161</td>\n",
       "      <td>0.0</td>\n",
       "      <td>0.0</td>\n",
       "      <td>20.5</td>\n",
       "      <td>0.0</td>\n",
       "      <td>17.871429</td>\n",
       "      <td>20.136667</td>\n",
       "      <td>0.0</td>\n",
       "      <td>44.755556</td>\n",
       "      <td>0.0</td>\n",
       "      <td>26.0</td>\n",
       "      <td>209.276706</td>\n",
       "      <td>92.765385</td>\n",
       "      <td>0.0</td>\n",
       "      <td>1.0</td>\n",
       "    </tr>\n",
       "    <tr>\n",
       "      <th>7</th>\n",
       "      <td>1.0</td>\n",
       "      <td>1.0</td>\n",
       "      <td>0.0</td>\n",
       "      <td>3.035484</td>\n",
       "      <td>0.0</td>\n",
       "      <td>0.0</td>\n",
       "      <td>20.5</td>\n",
       "      <td>0.0</td>\n",
       "      <td>17.885714</td>\n",
       "      <td>20.090000</td>\n",
       "      <td>0.0</td>\n",
       "      <td>44.777778</td>\n",
       "      <td>0.0</td>\n",
       "      <td>26.0</td>\n",
       "      <td>208.619226</td>\n",
       "      <td>92.756923</td>\n",
       "      <td>0.0</td>\n",
       "      <td>1.0</td>\n",
       "    </tr>\n",
       "    <tr>\n",
       "      <th>8</th>\n",
       "      <td>1.0</td>\n",
       "      <td>1.0</td>\n",
       "      <td>0.0</td>\n",
       "      <td>3.035806</td>\n",
       "      <td>0.0</td>\n",
       "      <td>0.0</td>\n",
       "      <td>20.5</td>\n",
       "      <td>0.0</td>\n",
       "      <td>17.900000</td>\n",
       "      <td>20.043333</td>\n",
       "      <td>0.0</td>\n",
       "      <td>44.800000</td>\n",
       "      <td>0.0</td>\n",
       "      <td>26.0</td>\n",
       "      <td>207.961746</td>\n",
       "      <td>92.748462</td>\n",
       "      <td>0.0</td>\n",
       "      <td>1.0</td>\n",
       "    </tr>\n",
       "    <tr>\n",
       "      <th>9</th>\n",
       "      <td>1.0</td>\n",
       "      <td>1.0</td>\n",
       "      <td>0.0</td>\n",
       "      <td>3.036129</td>\n",
       "      <td>0.0</td>\n",
       "      <td>0.0</td>\n",
       "      <td>20.5</td>\n",
       "      <td>0.0</td>\n",
       "      <td>17.914286</td>\n",
       "      <td>19.996667</td>\n",
       "      <td>0.0</td>\n",
       "      <td>44.600000</td>\n",
       "      <td>0.0</td>\n",
       "      <td>26.0</td>\n",
       "      <td>207.304267</td>\n",
       "      <td>92.740000</td>\n",
       "      <td>0.0</td>\n",
       "      <td>1.0</td>\n",
       "    </tr>\n",
       "    <tr>\n",
       "      <th>10</th>\n",
       "      <td>1.0</td>\n",
       "      <td>1.0</td>\n",
       "      <td>0.0</td>\n",
       "      <td>3.036452</td>\n",
       "      <td>0.0</td>\n",
       "      <td>0.0</td>\n",
       "      <td>20.5</td>\n",
       "      <td>0.0</td>\n",
       "      <td>17.928571</td>\n",
       "      <td>19.950000</td>\n",
       "      <td>0.0</td>\n",
       "      <td>44.800000</td>\n",
       "      <td>0.0</td>\n",
       "      <td>26.0</td>\n",
       "      <td>206.646787</td>\n",
       "      <td>92.731538</td>\n",
       "      <td>0.0</td>\n",
       "      <td>1.0</td>\n",
       "    </tr>\n",
       "    <tr>\n",
       "      <th>11</th>\n",
       "      <td>1.0</td>\n",
       "      <td>1.0</td>\n",
       "      <td>0.0</td>\n",
       "      <td>3.036774</td>\n",
       "      <td>0.0</td>\n",
       "      <td>0.0</td>\n",
       "      <td>20.5</td>\n",
       "      <td>0.0</td>\n",
       "      <td>17.942857</td>\n",
       "      <td>19.903333</td>\n",
       "      <td>0.0</td>\n",
       "      <td>44.600000</td>\n",
       "      <td>0.0</td>\n",
       "      <td>26.0</td>\n",
       "      <td>205.989307</td>\n",
       "      <td>92.723077</td>\n",
       "      <td>0.0</td>\n",
       "      <td>1.0</td>\n",
       "    </tr>\n",
       "    <tr>\n",
       "      <th>12</th>\n",
       "      <td>1.0</td>\n",
       "      <td>1.0</td>\n",
       "      <td>0.0</td>\n",
       "      <td>3.037097</td>\n",
       "      <td>0.0</td>\n",
       "      <td>0.0</td>\n",
       "      <td>20.5</td>\n",
       "      <td>0.0</td>\n",
       "      <td>17.957143</td>\n",
       "      <td>19.856667</td>\n",
       "      <td>0.0</td>\n",
       "      <td>44.800000</td>\n",
       "      <td>0.0</td>\n",
       "      <td>26.0</td>\n",
       "      <td>205.331828</td>\n",
       "      <td>92.714615</td>\n",
       "      <td>0.0</td>\n",
       "      <td>1.0</td>\n",
       "    </tr>\n",
       "    <tr>\n",
       "      <th>13</th>\n",
       "      <td>1.0</td>\n",
       "      <td>1.0</td>\n",
       "      <td>0.0</td>\n",
       "      <td>3.037419</td>\n",
       "      <td>0.0</td>\n",
       "      <td>0.0</td>\n",
       "      <td>20.5</td>\n",
       "      <td>0.0</td>\n",
       "      <td>17.971429</td>\n",
       "      <td>19.810000</td>\n",
       "      <td>0.0</td>\n",
       "      <td>44.775000</td>\n",
       "      <td>0.0</td>\n",
       "      <td>26.0</td>\n",
       "      <td>204.674348</td>\n",
       "      <td>92.706154</td>\n",
       "      <td>0.0</td>\n",
       "      <td>1.0</td>\n",
       "    </tr>\n",
       "    <tr>\n",
       "      <th>14</th>\n",
       "      <td>1.0</td>\n",
       "      <td>1.0</td>\n",
       "      <td>0.0</td>\n",
       "      <td>3.037742</td>\n",
       "      <td>0.0</td>\n",
       "      <td>0.0</td>\n",
       "      <td>20.5</td>\n",
       "      <td>0.0</td>\n",
       "      <td>17.985714</td>\n",
       "      <td>19.763333</td>\n",
       "      <td>0.0</td>\n",
       "      <td>44.750000</td>\n",
       "      <td>0.0</td>\n",
       "      <td>26.0</td>\n",
       "      <td>204.016868</td>\n",
       "      <td>92.697692</td>\n",
       "      <td>0.0</td>\n",
       "      <td>1.0</td>\n",
       "    </tr>\n",
       "    <tr>\n",
       "      <th>15</th>\n",
       "      <td>1.0</td>\n",
       "      <td>1.0</td>\n",
       "      <td>0.0</td>\n",
       "      <td>3.038065</td>\n",
       "      <td>0.0</td>\n",
       "      <td>0.0</td>\n",
       "      <td>20.5</td>\n",
       "      <td>0.0</td>\n",
       "      <td>18.000000</td>\n",
       "      <td>19.716667</td>\n",
       "      <td>0.0</td>\n",
       "      <td>44.725000</td>\n",
       "      <td>0.0</td>\n",
       "      <td>26.0</td>\n",
       "      <td>203.359389</td>\n",
       "      <td>92.689231</td>\n",
       "      <td>0.0</td>\n",
       "      <td>1.0</td>\n",
       "    </tr>\n",
       "    <tr>\n",
       "      <th>16</th>\n",
       "      <td>1.0</td>\n",
       "      <td>1.0</td>\n",
       "      <td>0.0</td>\n",
       "      <td>3.038387</td>\n",
       "      <td>0.0</td>\n",
       "      <td>0.0</td>\n",
       "      <td>20.5</td>\n",
       "      <td>0.0</td>\n",
       "      <td>18.014286</td>\n",
       "      <td>19.670000</td>\n",
       "      <td>0.0</td>\n",
       "      <td>44.700000</td>\n",
       "      <td>0.0</td>\n",
       "      <td>26.0</td>\n",
       "      <td>202.701909</td>\n",
       "      <td>92.680769</td>\n",
       "      <td>0.0</td>\n",
       "      <td>1.0</td>\n",
       "    </tr>\n",
       "    <tr>\n",
       "      <th>17</th>\n",
       "      <td>1.0</td>\n",
       "      <td>1.0</td>\n",
       "      <td>0.0</td>\n",
       "      <td>3.038710</td>\n",
       "      <td>0.0</td>\n",
       "      <td>0.0</td>\n",
       "      <td>20.5</td>\n",
       "      <td>0.0</td>\n",
       "      <td>18.028571</td>\n",
       "      <td>19.606667</td>\n",
       "      <td>0.0</td>\n",
       "      <td>44.675000</td>\n",
       "      <td>0.0</td>\n",
       "      <td>26.0</td>\n",
       "      <td>202.044429</td>\n",
       "      <td>92.672308</td>\n",
       "      <td>0.0</td>\n",
       "      <td>1.0</td>\n",
       "    </tr>\n",
       "    <tr>\n",
       "      <th>18</th>\n",
       "      <td>1.0</td>\n",
       "      <td>1.0</td>\n",
       "      <td>0.0</td>\n",
       "      <td>3.039032</td>\n",
       "      <td>0.0</td>\n",
       "      <td>0.0</td>\n",
       "      <td>20.5</td>\n",
       "      <td>0.0</td>\n",
       "      <td>18.042857</td>\n",
       "      <td>19.543333</td>\n",
       "      <td>0.0</td>\n",
       "      <td>44.650000</td>\n",
       "      <td>0.0</td>\n",
       "      <td>26.0</td>\n",
       "      <td>201.386950</td>\n",
       "      <td>92.663846</td>\n",
       "      <td>0.0</td>\n",
       "      <td>1.0</td>\n",
       "    </tr>\n",
       "    <tr>\n",
       "      <th>19</th>\n",
       "      <td>1.0</td>\n",
       "      <td>1.0</td>\n",
       "      <td>0.0</td>\n",
       "      <td>3.039355</td>\n",
       "      <td>0.0</td>\n",
       "      <td>0.0</td>\n",
       "      <td>20.5</td>\n",
       "      <td>0.0</td>\n",
       "      <td>18.057143</td>\n",
       "      <td>19.480000</td>\n",
       "      <td>0.0</td>\n",
       "      <td>44.625000</td>\n",
       "      <td>0.0</td>\n",
       "      <td>26.0</td>\n",
       "      <td>200.311730</td>\n",
       "      <td>92.655385</td>\n",
       "      <td>0.0</td>\n",
       "      <td>1.0</td>\n",
       "    </tr>\n",
       "  </tbody>\n",
       "</table>\n",
       "</div>"
      ],
      "text/plain": [
       "    in_the_area  presence  in_bed  openweathermap_temperature  \\\n",
       "0           1.0       1.0     0.0                    3.033226   \n",
       "1           1.0       1.0     0.0                    3.033548   \n",
       "2           1.0       1.0     0.0                    3.033871   \n",
       "3           1.0       1.0     0.0                    3.034194   \n",
       "4           1.0       1.0     0.0                    3.034516   \n",
       "5           1.0       1.0     0.0                    3.034839   \n",
       "6           1.0       1.0     0.0                    3.035161   \n",
       "7           1.0       1.0     0.0                    3.035484   \n",
       "8           1.0       1.0     0.0                    3.035806   \n",
       "9           1.0       1.0     0.0                    3.036129   \n",
       "10          1.0       1.0     0.0                    3.036452   \n",
       "11          1.0       1.0     0.0                    3.036774   \n",
       "12          1.0       1.0     0.0                    3.037097   \n",
       "13          1.0       1.0     0.0                    3.037419   \n",
       "14          1.0       1.0     0.0                    3.037742   \n",
       "15          1.0       1.0     0.0                    3.038065   \n",
       "16          1.0       1.0     0.0                    3.038387   \n",
       "17          1.0       1.0     0.0                    3.038710   \n",
       "18          1.0       1.0     0.0                    3.039032   \n",
       "19          1.0       1.0     0.0                    3.039355   \n",
       "\n",
       "    outdoor_temperature_increasing_2  outdoor_temperature_decreasing  \\\n",
       "0                                0.0                             0.0   \n",
       "1                                0.0                             0.0   \n",
       "2                                0.0                             0.0   \n",
       "3                                0.0                             0.0   \n",
       "4                                0.0                             0.0   \n",
       "5                                0.0                             0.0   \n",
       "6                                0.0                             0.0   \n",
       "7                                0.0                             0.0   \n",
       "8                                0.0                             0.0   \n",
       "9                                0.0                             0.0   \n",
       "10                               0.0                             0.0   \n",
       "11                               0.0                             0.0   \n",
       "12                               0.0                             0.0   \n",
       "13                               0.0                             0.0   \n",
       "14                               0.0                             0.0   \n",
       "15                               0.0                             0.0   \n",
       "16                               0.0                             0.0   \n",
       "17                               0.0                             0.0   \n",
       "18                               0.0                             0.0   \n",
       "19                               0.0                             0.0   \n",
       "\n",
       "    thermostat_base_heating_sp  living_room_occupancy  \\\n",
       "0                         20.5                    0.0   \n",
       "1                         20.5                    0.0   \n",
       "2                         20.5                    0.0   \n",
       "3                         20.5                    0.0   \n",
       "4                         20.5                    0.0   \n",
       "5                         20.5                    0.0   \n",
       "6                         20.5                    0.0   \n",
       "7                         20.5                    0.0   \n",
       "8                         20.5                    0.0   \n",
       "9                         20.5                    0.0   \n",
       "10                        20.5                    0.0   \n",
       "11                        20.5                    0.0   \n",
       "12                        20.5                    0.0   \n",
       "13                        20.5                    0.0   \n",
       "14                        20.5                    0.0   \n",
       "15                        20.5                    0.0   \n",
       "16                        20.5                    0.0   \n",
       "17                        20.5                    0.0   \n",
       "18                        20.5                    0.0   \n",
       "19                        20.5                    0.0   \n",
       "\n",
       "    multisensor_air_temperature  elevation  humidity_setpoint  house_humidity  \\\n",
       "0                     17.792308  20.433636                0.0       44.622222   \n",
       "1                     17.800000  20.382727                0.0       44.644444   \n",
       "2                     17.814286  20.331818                0.0       44.666667   \n",
       "3                     17.828571  20.280909                0.0       44.688889   \n",
       "4                     17.842857  20.230000                0.0       44.711111   \n",
       "5                     17.857143  20.183333                0.0       44.733333   \n",
       "6                     17.871429  20.136667                0.0       44.755556   \n",
       "7                     17.885714  20.090000                0.0       44.777778   \n",
       "8                     17.900000  20.043333                0.0       44.800000   \n",
       "9                     17.914286  19.996667                0.0       44.600000   \n",
       "10                    17.928571  19.950000                0.0       44.800000   \n",
       "11                    17.942857  19.903333                0.0       44.600000   \n",
       "12                    17.957143  19.856667                0.0       44.800000   \n",
       "13                    17.971429  19.810000                0.0       44.775000   \n",
       "14                    17.985714  19.763333                0.0       44.750000   \n",
       "15                    18.000000  19.716667                0.0       44.725000   \n",
       "16                    18.014286  19.670000                0.0       44.700000   \n",
       "17                    18.028571  19.606667                0.0       44.675000   \n",
       "18                    18.042857  19.543333                0.0       44.650000   \n",
       "19                    18.057143  19.480000                0.0       44.625000   \n",
       "\n",
       "    water_heater_low_heat  thermostat_base_cooling_sp  total_radiations  \\\n",
       "0                     0.0                        26.0        213.859524   \n",
       "1                     0.0                        26.0        213.074456   \n",
       "2                     0.0                        26.0        212.289389   \n",
       "3                     0.0                        26.0        211.504321   \n",
       "4                     0.0                        26.0        210.719253   \n",
       "5                     0.0                        26.0        209.934185   \n",
       "6                     0.0                        26.0        209.276706   \n",
       "7                     0.0                        26.0        208.619226   \n",
       "8                     0.0                        26.0        207.961746   \n",
       "9                     0.0                        26.0        207.304267   \n",
       "10                    0.0                        26.0        206.646787   \n",
       "11                    0.0                        26.0        205.989307   \n",
       "12                    0.0                        26.0        205.331828   \n",
       "13                    0.0                        26.0        204.674348   \n",
       "14                    0.0                        26.0        204.016868   \n",
       "15                    0.0                        26.0        203.359389   \n",
       "16                    0.0                        26.0        202.701909   \n",
       "17                    0.0                        26.0        202.044429   \n",
       "18                    0.0                        26.0        201.386950   \n",
       "19                    0.0                        26.0        200.311730   \n",
       "\n",
       "    openweathermap_cloud_coverage  openings  electricity_peak_cost  \n",
       "0                       92.816154       0.0                    1.0  \n",
       "1                       92.807692       0.0                    1.0  \n",
       "2                       92.799231       1.0                    1.0  \n",
       "3                       92.790769       0.0                    1.0  \n",
       "4                       92.782308       0.0                    1.0  \n",
       "5                       92.773846       0.0                    1.0  \n",
       "6                       92.765385       0.0                    1.0  \n",
       "7                       92.756923       0.0                    1.0  \n",
       "8                       92.748462       0.0                    1.0  \n",
       "9                       92.740000       0.0                    1.0  \n",
       "10                      92.731538       0.0                    1.0  \n",
       "11                      92.723077       0.0                    1.0  \n",
       "12                      92.714615       0.0                    1.0  \n",
       "13                      92.706154       0.0                    1.0  \n",
       "14                      92.697692       0.0                    1.0  \n",
       "15                      92.689231       0.0                    1.0  \n",
       "16                      92.680769       0.0                    1.0  \n",
       "17                      92.672308       0.0                    1.0  \n",
       "18                      92.663846       0.0                    1.0  \n",
       "19                      92.655385       0.0                    1.0  "
      ]
     },
     "execution_count": 4,
     "metadata": {},
     "output_type": "execute_result"
    }
   ],
   "source": [
    "print(full_df.head(10))\n",
    "feature_names = variables[\"features\"]\n",
    "\n",
    "for feature in variables[\"numeric_features\"]:\n",
    "    full_df[feature] = pd.Series.interpolate(full_df[feature])\n",
    "\n",
    "full_df.ffill(inplace=True)\n",
    "full_df[\"home_status\"] = full_df[\"in_bed\"] + full_df[\"presence\"]\n",
    "\n",
    "print(full_df.shape)\n",
    "full_df = full_df[full_df['ha_started']==1]\n",
    "mask_heat = full_df['state']=='heat'\n",
    "mask_cool = full_df['state']=='cool'\n",
    "mask_off = full_df['state']=='off'\n",
    "full_df.loc[mask_heat, 'target_temp_low'] = full_df.loc[mask_heat, 'temperature']\n",
    "full_df.loc[mask_cool, 'target_temp_high'] = full_df.loc[mask_cool, 'temperature']\n",
    "full_df.loc[mask_off, 'target_temp_low'] = 14\n",
    "full_df.loc[mask_off, 'target_temp_high'] = 34\n",
    "full_df.loc[pd.to_numeric(full_df['target_temp_low']) < 14, 'target_temp_low'] = 14\n",
    "full_df.loc[pd.to_numeric(full_df['target_temp_low']) > 21, 'target_temp_low'] = 20.5\n",
    "full_df.loc[pd.to_numeric(full_df['target_temp_high']) > 34, 'target_temp_high'] = 34\n",
    "full_df.loc[pd.to_numeric(full_df['target_temp_high']) < 20, 'target_temp_high'] = 34\n",
    "full_df['target_temp_low'].fillna(14)\n",
    "full_df['target_temp_high'].fillna(34)\n",
    "full_df.reset_index(inplace=True)\n",
    "new_df = full_df[['_time'] + variables[\"features\"] + variables[\"targets\"]].copy()\n",
    "new_df.reset_index(inplace=True)\n",
    "new_df.dropna(inplace=True)\n",
    "new_df.drop_duplicates(feature_names, inplace=True, ignore_index=True)\n",
    "print(new_df.head(10))\n",
    "new_df = new_df[new_df['_time']> start_time].copy()\n",
    "print(new_df.shape)\n",
    "\n",
    "target = new_df[variables[\"targets\"]].copy()\n",
    "numeric_features = new_df[feature_names].copy()\n",
    "numeric_features.head(20)\n"
   ]
  },
  {
   "cell_type": "markdown",
   "metadata": {},
   "source": [
    "# mlflow setup"
   ]
  },
  {
   "cell_type": "code",
   "execution_count": 5,
   "metadata": {},
   "outputs": [
    {
     "name": "stdout",
     "output_type": "stream",
     "text": [
      "   index                            _time  in_the_area  presence  in_bed  \\\n",
      "0      0 2024-02-15 20:54:14.248861+00:00          1.0       1.0     0.0   \n",
      "1      1 2024-02-15 20:54:35.243344+00:00          1.0       1.0     0.0   \n",
      "2      2 2024-02-15 20:54:53.958553+00:00          1.0       1.0     0.0   \n",
      "3      3 2024-02-15 20:54:58.196191+00:00          1.0       1.0     0.0   \n",
      "4      4 2024-02-15 20:55:58.047006+00:00          1.0       1.0     0.0   \n",
      "5      5 2024-02-15 20:55:58.119453+00:00          1.0       1.0     0.0   \n",
      "6      6 2024-02-15 20:55:58.158277+00:00          1.0       1.0     0.0   \n",
      "7      7 2024-02-15 20:55:58.164839+00:00          1.0       1.0     0.0   \n",
      "8      8 2024-02-15 20:57:05.711784+00:00          1.0       1.0     0.0   \n",
      "9      9 2024-02-15 20:57:15.729320+00:00          1.0       1.0     0.0   \n",
      "\n",
      "   openweathermap_temperature  outdoor_temperature_increasing_2  \\\n",
      "0                    3.033226                               0.0   \n",
      "1                    3.033548                               0.0   \n",
      "2                    3.033871                               0.0   \n",
      "3                    3.034194                               0.0   \n",
      "4                    3.034516                               0.0   \n",
      "5                    3.034839                               0.0   \n",
      "6                    3.035161                               0.0   \n",
      "7                    3.035484                               0.0   \n",
      "8                    3.035806                               0.0   \n",
      "9                    3.036129                               0.0   \n",
      "\n",
      "   outdoor_temperature_decreasing  thermostat_base_heating_sp  \\\n",
      "0                             0.0                        20.5   \n",
      "1                             0.0                        20.5   \n",
      "2                             0.0                        20.5   \n",
      "3                             0.0                        20.5   \n",
      "4                             0.0                        20.5   \n",
      "5                             0.0                        20.5   \n",
      "6                             0.0                        20.5   \n",
      "7                             0.0                        20.5   \n",
      "8                             0.0                        20.5   \n",
      "9                             0.0                        20.5   \n",
      "\n",
      "   living_room_occupancy  ...  humidity_setpoint  house_humidity  \\\n",
      "0                    0.0  ...                0.0       44.622222   \n",
      "1                    0.0  ...                0.0       44.644444   \n",
      "2                    0.0  ...                0.0       44.666667   \n",
      "3                    0.0  ...                0.0       44.688889   \n",
      "4                    0.0  ...                0.0       44.711111   \n",
      "5                    0.0  ...                0.0       44.733333   \n",
      "6                    0.0  ...                0.0       44.755556   \n",
      "7                    0.0  ...                0.0       44.777778   \n",
      "8                    0.0  ...                0.0       44.800000   \n",
      "9                    0.0  ...                0.0       44.600000   \n",
      "\n",
      "   water_heater_low_heat  thermostat_base_cooling_sp  total_radiations  \\\n",
      "0                    0.0                        26.0        213.859524   \n",
      "1                    0.0                        26.0        213.074456   \n",
      "2                    0.0                        26.0        212.289389   \n",
      "3                    0.0                        26.0        211.504321   \n",
      "4                    0.0                        26.0        210.719253   \n",
      "5                    0.0                        26.0        209.934185   \n",
      "6                    0.0                        26.0        209.276706   \n",
      "7                    0.0                        26.0        208.619226   \n",
      "8                    0.0                        26.0        207.961746   \n",
      "9                    0.0                        26.0        207.304267   \n",
      "\n",
      "   openweathermap_cloud_coverage  openings  electricity_peak_cost  \\\n",
      "0                      92.816154       0.0                    1.0   \n",
      "1                      92.807692       0.0                    1.0   \n",
      "2                      92.799231       1.0                    1.0   \n",
      "3                      92.790769       0.0                    1.0   \n",
      "4                      92.782308       0.0                    1.0   \n",
      "5                      92.773846       0.0                    1.0   \n",
      "6                      92.765385       0.0                    1.0   \n",
      "7                      92.756923       0.0                    1.0   \n",
      "8                      92.748462       0.0                    1.0   \n",
      "9                      92.740000       0.0                    1.0   \n",
      "\n",
      "   target_temp_high  target_temp_low  \n",
      "0              33.9             20.0  \n",
      "1              33.9             20.0  \n",
      "2              33.9             20.0  \n",
      "3              33.9             20.0  \n",
      "4              33.9             20.0  \n",
      "5              33.9             20.0  \n",
      "6              33.9             20.0  \n",
      "7              33.9             20.0  \n",
      "8              33.9             20.0  \n",
      "9              33.9             20.0  \n",
      "\n",
      "[10 rows x 22 columns]\n",
      "                             index                            _time  \\\n",
      "0 2024-02-15 20:54:14.248861+00:00 2024-02-15 20:54:14.248861+00:00   \n",
      "1                              NaT 2024-02-15 20:54:35.243344+00:00   \n",
      "2                              NaT 2024-02-15 20:54:53.958553+00:00   \n",
      "3                              NaT 2024-02-15 20:54:58.196191+00:00   \n",
      "4                              NaT 2024-02-15 20:55:58.047006+00:00   \n",
      "5                              NaT 2024-02-15 20:55:58.119453+00:00   \n",
      "6                              NaT 2024-02-15 20:55:58.158277+00:00   \n",
      "7                              NaT 2024-02-15 20:55:58.164839+00:00   \n",
      "8                              NaT 2024-02-15 20:57:05.711784+00:00   \n",
      "9                              NaT 2024-02-15 20:57:15.729320+00:00   \n",
      "\n",
      "   ha_started  in_the_area  presence  in_bed  openweathermap_temperature  \\\n",
      "0         1.0          1.0       1.0     0.0                    3.033226   \n",
      "1         1.0          1.0       1.0     0.0                    3.033548   \n",
      "2         1.0          1.0       1.0     0.0                    3.033871   \n",
      "3         1.0          1.0       1.0     0.0                    3.034194   \n",
      "4         1.0          1.0       1.0     0.0                    3.034516   \n",
      "5         1.0          1.0       1.0     0.0                    3.034839   \n",
      "6         1.0          1.0       1.0     0.0                    3.035161   \n",
      "7         1.0          1.0       1.0     0.0                    3.035484   \n",
      "8         1.0          1.0       1.0     0.0                    3.035806   \n",
      "9         1.0          1.0       1.0     0.0                    3.036129   \n",
      "\n",
      "   cloudliness  thermostat_base_heating_sp  living_room_occupancy  ...  \\\n",
      "0        -0.11                        20.5                    0.0  ...   \n",
      "1        -0.11                        20.5                    0.0  ...   \n",
      "2        -0.11                        20.5                    0.0  ...   \n",
      "3        -0.11                        20.5                    0.0  ...   \n",
      "4        -0.11                        20.5                    0.0  ...   \n",
      "5        -0.11                        20.5                    0.0  ...   \n",
      "6        -0.11                        20.5                    0.0  ...   \n",
      "7        -0.11                        20.5                    0.0  ...   \n",
      "8        -0.11                        20.5                    0.0  ...   \n",
      "9        -0.11                        20.5                    0.0  ...   \n",
      "\n",
      "   outdoor_temperature_increasing_2  outdoor_temperature_decreasing  \\\n",
      "0                               0.0                             0.0   \n",
      "1                               0.0                             0.0   \n",
      "2                               0.0                             0.0   \n",
      "3                               0.0                             0.0   \n",
      "4                               0.0                             0.0   \n",
      "5                               0.0                             0.0   \n",
      "6                               0.0                             0.0   \n",
      "7                               0.0                             0.0   \n",
      "8                               0.0                             0.0   \n",
      "9                               0.0                             0.0   \n",
      "\n",
      "   temperature  target_temp_high  target_temp_low  state  openings  \\\n",
      "0         20.0              33.9             20.0   heat       0.0   \n",
      "1         20.0              33.9             20.0   heat       0.0   \n",
      "2         20.0              33.9             20.0   heat       1.0   \n",
      "3         20.0              33.9             20.0   heat       0.0   \n",
      "4         20.0              33.9             20.0   heat       0.0   \n",
      "5         20.0              33.9             20.0   heat       0.0   \n",
      "6         20.0              33.9             20.0   heat       0.0   \n",
      "7         20.0              33.9             20.0   heat       0.0   \n",
      "8         20.0              33.9             20.0   heat       0.0   \n",
      "9         20.0              33.9             20.0   heat       0.0   \n",
      "\n",
      "   electricity_peak_cost  multisensor_air_temperature  home_status  \n",
      "0                    1.0                    17.792308          1.0  \n",
      "1                    1.0                    17.800000          1.0  \n",
      "2                    1.0                    17.814286          1.0  \n",
      "3                    1.0                    17.828571          1.0  \n",
      "4                    1.0                    17.842857          1.0  \n",
      "5                    1.0                    17.857143          1.0  \n",
      "6                    1.0                    17.871429          1.0  \n",
      "7                    1.0                    17.885714          1.0  \n",
      "8                    1.0                    17.900000          1.0  \n",
      "9                    1.0                    17.914286          1.0  \n",
      "\n",
      "[10 rows x 27 columns]\n"
     ]
    },
    {
     "data": {
      "text/plain": [
       "[<matplotlib.lines.Line2D at 0x7c4a4ce056d0>]"
      ]
     },
     "execution_count": 5,
     "metadata": {},
     "output_type": "execute_result"
    },
    {
     "data": {
      "image/png": "[encoded data removed]",
      "text/plain": [
       "<Figure size 640x480 with 3 Axes>"
      ]
     },
     "metadata": {},
     "output_type": "display_data"
    }
   ],
   "source": [
    "print(new_df.head(10))\n",
    "print(full_df.head(10))\n",
    "\n",
    "#target.loc[target[\"target_temp_low\"]>25, \"target_temp_low\"] = 20.5\n",
    "plt.subplot(311)\n",
    "plt.plot(new_df['_time'], target[\"target_temp_high\"], )\n",
    "plt.subplot(312)\n",
    "plt.plot(new_df['_time'], target[\"target_temp_low\"])\n",
    "plt.subplot(313)\n",
    "plt.plot(full_df['_time'], full_df[\"temperature\"])"
   ]
  },
  {
   "cell_type": "code",
   "execution_count": 6,
   "metadata": {},
   "outputs": [
    {
     "name": "stderr",
     "output_type": "stream",
     "text": [
      "/workspaces/python/.venv/lib/python3.11/site-packages/urllib3/connectionpool.py:1103: InsecureRequestWarning: Unverified HTTPS request is being made to host 'mlflow.ap-home'. Adding certificate verification is strongly advised. See: https://urllib3.readthedocs.io/en/latest/advanced-usage.html#tls-warnings\n",
      "  warnings.warn(\n",
      "2024/04/03 02:10:15 WARNING mlflow.utils.autologging_utils: You are using an unsupported version of keras. If you encounter errors during autologging, try upgrading / downgrading keras to a supported version, or try upgrading MLflow.\n",
      "2024/04/03 02:10:15 INFO mlflow.tracking.fluent: Autologging successfully enabled for keras.\n",
      "2024/04/03 02:10:15 WARNING mlflow.utils.autologging_utils: You are using an unsupported version of tensorflow. If you encounter errors during autologging, try upgrading / downgrading tensorflow to a supported version, or try upgrading MLflow.\n",
      "2024/04/03 02:10:15 INFO mlflow.tracking.fluent: Autologging successfully enabled for tensorflow.\n"
     ]
    }
   ],
   "source": [
    "os.environ[\"MLFLOW_TRACKING_INSECURE_TLS\"] = \"true\"\n",
    "mlflow.set_tracking_uri(uri=variables[\"mlflow\"][\"url\"])\n",
    "mlflow.set_experiment(\"Thermostat setpoint\")\n",
    "\n",
    "\n",
    "mlflow.autolog()\n",
    "\n",
    "import tensorflow as tf\n",
    "from tensorflow.keras.models import Sequential\n",
    "from tensorflow.keras.layers import LSTM, Dense, Flatten, Conv1D, MaxPooling1D, Normalization, Dropout, Reshape, Conv2D, MaxPooling2D\n",
    "from tensorflow.keras.metrics import R2Score\n"
   ]
  },
  {
   "cell_type": "markdown",
   "metadata": {},
   "source": [
    "# Data transformation"
   ]
  },
  {
   "cell_type": "code",
   "execution_count": null,
   "metadata": {},
   "outputs": [],
   "source": []
  },
  {
   "cell_type": "markdown",
   "metadata": {},
   "source": [
    "# Model, pipeline setup and fit"
   ]
  },
  {
   "cell_type": "code",
   "execution_count": 7,
   "metadata": {},
   "outputs": [
    {
     "name": "stderr",
     "output_type": "stream",
     "text": [
      "/workspaces/python/.venv/lib/python3.11/site-packages/keras/src/layers/preprocessing/normalization.py:99: UserWarning: Do not pass an `input_shape`/`input_dim` argument to a layer. When using Sequential models, prefer using an `Input(shape)` object as the first layer in the model instead.\n",
      "  super().__init__(**kwargs)\n"
     ]
    },
    {
     "name": "stdout",
     "output_type": "stream",
     "text": [
      "mean: 19.377714592647983\n",
      "variance: 4422.0576764147645\n"
     ]
    },
    {
     "data": {
      "text/html": [
       "<pre style=\"white-space:pre;overflow-x:auto;line-height:normal;font-family:Menlo,'DejaVu Sans Mono',consolas,'Courier New',monospace\"><span style=\"font-weight: bold\">Model: \"sequential\"</span>\n",
       "</pre>\n"
      ],
      "text/plain": [
       "\u001b[1mModel: \"sequential\"\u001b[0m\n"
      ]
     },
     "metadata": {},
     "output_type": "display_data"
    },
    {
     "data": {
      "text/html": [
       "<pre style=\"white-space:pre;overflow-x:auto;line-height:normal;font-family:Menlo,'DejaVu Sans Mono',consolas,'Courier New',monospace\">┏━━━━━━━━━━━━━━━━━━━━━━━━━━━━━━━━━┳━━━━━━━━━━━━━━━━━━━━━━━━┳━━━━━━━━━━━━━━━┓\n",
       "┃<span style=\"font-weight: bold\"> Layer (type)                    </span>┃<span style=\"font-weight: bold\"> Output Shape           </span>┃<span style=\"font-weight: bold\">       Param # </span>┃\n",
       "┡━━━━━━━━━━━━━━━━━━━━━━━━━━━━━━━━━╇━━━━━━━━━━━━━━━━━━━━━━━━╇━━━━━━━━━━━━━━━┩\n",
       "│ normalization (<span style=\"color: #0087ff; text-decoration-color: #0087ff\">Normalization</span>)   │ (<span style=\"color: #00d7ff; text-decoration-color: #00d7ff\">None</span>, <span style=\"color: #00af00; text-decoration-color: #00af00\">18</span>)             │             <span style=\"color: #00af00; text-decoration-color: #00af00\">0</span> │\n",
       "├─────────────────────────────────┼────────────────────────┼───────────────┤\n",
       "│ reshape (<span style=\"color: #0087ff; text-decoration-color: #0087ff\">Reshape</span>)               │ (<span style=\"color: #00d7ff; text-decoration-color: #00d7ff\">None</span>, <span style=\"color: #00af00; text-decoration-color: #00af00\">3</span>, <span style=\"color: #00af00; text-decoration-color: #00af00\">6</span>)           │             <span style=\"color: #00af00; text-decoration-color: #00af00\">0</span> │\n",
       "├─────────────────────────────────┼────────────────────────┼───────────────┤\n",
       "│ lstm (<span style=\"color: #0087ff; text-decoration-color: #0087ff\">LSTM</span>)                     │ (<span style=\"color: #00d7ff; text-decoration-color: #00d7ff\">None</span>, <span style=\"color: #00af00; text-decoration-color: #00af00\">3</span>, <span style=\"color: #00af00; text-decoration-color: #00af00\">256</span>)         │       <span style=\"color: #00af00; text-decoration-color: #00af00\">269,312</span> │\n",
       "├─────────────────────────────────┼────────────────────────┼───────────────┤\n",
       "│ flatten (<span style=\"color: #0087ff; text-decoration-color: #0087ff\">Flatten</span>)               │ (<span style=\"color: #00d7ff; text-decoration-color: #00d7ff\">None</span>, <span style=\"color: #00af00; text-decoration-color: #00af00\">768</span>)            │             <span style=\"color: #00af00; text-decoration-color: #00af00\">0</span> │\n",
       "├─────────────────────────────────┼────────────────────────┼───────────────┤\n",
       "│ dense (<span style=\"color: #0087ff; text-decoration-color: #0087ff\">Dense</span>)                   │ (<span style=\"color: #00d7ff; text-decoration-color: #00d7ff\">None</span>, <span style=\"color: #00af00; text-decoration-color: #00af00\">512</span>)            │       <span style=\"color: #00af00; text-decoration-color: #00af00\">393,728</span> │\n",
       "├─────────────────────────────────┼────────────────────────┼───────────────┤\n",
       "│ dropout (<span style=\"color: #0087ff; text-decoration-color: #0087ff\">Dropout</span>)               │ (<span style=\"color: #00d7ff; text-decoration-color: #00d7ff\">None</span>, <span style=\"color: #00af00; text-decoration-color: #00af00\">512</span>)            │             <span style=\"color: #00af00; text-decoration-color: #00af00\">0</span> │\n",
       "├─────────────────────────────────┼────────────────────────┼───────────────┤\n",
       "│ dense_1 (<span style=\"color: #0087ff; text-decoration-color: #0087ff\">Dense</span>)                 │ (<span style=\"color: #00d7ff; text-decoration-color: #00d7ff\">None</span>, <span style=\"color: #00af00; text-decoration-color: #00af00\">512</span>)            │       <span style=\"color: #00af00; text-decoration-color: #00af00\">262,656</span> │\n",
       "├─────────────────────────────────┼────────────────────────┼───────────────┤\n",
       "│ dropout_1 (<span style=\"color: #0087ff; text-decoration-color: #0087ff\">Dropout</span>)             │ (<span style=\"color: #00d7ff; text-decoration-color: #00d7ff\">None</span>, <span style=\"color: #00af00; text-decoration-color: #00af00\">512</span>)            │             <span style=\"color: #00af00; text-decoration-color: #00af00\">0</span> │\n",
       "├─────────────────────────────────┼────────────────────────┼───────────────┤\n",
       "│ dense_2 (<span style=\"color: #0087ff; text-decoration-color: #0087ff\">Dense</span>)                 │ (<span style=\"color: #00d7ff; text-decoration-color: #00d7ff\">None</span>, <span style=\"color: #00af00; text-decoration-color: #00af00\">256</span>)            │       <span style=\"color: #00af00; text-decoration-color: #00af00\">131,328</span> │\n",
       "├─────────────────────────────────┼────────────────────────┼───────────────┤\n",
       "│ dropout_2 (<span style=\"color: #0087ff; text-decoration-color: #0087ff\">Dropout</span>)             │ (<span style=\"color: #00d7ff; text-decoration-color: #00d7ff\">None</span>, <span style=\"color: #00af00; text-decoration-color: #00af00\">256</span>)            │             <span style=\"color: #00af00; text-decoration-color: #00af00\">0</span> │\n",
       "├─────────────────────────────────┼────────────────────────┼───────────────┤\n",
       "│ dense_3 (<span style=\"color: #0087ff; text-decoration-color: #0087ff\">Dense</span>)                 │ (<span style=\"color: #00d7ff; text-decoration-color: #00d7ff\">None</span>, <span style=\"color: #00af00; text-decoration-color: #00af00\">128</span>)            │        <span style=\"color: #00af00; text-decoration-color: #00af00\">32,896</span> │\n",
       "├─────────────────────────────────┼────────────────────────┼───────────────┤\n",
       "│ dropout_3 (<span style=\"color: #0087ff; text-decoration-color: #0087ff\">Dropout</span>)             │ (<span style=\"color: #00d7ff; text-decoration-color: #00d7ff\">None</span>, <span style=\"color: #00af00; text-decoration-color: #00af00\">128</span>)            │             <span style=\"color: #00af00; text-decoration-color: #00af00\">0</span> │\n",
       "├─────────────────────────────────┼────────────────────────┼───────────────┤\n",
       "│ dense_4 (<span style=\"color: #0087ff; text-decoration-color: #0087ff\">Dense</span>)                 │ (<span style=\"color: #00d7ff; text-decoration-color: #00d7ff\">None</span>, <span style=\"color: #00af00; text-decoration-color: #00af00\">2</span>)              │           <span style=\"color: #00af00; text-decoration-color: #00af00\">258</span> │\n",
       "└─────────────────────────────────┴────────────────────────┴───────────────┘\n",
       "</pre>\n"
      ],
      "text/plain": [
       "┏━━━━━━━━━━━━━━━━━━━━━━━━━━━━━━━━━┳━━━━━━━━━━━━━━━━━━━━━━━━┳━━━━━━━━━━━━━━━┓\n",
       "┃\u001b[1m \u001b[0m\u001b[1mLayer (type)                   \u001b[0m\u001b[1m \u001b[0m┃\u001b[1m \u001b[0m\u001b[1mOutput Shape          \u001b[0m\u001b[1m \u001b[0m┃\u001b[1m \u001b[0m\u001b[1m      Param #\u001b[0m\u001b[1m \u001b[0m┃\n",
       "┡━━━━━━━━━━━━━━━━━━━━━━━━━━━━━━━━━╇━━━━━━━━━━━━━━━━━━━━━━━━╇━━━━━━━━━━━━━━━┩\n",
       "│ normalization (\u001b[38;5;33mNormalization\u001b[0m)   │ (\u001b[38;5;45mNone\u001b[0m, \u001b[38;5;34m18\u001b[0m)             │             \u001b[38;5;34m0\u001b[0m │\n",
       "├─────────────────────────────────┼────────────────────────┼───────────────┤\n",
       "│ reshape (\u001b[38;5;33mReshape\u001b[0m)               │ (\u001b[38;5;45mNone\u001b[0m, \u001b[38;5;34m3\u001b[0m, \u001b[38;5;34m6\u001b[0m)           │             \u001b[38;5;34m0\u001b[0m │\n",
       "├─────────────────────────────────┼────────────────────────┼───────────────┤\n",
       "│ lstm (\u001b[38;5;33mLSTM\u001b[0m)                     │ (\u001b[38;5;45mNone\u001b[0m, \u001b[38;5;34m3\u001b[0m, \u001b[38;5;34m256\u001b[0m)         │       \u001b[38;5;34m269,312\u001b[0m │\n",
       "├─────────────────────────────────┼────────────────────────┼───────────────┤\n",
       "│ flatten (\u001b[38;5;33mFlatten\u001b[0m)               │ (\u001b[38;5;45mNone\u001b[0m, \u001b[38;5;34m768\u001b[0m)            │             \u001b[38;5;34m0\u001b[0m │\n",
       "├─────────────────────────────────┼────────────────────────┼───────────────┤\n",
       "│ dense (\u001b[38;5;33mDense\u001b[0m)                   │ (\u001b[38;5;45mNone\u001b[0m, \u001b[38;5;34m512\u001b[0m)            │       \u001b[38;5;34m393,728\u001b[0m │\n",
       "├─────────────────────────────────┼────────────────────────┼───────────────┤\n",
       "│ dropout (\u001b[38;5;33mDropout\u001b[0m)               │ (\u001b[38;5;45mNone\u001b[0m, \u001b[38;5;34m512\u001b[0m)            │             \u001b[38;5;34m0\u001b[0m │\n",
       "├─────────────────────────────────┼────────────────────────┼───────────────┤\n",
       "│ dense_1 (\u001b[38;5;33mDense\u001b[0m)                 │ (\u001b[38;5;45mNone\u001b[0m, \u001b[38;5;34m512\u001b[0m)            │       \u001b[38;5;34m262,656\u001b[0m │\n",
       "├─────────────────────────────────┼────────────────────────┼───────────────┤\n",
       "│ dropout_1 (\u001b[38;5;33mDropout\u001b[0m)             │ (\u001b[38;5;45mNone\u001b[0m, \u001b[38;5;34m512\u001b[0m)            │             \u001b[38;5;34m0\u001b[0m │\n",
       "├─────────────────────────────────┼────────────────────────┼───────────────┤\n",
       "│ dense_2 (\u001b[38;5;33mDense\u001b[0m)                 │ (\u001b[38;5;45mNone\u001b[0m, \u001b[38;5;34m256\u001b[0m)            │       \u001b[38;5;34m131,328\u001b[0m │\n",
       "├─────────────────────────────────┼────────────────────────┼───────────────┤\n",
       "│ dropout_2 (\u001b[38;5;33mDropout\u001b[0m)             │ (\u001b[38;5;45mNone\u001b[0m, \u001b[38;5;34m256\u001b[0m)            │             \u001b[38;5;34m0\u001b[0m │\n",
       "├─────────────────────────────────┼────────────────────────┼───────────────┤\n",
       "│ dense_3 (\u001b[38;5;33mDense\u001b[0m)                 │ (\u001b[38;5;45mNone\u001b[0m, \u001b[38;5;34m128\u001b[0m)            │        \u001b[38;5;34m32,896\u001b[0m │\n",
       "├─────────────────────────────────┼────────────────────────┼───────────────┤\n",
       "│ dropout_3 (\u001b[38;5;33mDropout\u001b[0m)             │ (\u001b[38;5;45mNone\u001b[0m, \u001b[38;5;34m128\u001b[0m)            │             \u001b[38;5;34m0\u001b[0m │\n",
       "├─────────────────────────────────┼────────────────────────┼───────────────┤\n",
       "│ dense_4 (\u001b[38;5;33mDense\u001b[0m)                 │ (\u001b[38;5;45mNone\u001b[0m, \u001b[38;5;34m2\u001b[0m)              │           \u001b[38;5;34m258\u001b[0m │\n",
       "└─────────────────────────────────┴────────────────────────┴───────────────┘\n"
      ]
     },
     "metadata": {},
     "output_type": "display_data"
    },
    {
     "data": {
      "text/html": [
       "<pre style=\"white-space:pre;overflow-x:auto;line-height:normal;font-family:Menlo,'DejaVu Sans Mono',consolas,'Courier New',monospace\"><span style=\"font-weight: bold\"> Total params: </span><span style=\"color: #00af00; text-decoration-color: #00af00\">1,090,178</span> (4.16 MB)\n",
       "</pre>\n"
      ],
      "text/plain": [
       "\u001b[1m Total params: \u001b[0m\u001b[38;5;34m1,090,178\u001b[0m (4.16 MB)\n"
      ]
     },
     "metadata": {},
     "output_type": "display_data"
    },
    {
     "data": {
      "text/html": [
       "<pre style=\"white-space:pre;overflow-x:auto;line-height:normal;font-family:Menlo,'DejaVu Sans Mono',consolas,'Courier New',monospace\"><span style=\"font-weight: bold\"> Trainable params: </span><span style=\"color: #00af00; text-decoration-color: #00af00\">1,090,178</span> (4.16 MB)\n",
       "</pre>\n"
      ],
      "text/plain": [
       "\u001b[1m Trainable params: \u001b[0m\u001b[38;5;34m1,090,178\u001b[0m (4.16 MB)\n"
      ]
     },
     "metadata": {},
     "output_type": "display_data"
    },
    {
     "data": {
      "text/html": [
       "<pre style=\"white-space:pre;overflow-x:auto;line-height:normal;font-family:Menlo,'DejaVu Sans Mono',consolas,'Courier New',monospace\"><span style=\"font-weight: bold\"> Non-trainable params: </span><span style=\"color: #00af00; text-decoration-color: #00af00\">0</span> (0.00 B)\n",
       "</pre>\n"
      ],
      "text/plain": [
       "\u001b[1m Non-trainable params: \u001b[0m\u001b[38;5;34m0\u001b[0m (0.00 B)\n"
      ]
     },
     "metadata": {},
     "output_type": "display_data"
    }
   ],
   "source": [
    "# Define input shape\n",
    "input_shape = (numeric_features.values.shape[1],) \n",
    "\n",
    "mean = np.mean(numeric_features.values)\n",
    "variance = np.var(numeric_features.values)\n",
    "print(f\"mean: {mean}\")\n",
    "print(f\"variance: {variance}\")\n",
    "\n",
    "# Define the model\n",
    "model = Sequential([\n",
    "    #Conv1D(32, 8, input_shape=input_shape, activation='relu'),\n",
    "    # MaxPooling1D(2,2),\n",
    "    Normalization( input_shape=input_shape, mean=mean, variance=variance, axis=None),\n",
    "    Reshape((3,6)),\n",
    "    LSTM(256, return_sequences=True),\n",
    "    # Conv2D(128, (2,3), activation='relu'),\n",
    "    # MaxPooling2D(1,2),\n",
    "    # Conv1D(256, 1, activation='relu'),\n",
    "    # MaxPooling1D(1,2),\n",
    "    Flatten(),\n",
    "    Dense(512, kernel_initializer='normal', activation='relu'),\n",
    "    Dropout(0.5),\n",
    "    Dense(512, kernel_initializer='normal', activation='relu'),\n",
    "    Dropout(0.5),\n",
    "    Dense(256, kernel_initializer='normal', activation='relu'),\n",
    "    Dropout(0.5),\n",
    "    Dense(128, kernel_initializer='normal', activation='relu'),\n",
    "    Dropout(0.5),\n",
    "    Dense(2, kernel_initializer='normal')  # 2 output targets\n",
    "])\n",
    "\n",
    "# Compile the model\n",
    "model.compile(optimizer='adam', loss='mean_absolute_error', metrics=[R2Score(), 'mse', 'mae', 'mape'])\n",
    "\n",
    "# Display the model summary\n",
    "model.summary()\n"
   ]
  },
  {
   "cell_type": "code",
   "execution_count": null,
   "metadata": {},
   "outputs": [],
   "source": []
  },
  {
   "cell_type": "code",
   "execution_count": 8,
   "metadata": {},
   "outputs": [
    {
     "name": "stderr",
     "output_type": "stream",
     "text": [
      "2024/04/03 02:10:16 WARNING mlflow.utils.autologging_utils: MLflow autologging encountered a warning: \"/workspaces/python/.venv/lib/python3.11/site-packages/urllib3/connectionpool.py:1103: InsecureRequestWarning: Unverified HTTPS request is being made to host 'mlflow.ap-home'. Adding certificate verification is strongly advised. See: https://urllib3.readthedocs.io/en/latest/advanced-usage.html#tls-warnings\"\n",
      "2024/04/03 02:10:16 INFO mlflow.utils.autologging_utils: Created MLflow autologging run with ID 'e3d4960c31e54f64bfd8fe0cd96a9366', which will track hyperparameters, performance metrics, model artifacts, and lineage information for the current tensorflow workflow\n",
      "2024/04/03 02:10:16 WARNING mlflow.utils.autologging_utils: MLflow autologging encountered a warning: \"/workspaces/python/.venv/lib/python3.11/site-packages/urllib3/connectionpool.py:1103: InsecureRequestWarning: Unverified HTTPS request is being made to host 'mlflow.ap-home'. Adding certificate verification is strongly advised. See: https://urllib3.readthedocs.io/en/latest/advanced-usage.html#tls-warnings\"\n",
      "2024/04/03 02:10:16 WARNING mlflow.utils.autologging_utils: MLflow autologging encountered a warning: \"/workspaces/python/.venv/lib/python3.11/site-packages/urllib3/connectionpool.py:1103: InsecureRequestWarning: Unverified HTTPS request is being made to host 'mlflow.ap-home'. Adding certificate verification is strongly advised. See: https://urllib3.readthedocs.io/en/latest/advanced-usage.html#tls-warnings\"\n"
     ]
    },
    {
     "name": "stderr",
     "output_type": "stream",
     "text": [
      "/workspaces/python/.venv/lib/python3.11/site-packages/urllib3/connectionpool.py:1103: InsecureRequestWarning: Unverified HTTPS request is being made to host 'mlflow.ap-home'. Adding certificate verification is strongly advised. See: https://urllib3.readthedocs.io/en/latest/advanced-usage.html#tls-warnings\n",
      "  warnings.warn(\n"
     ]
    },
    {
     "data": {
      "text/html": [
       "<pre style=\"white-space:pre;overflow-x:auto;line-height:normal;font-family:Menlo,'DejaVu Sans Mono',consolas,'Courier New',monospace\"></pre>\n"
      ],
      "text/plain": []
     },
     "metadata": {},
     "output_type": "display_data"
    },
    {
     "name": "stderr",
     "output_type": "stream",
     "text": [
      "/workspaces/python/.venv/lib/python3.11/site-packages/urllib3/connectionpool.py:1103: InsecureRequestWarning: Unverified HTTPS request is being made to host 'mlflow.ap-home'. Adding certificate verification is strongly advised. See: https://urllib3.readthedocs.io/en/latest/advanced-usage.html#tls-warnings\n",
      "  warnings.warn(\n"
     ]
    },
    {
     "name": "stdout",
     "output_type": "stream",
     "text": [
      "Epoch 1/100\n",
      "\u001b[1m4046/4050\u001b[0m \u001b[32m━━━━━━━━━━━━━━━━━━━\u001b[0m\u001b[37m━\u001b[0m \u001b[1m0s\u001b[0m 8ms/step - loss: 4.1490 - mae: 4.1490 - mape: 16.2025 - mse: 38.7627 - r2_score: 1170.8512"
     ]
    },
    {
     "name": "stderr",
     "output_type": "stream",
     "text": [
      "/workspaces/python/.venv/lib/python3.11/site-packages/urllib3/connectionpool.py:1103: InsecureRequestWarning: Unverified HTTPS request is being made to host 'mlflow.ap-home'. Adding certificate verification is strongly advised. See: https://urllib3.readthedocs.io/en/latest/advanced-usage.html#tls-warnings\n",
      "  warnings.warn(\n",
      "/workspaces/python/.venv/lib/python3.11/site-packages/urllib3/connectionpool.py:1103: InsecureRequestWarning: Unverified HTTPS request is being made to host 'mlflow.ap-home'. Adding certificate verification is strongly advised. See: https://urllib3.readthedocs.io/en/latest/advanced-usage.html#tls-warnings\n",
      "  warnings.warn(\n",
      "/workspaces/python/.venv/lib/python3.11/site-packages/urllib3/connectionpool.py:1103: InsecureRequestWarning: Unverified HTTPS request is being made to host 'mlflow.ap-home'. Adding certificate verification is strongly advised. See: https://urllib3.readthedocs.io/en/latest/advanced-usage.html#tls-warnings\n",
      "  warnings.warn(\n",
      "WARNING:absl:You are saving your model as an HDF5 file via `model.save()` or `keras.saving.save_model(model)`. This file format is considered legacy. We recommend using instead the native Keras format, e.g. `model.save('my_model.keras')` or `keras.saving.save_model(model, 'my_model.keras')`. \n"
     ]
    },
    {
     "name": "stdout",
     "output_type": "stream",
     "text": [
      "\u001b[1m4050/4050\u001b[0m \u001b[32m━━━━━━━━━━━━━━━━━━━━\u001b[0m\u001b[37m\u001b[0m \u001b[1m40s\u001b[0m 9ms/step - loss: 4.1479 - mae: 4.1479 - mape: 16.1981 - mse: 38.7383 - r2_score: 1167.5323 - val_loss: 1.4464 - val_mae: 1.4465 - val_mape: 5.8060 - val_mse: 2.6264 - val_r2_score: 83.0799\n",
      "Epoch 2/100\n",
      "\u001b[1m4050/4050\u001b[0m \u001b[32m━━━━━━━━━━━━━━━━━━━━\u001b[0m\u001b[37m\u001b[0m \u001b[1m0s\u001b[0m 8ms/step - loss: 2.5537 - mae: 2.5537 - mape: 10.1110 - mse: 10.7029 - r2_score: 437.8769"
     ]
    },
    {
     "name": "stderr",
     "output_type": "stream",
     "text": [
      "/workspaces/python/.venv/lib/python3.11/site-packages/urllib3/connectionpool.py:1103: InsecureRequestWarning: Unverified HTTPS request is being made to host 'mlflow.ap-home'. Adding certificate verification is strongly advised. See: https://urllib3.readthedocs.io/en/latest/advanced-usage.html#tls-warnings\n",
      "  warnings.warn(\n",
      "/workspaces/python/.venv/lib/python3.11/site-packages/urllib3/connectionpool.py:1103: InsecureRequestWarning: Unverified HTTPS request is being made to host 'mlflow.ap-home'. Adding certificate verification is strongly advised. See: https://urllib3.readthedocs.io/en/latest/advanced-usage.html#tls-warnings\n",
      "  warnings.warn(\n",
      "/workspaces/python/.venv/lib/python3.11/site-packages/urllib3/connectionpool.py:1103: InsecureRequestWarning: Unverified HTTPS request is being made to host 'mlflow.ap-home'. Adding certificate verification is strongly advised. See: https://urllib3.readthedocs.io/en/latest/advanced-usage.html#tls-warnings\n",
      "  warnings.warn(\n",
      "WARNING:absl:You are saving your model as an HDF5 file via `model.save()` or `keras.saving.save_model(model)`. This file format is considered legacy. We recommend using instead the native Keras format, e.g. `model.save('my_model.keras')` or `keras.saving.save_model(model, 'my_model.keras')`. \n"
     ]
    },
    {
     "name": "stdout",
     "output_type": "stream",
     "text": [
      "\u001b[1m4050/4050\u001b[0m \u001b[32m━━━━━━━━━━━━━━━━━━━━\u001b[0m\u001b[37m\u001b[0m \u001b[1m36s\u001b[0m 9ms/step - loss: 2.5537 - mae: 2.5537 - mape: 10.1109 - mse: 10.7028 - r2_score: 437.5518 - val_loss: 0.6211 - val_mae: 0.6212 - val_mape: 3.1464 - val_mse: 0.9329 - val_r2_score: 3.2519\n",
      "Epoch 3/100\n",
      "\u001b[1m4050/4050\u001b[0m \u001b[32m━━━━━━━━━━━━━━━━━━━━\u001b[0m\u001b[37m\u001b[0m \u001b[1m33s\u001b[0m 8ms/step - loss: 2.2494 - mae: 2.2494 - mape: 8.9467 - mse: 8.3158 - r2_score: 221.2145 - val_loss: 0.6438 - val_mae: 0.6439 - val_mape: 3.0835 - val_mse: 0.7144 - val_r2_score: 5.0588\n",
      "Epoch 4/100\n",
      "\u001b[1m  15/4050\u001b[0m \u001b[37m━━━━━━━━━━━━━━━━━━━━\u001b[0m \u001b[1m30s\u001b[0m 7ms/step - loss: 2.0928 - mae: 2.0928 - mape: 8.1920 - mse: 7.2339 - r2_score: -16587.5098"
     ]
    },
    {
     "name": "stderr",
     "output_type": "stream",
     "text": [
      "/workspaces/python/.venv/lib/python3.11/site-packages/urllib3/connectionpool.py:1103: InsecureRequestWarning: Unverified HTTPS request is being made to host 'mlflow.ap-home'. Adding certificate verification is strongly advised. See: https://urllib3.readthedocs.io/en/latest/advanced-usage.html#tls-warnings\n",
      "  warnings.warn(\n",
      "/workspaces/python/.venv/lib/python3.11/site-packages/urllib3/connectionpool.py:1103: InsecureRequestWarning: Unverified HTTPS request is being made to host 'mlflow.ap-home'. Adding certificate verification is strongly advised. See: https://urllib3.readthedocs.io/en/latest/advanced-usage.html#tls-warnings\n",
      "  warnings.warn(\n"
     ]
    },
    {
     "name": "stdout",
     "output_type": "stream",
     "text": [
      "\u001b[1m4050/4050\u001b[0m \u001b[32m━━━━━━━━━━━━━━━━━━━━\u001b[0m\u001b[37m\u001b[0m \u001b[1m0s\u001b[0m 8ms/step - loss: 1.9102 - mae: 1.9102 - mape: 7.5644 - mse: 6.0239 - r2_score: -115.3478"
     ]
    },
    {
     "name": "stderr",
     "output_type": "stream",
     "text": [
      "/workspaces/python/.venv/lib/python3.11/site-packages/urllib3/connectionpool.py:1103: InsecureRequestWarning: Unverified HTTPS request is being made to host 'mlflow.ap-home'. Adding certificate verification is strongly advised. See: https://urllib3.readthedocs.io/en/latest/advanced-usage.html#tls-warnings\n",
      "  warnings.warn(\n",
      "/workspaces/python/.venv/lib/python3.11/site-packages/urllib3/connectionpool.py:1103: InsecureRequestWarning: Unverified HTTPS request is being made to host 'mlflow.ap-home'. Adding certificate verification is strongly advised. See: https://urllib3.readthedocs.io/en/latest/advanced-usage.html#tls-warnings\n",
      "  warnings.warn(\n",
      "/workspaces/python/.venv/lib/python3.11/site-packages/urllib3/connectionpool.py:1103: InsecureRequestWarning: Unverified HTTPS request is being made to host 'mlflow.ap-home'. Adding certificate verification is strongly advised. See: https://urllib3.readthedocs.io/en/latest/advanced-usage.html#tls-warnings\n",
      "  warnings.warn(\n",
      "WARNING:absl:You are saving your model as an HDF5 file via `model.save()` or `keras.saving.save_model(model)`. This file format is considered legacy. We recommend using instead the native Keras format, e.g. `model.save('my_model.keras')` or `keras.saving.save_model(model, 'my_model.keras')`. \n"
     ]
    },
    {
     "name": "stdout",
     "output_type": "stream",
     "text": [
      "\u001b[1m4050/4050\u001b[0m \u001b[32m━━━━━━━━━━━━━━━━━━━━\u001b[0m\u001b[37m\u001b[0m \u001b[1m36s\u001b[0m 9ms/step - loss: 1.9102 - mae: 1.9102 - mape: 7.5644 - mse: 6.0238 - r2_score: -115.4295 - val_loss: 0.4843 - val_mae: 0.4844 - val_mape: 2.6520 - val_mse: 0.6962 - val_r2_score: 0.8732\n",
      "Epoch 5/100\n",
      "\u001b[1m4049/4050\u001b[0m \u001b[32m━━━━━━━━━━━━━━━━━━━\u001b[0m\u001b[37m━\u001b[0m \u001b[1m0s\u001b[0m 8ms/step - loss: 1.7348 - mae: 1.7348 - mape: 6.8764 - mse: 4.9662 - r2_score: -278.0668"
     ]
    },
    {
     "name": "stderr",
     "output_type": "stream",
     "text": [
      "/workspaces/python/.venv/lib/python3.11/site-packages/urllib3/connectionpool.py:1103: InsecureRequestWarning: Unverified HTTPS request is being made to host 'mlflow.ap-home'. Adding certificate verification is strongly advised. See: https://urllib3.readthedocs.io/en/latest/advanced-usage.html#tls-warnings\n",
      "  warnings.warn(\n",
      "/workspaces/python/.venv/lib/python3.11/site-packages/urllib3/connectionpool.py:1103: InsecureRequestWarning: Unverified HTTPS request is being made to host 'mlflow.ap-home'. Adding certificate verification is strongly advised. See: https://urllib3.readthedocs.io/en/latest/advanced-usage.html#tls-warnings\n",
      "  warnings.warn(\n",
      "/workspaces/python/.venv/lib/python3.11/site-packages/urllib3/connectionpool.py:1103: InsecureRequestWarning: Unverified HTTPS request is being made to host 'mlflow.ap-home'. Adding certificate verification is strongly advised. See: https://urllib3.readthedocs.io/en/latest/advanced-usage.html#tls-warnings\n",
      "  warnings.warn(\n",
      "WARNING:absl:You are saving your model as an HDF5 file via `model.save()` or `keras.saving.save_model(model)`. This file format is considered legacy. We recommend using instead the native Keras format, e.g. `model.save('my_model.keras')` or `keras.saving.save_model(model, 'my_model.keras')`. \n"
     ]
    },
    {
     "name": "stdout",
     "output_type": "stream",
     "text": [
      "\u001b[1m4050/4050\u001b[0m \u001b[32m━━━━━━━━━━━━━━━━━━━━\u001b[0m\u001b[37m\u001b[0m \u001b[1m36s\u001b[0m 9ms/step - loss: 1.7347 - mae: 1.7347 - mape: 6.8763 - mse: 4.9661 - r2_score: -278.0821 - val_loss: 0.4572 - val_mae: 0.4573 - val_mape: 2.4658 - val_mse: 0.6125 - val_r2_score: 0.7848\n",
      "Epoch 6/100\n",
      "\u001b[1m4050/4050\u001b[0m \u001b[32m━━━━━━━━━━━━━━━━━━━━\u001b[0m\u001b[37m\u001b[0m \u001b[1m35s\u001b[0m 9ms/step - loss: 1.6251 - mae: 1.6251 - mape: 6.4381 - mse: 4.3786 - r2_score: 11.6995 - val_loss: 0.4879 - val_mae: 0.4881 - val_mape: 2.4574 - val_mse: 0.5731 - val_r2_score: 2.6180\n",
      "Epoch 7/100\n"
     ]
    },
    {
     "name": "stderr",
     "output_type": "stream",
     "text": [
      "/workspaces/python/.venv/lib/python3.11/site-packages/urllib3/connectionpool.py:1103: InsecureRequestWarning: Unverified HTTPS request is being made to host 'mlflow.ap-home'. Adding certificate verification is strongly advised. See: https://urllib3.readthedocs.io/en/latest/advanced-usage.html#tls-warnings\n",
      "  warnings.warn(\n",
      "/workspaces/python/.venv/lib/python3.11/site-packages/urllib3/connectionpool.py:1103: InsecureRequestWarning: Unverified HTTPS request is being made to host 'mlflow.ap-home'. Adding certificate verification is strongly advised. See: https://urllib3.readthedocs.io/en/latest/advanced-usage.html#tls-warnings\n",
      "  warnings.warn(\n"
     ]
    },
    {
     "name": "stdout",
     "output_type": "stream",
     "text": [
      "\u001b[1m4049/4050\u001b[0m \u001b[32m━━━━━━━━━━━━━━━━━━━\u001b[0m\u001b[37m━\u001b[0m \u001b[1m0s\u001b[0m 8ms/step - loss: 1.5108 - mae: 1.5108 - mape: 5.9731 - mse: 3.8118 - r2_score: 203.9385"
     ]
    },
    {
     "name": "stderr",
     "output_type": "stream",
     "text": [
      "/workspaces/python/.venv/lib/python3.11/site-packages/urllib3/connectionpool.py:1103: InsecureRequestWarning: Unverified HTTPS request is being made to host 'mlflow.ap-home'. Adding certificate verification is strongly advised. See: https://urllib3.readthedocs.io/en/latest/advanced-usage.html#tls-warnings\n",
      "  warnings.warn(\n",
      "/workspaces/python/.venv/lib/python3.11/site-packages/urllib3/connectionpool.py:1103: InsecureRequestWarning: Unverified HTTPS request is being made to host 'mlflow.ap-home'. Adding certificate verification is strongly advised. See: https://urllib3.readthedocs.io/en/latest/advanced-usage.html#tls-warnings\n",
      "  warnings.warn(\n",
      "/workspaces/python/.venv/lib/python3.11/site-packages/urllib3/connectionpool.py:1103: InsecureRequestWarning: Unverified HTTPS request is being made to host 'mlflow.ap-home'. Adding certificate verification is strongly advised. See: https://urllib3.readthedocs.io/en/latest/advanced-usage.html#tls-warnings\n",
      "  warnings.warn(\n",
      "WARNING:absl:You are saving your model as an HDF5 file via `model.save()` or `keras.saving.save_model(model)`. This file format is considered legacy. We recommend using instead the native Keras format, e.g. `model.save('my_model.keras')` or `keras.saving.save_model(model, 'my_model.keras')`. \n"
     ]
    },
    {
     "name": "stdout",
     "output_type": "stream",
     "text": [
      "\u001b[1m4050/4050\u001b[0m \u001b[32m━━━━━━━━━━━━━━━━━━━━\u001b[0m\u001b[37m\u001b[0m \u001b[1m42s\u001b[0m 9ms/step - loss: 1.5108 - mae: 1.5108 - mape: 5.9730 - mse: 3.8118 - r2_score: 203.7224 - val_loss: 0.4188 - val_mae: 0.4189 - val_mape: 2.0346 - val_mse: 0.4268 - val_r2_score: 2.3847\n",
      "Epoch 8/100\n",
      "\u001b[1m4048/4050\u001b[0m \u001b[32m━━━━━━━━━━━━━━━━━━━\u001b[0m\u001b[37m━\u001b[0m \u001b[1m0s\u001b[0m 8ms/step - loss: 1.3979 - mae: 1.3979 - mape: 5.4633 - mse: 3.3308 - r2_score: -3.6883"
     ]
    },
    {
     "name": "stderr",
     "output_type": "stream",
     "text": [
      "/workspaces/python/.venv/lib/python3.11/site-packages/urllib3/connectionpool.py:1103: InsecureRequestWarning: Unverified HTTPS request is being made to host 'mlflow.ap-home'. Adding certificate verification is strongly advised. See: https://urllib3.readthedocs.io/en/latest/advanced-usage.html#tls-warnings\n",
      "  warnings.warn(\n",
      "/workspaces/python/.venv/lib/python3.11/site-packages/urllib3/connectionpool.py:1103: InsecureRequestWarning: Unverified HTTPS request is being made to host 'mlflow.ap-home'. Adding certificate verification is strongly advised. See: https://urllib3.readthedocs.io/en/latest/advanced-usage.html#tls-warnings\n",
      "  warnings.warn(\n",
      "/workspaces/python/.venv/lib/python3.11/site-packages/urllib3/connectionpool.py:1103: InsecureRequestWarning: Unverified HTTPS request is being made to host 'mlflow.ap-home'. Adding certificate verification is strongly advised. See: https://urllib3.readthedocs.io/en/latest/advanced-usage.html#tls-warnings\n",
      "  warnings.warn(\n",
      "WARNING:absl:You are saving your model as an HDF5 file via `model.save()` or `keras.saving.save_model(model)`. This file format is considered legacy. We recommend using instead the native Keras format, e.g. `model.save('my_model.keras')` or `keras.saving.save_model(model, 'my_model.keras')`. \n"
     ]
    },
    {
     "name": "stdout",
     "output_type": "stream",
     "text": [
      "\u001b[1m4050/4050\u001b[0m \u001b[32m━━━━━━━━━━━━━━━━━━━━\u001b[0m\u001b[37m\u001b[0m \u001b[1m36s\u001b[0m 9ms/step - loss: 1.3978 - mae: 1.3978 - mape: 5.4632 - mse: 3.3307 - r2_score: -3.8131 - val_loss: 0.4183 - val_mae: 0.4183 - val_mape: 2.1432 - val_mse: 0.5408 - val_r2_score: 1.2192\n",
      "Epoch 9/100\n",
      "\u001b[1m4046/4050\u001b[0m \u001b[32m━━━━━━━━━━━━━━━━━━━\u001b[0m\u001b[37m━\u001b[0m \u001b[1m0s\u001b[0m 8ms/step - loss: 1.2725 - mae: 1.2725 - mape: 4.9396 - mse: 2.8050 - r2_score: 116.2100"
     ]
    },
    {
     "name": "stderr",
     "output_type": "stream",
     "text": [
      "/workspaces/python/.venv/lib/python3.11/site-packages/urllib3/connectionpool.py:1103: InsecureRequestWarning: Unverified HTTPS request is being made to host 'mlflow.ap-home'. Adding certificate verification is strongly advised. See: https://urllib3.readthedocs.io/en/latest/advanced-usage.html#tls-warnings\n",
      "  warnings.warn(\n",
      "/workspaces/python/.venv/lib/python3.11/site-packages/urllib3/connectionpool.py:1103: InsecureRequestWarning: Unverified HTTPS request is being made to host 'mlflow.ap-home'. Adding certificate verification is strongly advised. See: https://urllib3.readthedocs.io/en/latest/advanced-usage.html#tls-warnings\n",
      "  warnings.warn(\n",
      "/workspaces/python/.venv/lib/python3.11/site-packages/urllib3/connectionpool.py:1103: InsecureRequestWarning: Unverified HTTPS request is being made to host 'mlflow.ap-home'. Adding certificate verification is strongly advised. See: https://urllib3.readthedocs.io/en/latest/advanced-usage.html#tls-warnings\n",
      "  warnings.warn(\n",
      "WARNING:absl:You are saving your model as an HDF5 file via `model.save()` or `keras.saving.save_model(model)`. This file format is considered legacy. We recommend using instead the native Keras format, e.g. `model.save('my_model.keras')` or `keras.saving.save_model(model, 'my_model.keras')`. \n"
     ]
    },
    {
     "name": "stdout",
     "output_type": "stream",
     "text": [
      "\u001b[1m4050/4050\u001b[0m \u001b[32m━━━━━━━━━━━━━━━━━━━━\u001b[0m\u001b[37m\u001b[0m \u001b[1m35s\u001b[0m 9ms/step - loss: 1.2725 - mae: 1.2725 - mape: 4.9395 - mse: 2.8049 - r2_score: 115.8274 - val_loss: 0.2760 - val_mae: 0.2760 - val_mape: 1.4441 - val_mse: 0.2848 - val_r2_score: 1.2902\n",
      "Epoch 10/100\n",
      "\u001b[1m4050/4050\u001b[0m \u001b[32m━━━━━━━━━━━━━━━━━━━━\u001b[0m\u001b[37m\u001b[0m \u001b[1m35s\u001b[0m 9ms/step - loss: 1.1721 - mae: 1.1721 - mape: 4.5363 - mse: 2.4219 - r2_score: 109.8118 - val_loss: 0.3576 - val_mae: 0.3577 - val_mape: 1.6755 - val_mse: 0.3294 - val_r2_score: 2.9898\n",
      "Epoch 11/100\n"
     ]
    },
    {
     "name": "stderr",
     "output_type": "stream",
     "text": [
      "/workspaces/python/.venv/lib/python3.11/site-packages/urllib3/connectionpool.py:1103: InsecureRequestWarning: Unverified HTTPS request is being made to host 'mlflow.ap-home'. Adding certificate verification is strongly advised. See: https://urllib3.readthedocs.io/en/latest/advanced-usage.html#tls-warnings\n",
      "  warnings.warn(\n",
      "/workspaces/python/.venv/lib/python3.11/site-packages/urllib3/connectionpool.py:1103: InsecureRequestWarning: Unverified HTTPS request is being made to host 'mlflow.ap-home'. Adding certificate verification is strongly advised. See: https://urllib3.readthedocs.io/en/latest/advanced-usage.html#tls-warnings\n",
      "  warnings.warn(\n"
     ]
    },
    {
     "name": "stdout",
     "output_type": "stream",
     "text": [
      "\u001b[1m4044/4050\u001b[0m \u001b[32m━━━━━━━━━━━━━━━━━━━\u001b[0m\u001b[37m━\u001b[0m \u001b[1m0s\u001b[0m 8ms/step - loss: 1.0928 - mae: 1.0928 - mape: 4.2514 - mse: 2.1087 - r2_score: 109.3962"
     ]
    },
    {
     "name": "stderr",
     "output_type": "stream",
     "text": [
      "/workspaces/python/.venv/lib/python3.11/site-packages/urllib3/connectionpool.py:1103: InsecureRequestWarning: Unverified HTTPS request is being made to host 'mlflow.ap-home'. Adding certificate verification is strongly advised. See: https://urllib3.readthedocs.io/en/latest/advanced-usage.html#tls-warnings\n",
      "  warnings.warn(\n",
      "/workspaces/python/.venv/lib/python3.11/site-packages/urllib3/connectionpool.py:1103: InsecureRequestWarning: Unverified HTTPS request is being made to host 'mlflow.ap-home'. Adding certificate verification is strongly advised. See: https://urllib3.readthedocs.io/en/latest/advanced-usage.html#tls-warnings\n",
      "  warnings.warn(\n",
      "/workspaces/python/.venv/lib/python3.11/site-packages/urllib3/connectionpool.py:1103: InsecureRequestWarning: Unverified HTTPS request is being made to host 'mlflow.ap-home'. Adding certificate verification is strongly advised. See: https://urllib3.readthedocs.io/en/latest/advanced-usage.html#tls-warnings\n",
      "  warnings.warn(\n",
      "WARNING:absl:You are saving your model as an HDF5 file via `model.save()` or `keras.saving.save_model(model)`. This file format is considered legacy. We recommend using instead the native Keras format, e.g. `model.save('my_model.keras')` or `keras.saving.save_model(model, 'my_model.keras')`. \n"
     ]
    },
    {
     "name": "stdout",
     "output_type": "stream",
     "text": [
      "\u001b[1m4050/4050\u001b[0m \u001b[32m━━━━━━━━━━━━━━━━━━━━\u001b[0m\u001b[37m\u001b[0m \u001b[1m41s\u001b[0m 9ms/step - loss: 1.0928 - mae: 1.0928 - mape: 4.2513 - mse: 2.1086 - r2_score: 108.9753 - val_loss: 0.3485 - val_mae: 0.3484 - val_mape: 1.6388 - val_mse: 0.3479 - val_r2_score: 2.9475\n",
      "Epoch 12/100\n",
      "\u001b[1m4047/4050\u001b[0m \u001b[32m━━━━━━━━━━━━━━━━━━━\u001b[0m\u001b[37m━\u001b[0m \u001b[1m0s\u001b[0m 8ms/step - loss: 0.9925 - mae: 0.9925 - mape: 3.8660 - mse: 1.7637 - r2_score: -160.3930"
     ]
    },
    {
     "name": "stderr",
     "output_type": "stream",
     "text": [
      "/workspaces/python/.venv/lib/python3.11/site-packages/urllib3/connectionpool.py:1103: InsecureRequestWarning: Unverified HTTPS request is being made to host 'mlflow.ap-home'. Adding certificate verification is strongly advised. See: https://urllib3.readthedocs.io/en/latest/advanced-usage.html#tls-warnings\n",
      "  warnings.warn(\n",
      "/workspaces/python/.venv/lib/python3.11/site-packages/urllib3/connectionpool.py:1103: InsecureRequestWarning: Unverified HTTPS request is being made to host 'mlflow.ap-home'. Adding certificate verification is strongly advised. See: https://urllib3.readthedocs.io/en/latest/advanced-usage.html#tls-warnings\n",
      "  warnings.warn(\n",
      "/workspaces/python/.venv/lib/python3.11/site-packages/urllib3/connectionpool.py:1103: InsecureRequestWarning: Unverified HTTPS request is being made to host 'mlflow.ap-home'. Adding certificate verification is strongly advised. See: https://urllib3.readthedocs.io/en/latest/advanced-usage.html#tls-warnings\n",
      "  warnings.warn(\n",
      "WARNING:absl:You are saving your model as an HDF5 file via `model.save()` or `keras.saving.save_model(model)`. This file format is considered legacy. We recommend using instead the native Keras format, e.g. `model.save('my_model.keras')` or `keras.saving.save_model(model, 'my_model.keras')`. \n"
     ]
    },
    {
     "name": "stdout",
     "output_type": "stream",
     "text": [
      "\u001b[1m4050/4050\u001b[0m \u001b[32m━━━━━━━━━━━━━━━━━━━━\u001b[0m\u001b[37m\u001b[0m \u001b[1m35s\u001b[0m 9ms/step - loss: 0.9925 - mae: 0.9925 - mape: 3.8659 - mse: 1.7636 - r2_score: -160.3238 - val_loss: 0.2532 - val_mae: 0.2533 - val_mape: 1.4017 - val_mse: 0.3265 - val_r2_score: 1.0764\n",
      "Epoch 13/100\n",
      "\u001b[1m4049/4050\u001b[0m \u001b[32m━━━━━━━━━━━━━━━━━━━\u001b[0m\u001b[37m━\u001b[0m \u001b[1m0s\u001b[0m 8ms/step - loss: 0.9149 - mae: 0.9149 - mape: 3.5754 - mse: 1.5109 - r2_score: 104.3037"
     ]
    },
    {
     "name": "stderr",
     "output_type": "stream",
     "text": [
      "/workspaces/python/.venv/lib/python3.11/site-packages/urllib3/connectionpool.py:1103: InsecureRequestWarning: Unverified HTTPS request is being made to host 'mlflow.ap-home'. Adding certificate verification is strongly advised. See: https://urllib3.readthedocs.io/en/latest/advanced-usage.html#tls-warnings\n",
      "  warnings.warn(\n",
      "/workspaces/python/.venv/lib/python3.11/site-packages/urllib3/connectionpool.py:1103: InsecureRequestWarning: Unverified HTTPS request is being made to host 'mlflow.ap-home'. Adding certificate verification is strongly advised. See: https://urllib3.readthedocs.io/en/latest/advanced-usage.html#tls-warnings\n",
      "  warnings.warn(\n",
      "/workspaces/python/.venv/lib/python3.11/site-packages/urllib3/connectionpool.py:1103: InsecureRequestWarning: Unverified HTTPS request is being made to host 'mlflow.ap-home'. Adding certificate verification is strongly advised. See: https://urllib3.readthedocs.io/en/latest/advanced-usage.html#tls-warnings\n",
      "  warnings.warn(\n",
      "WARNING:absl:You are saving your model as an HDF5 file via `model.save()` or `keras.saving.save_model(model)`. This file format is considered legacy. We recommend using instead the native Keras format, e.g. `model.save('my_model.keras')` or `keras.saving.save_model(model, 'my_model.keras')`. \n"
     ]
    },
    {
     "name": "stdout",
     "output_type": "stream",
     "text": [
      "\u001b[1m4050/4050\u001b[0m \u001b[32m━━━━━━━━━━━━━━━━━━━━\u001b[0m\u001b[37m\u001b[0m \u001b[1m34s\u001b[0m 8ms/step - loss: 0.9149 - mae: 0.9149 - mape: 3.5754 - mse: 1.5108 - r2_score: 104.1605 - val_loss: 0.2519 - val_mae: 0.2519 - val_mape: 1.3270 - val_mse: 0.2814 - val_r2_score: 0.9864\n",
      "Epoch 14/100\n",
      "\u001b[1m4050/4050\u001b[0m \u001b[32m━━━━━━━━━━━━━━━━━━━━\u001b[0m\u001b[37m\u001b[0m \u001b[1m35s\u001b[0m 9ms/step - loss: 0.8384 - mae: 0.8384 - mape: 3.3084 - mse: 1.2771 - r2_score: -84.3196 - val_loss: 0.3042 - val_mae: 0.3043 - val_mape: 1.4066 - val_mse: 0.2808 - val_r2_score: 2.7449\n",
      "Epoch 15/100\n",
      "\u001b[1m  15/4050\u001b[0m \u001b[37m━━━━━━━━━━━━━━━━━━━━\u001b[0m \u001b[1m31s\u001b[0m 8ms/step - loss: 0.7679 - mae: 0.7679 - mape: 3.0201 - mse: 1.0049 - r2_score: 4633.3862  "
     ]
    },
    {
     "name": "stderr",
     "output_type": "stream",
     "text": [
      "/workspaces/python/.venv/lib/python3.11/site-packages/urllib3/connectionpool.py:1103: InsecureRequestWarning: Unverified HTTPS request is being made to host 'mlflow.ap-home'. Adding certificate verification is strongly advised. See: https://urllib3.readthedocs.io/en/latest/advanced-usage.html#tls-warnings\n",
      "  warnings.warn(\n",
      "/workspaces/python/.venv/lib/python3.11/site-packages/urllib3/connectionpool.py:1103: InsecureRequestWarning: Unverified HTTPS request is being made to host 'mlflow.ap-home'. Adding certificate verification is strongly advised. See: https://urllib3.readthedocs.io/en/latest/advanced-usage.html#tls-warnings\n",
      "  warnings.warn(\n"
     ]
    },
    {
     "name": "stdout",
     "output_type": "stream",
     "text": [
      "\u001b[1m4048/4050\u001b[0m \u001b[32m━━━━━━━━━━━━━━━━━━━\u001b[0m\u001b[37m━\u001b[0m \u001b[1m0s\u001b[0m 8ms/step - loss: 0.7589 - mae: 0.7589 - mape: 3.0246 - mse: 1.0537 - r2_score: 106.2052"
     ]
    },
    {
     "name": "stderr",
     "output_type": "stream",
     "text": [
      "/workspaces/python/.venv/lib/python3.11/site-packages/urllib3/connectionpool.py:1103: InsecureRequestWarning: Unverified HTTPS request is being made to host 'mlflow.ap-home'. Adding certificate verification is strongly advised. See: https://urllib3.readthedocs.io/en/latest/advanced-usage.html#tls-warnings\n",
      "  warnings.warn(\n",
      "/workspaces/python/.venv/lib/python3.11/site-packages/urllib3/connectionpool.py:1103: InsecureRequestWarning: Unverified HTTPS request is being made to host 'mlflow.ap-home'. Adding certificate verification is strongly advised. See: https://urllib3.readthedocs.io/en/latest/advanced-usage.html#tls-warnings\n",
      "  warnings.warn(\n",
      "/workspaces/python/.venv/lib/python3.11/site-packages/urllib3/connectionpool.py:1103: InsecureRequestWarning: Unverified HTTPS request is being made to host 'mlflow.ap-home'. Adding certificate verification is strongly advised. See: https://urllib3.readthedocs.io/en/latest/advanced-usage.html#tls-warnings\n",
      "  warnings.warn(\n",
      "WARNING:absl:You are saving your model as an HDF5 file via `model.save()` or `keras.saving.save_model(model)`. This file format is considered legacy. We recommend using instead the native Keras format, e.g. `model.save('my_model.keras')` or `keras.saving.save_model(model, 'my_model.keras')`. \n"
     ]
    },
    {
     "name": "stdout",
     "output_type": "stream",
     "text": [
      "\u001b[1m4050/4050\u001b[0m \u001b[32m━━━━━━━━━━━━━━━━━━━━\u001b[0m\u001b[37m\u001b[0m \u001b[1m36s\u001b[0m 9ms/step - loss: 0.7589 - mae: 0.7589 - mape: 3.0245 - mse: 1.0537 - r2_score: 106.0850 - val_loss: 0.2278 - val_mae: 0.2278 - val_mape: 1.1830 - val_mse: 0.2494 - val_r2_score: 1.1305\n",
      "Epoch 16/100\n",
      "\u001b[1m4047/4050\u001b[0m \u001b[32m━━━━━━━━━━━━━━━━━━━\u001b[0m\u001b[37m━\u001b[0m \u001b[1m0s\u001b[0m 8ms/step - loss: 0.6824 - mae: 0.6824 - mape: 2.7615 - mse: 0.8642 - r2_score: -29.6336"
     ]
    },
    {
     "name": "stderr",
     "output_type": "stream",
     "text": [
      "/workspaces/python/.venv/lib/python3.11/site-packages/urllib3/connectionpool.py:1103: InsecureRequestWarning: Unverified HTTPS request is being made to host 'mlflow.ap-home'. Adding certificate verification is strongly advised. See: https://urllib3.readthedocs.io/en/latest/advanced-usage.html#tls-warnings\n",
      "  warnings.warn(\n",
      "/workspaces/python/.venv/lib/python3.11/site-packages/urllib3/connectionpool.py:1103: InsecureRequestWarning: Unverified HTTPS request is being made to host 'mlflow.ap-home'. Adding certificate verification is strongly advised. See: https://urllib3.readthedocs.io/en/latest/advanced-usage.html#tls-warnings\n",
      "  warnings.warn(\n",
      "/workspaces/python/.venv/lib/python3.11/site-packages/urllib3/connectionpool.py:1103: InsecureRequestWarning: Unverified HTTPS request is being made to host 'mlflow.ap-home'. Adding certificate verification is strongly advised. See: https://urllib3.readthedocs.io/en/latest/advanced-usage.html#tls-warnings\n",
      "  warnings.warn(\n",
      "WARNING:absl:You are saving your model as an HDF5 file via `model.save()` or `keras.saving.save_model(model)`. This file format is considered legacy. We recommend using instead the native Keras format, e.g. `model.save('my_model.keras')` or `keras.saving.save_model(model, 'my_model.keras')`. \n"
     ]
    },
    {
     "name": "stdout",
     "output_type": "stream",
     "text": [
      "\u001b[1m4050/4050\u001b[0m \u001b[32m━━━━━━━━━━━━━━━━━━━━\u001b[0m\u001b[37m\u001b[0m \u001b[1m35s\u001b[0m 9ms/step - loss: 0.6824 - mae: 0.6824 - mape: 2.7615 - mse: 0.8642 - r2_score: -29.6667 - val_loss: 0.2125 - val_mae: 0.2126 - val_mape: 1.1735 - val_mse: 0.2645 - val_r2_score: 0.9496\n",
      "Epoch 17/100\n",
      "\u001b[1m4050/4050\u001b[0m \u001b[32m━━━━━━━━━━━━━━━━━━━━\u001b[0m\u001b[37m\u001b[0m \u001b[1m35s\u001b[0m 9ms/step - loss: 0.6053 - mae: 0.6053 - mape: 2.4925 - mse: 0.6916 - r2_score: 15.8306 - val_loss: 0.3870 - val_mae: 0.3870 - val_mape: 1.9707 - val_mse: 0.4499 - val_r2_score: 1.7797\n",
      "Epoch 18/100\n",
      "\u001b[1m  15/4050\u001b[0m \u001b[37m━━━━━━━━━━━━━━━━━━━━\u001b[0m \u001b[1m32s\u001b[0m 8ms/step - loss: 0.6045 - mae: 0.6045 - mape: 2.7031 - mse: 0.7477 - r2_score: 924.8692  "
     ]
    },
    {
     "name": "stderr",
     "output_type": "stream",
     "text": [
      "/workspaces/python/.venv/lib/python3.11/site-packages/urllib3/connectionpool.py:1103: InsecureRequestWarning: Unverified HTTPS request is being made to host 'mlflow.ap-home'. Adding certificate verification is strongly advised. See: https://urllib3.readthedocs.io/en/latest/advanced-usage.html#tls-warnings\n",
      "  warnings.warn(\n",
      "/workspaces/python/.venv/lib/python3.11/site-packages/urllib3/connectionpool.py:1103: InsecureRequestWarning: Unverified HTTPS request is being made to host 'mlflow.ap-home'. Adding certificate verification is strongly advised. See: https://urllib3.readthedocs.io/en/latest/advanced-usage.html#tls-warnings\n",
      "  warnings.warn(\n"
     ]
    },
    {
     "name": "stdout",
     "output_type": "stream",
     "text": [
      "\u001b[1m4047/4050\u001b[0m \u001b[32m━━━━━━━━━━━━━━━━━━━\u001b[0m\u001b[37m━\u001b[0m \u001b[1m0s\u001b[0m 8ms/step - loss: 0.5393 - mae: 0.5393 - mape: 2.2920 - mse: 0.5722 - r2_score: 9.9948 "
     ]
    },
    {
     "name": "stderr",
     "output_type": "stream",
     "text": [
      "/workspaces/python/.venv/lib/python3.11/site-packages/urllib3/connectionpool.py:1103: InsecureRequestWarning: Unverified HTTPS request is being made to host 'mlflow.ap-home'. Adding certificate verification is strongly advised. See: https://urllib3.readthedocs.io/en/latest/advanced-usage.html#tls-warnings\n",
      "  warnings.warn(\n",
      "/workspaces/python/.venv/lib/python3.11/site-packages/urllib3/connectionpool.py:1103: InsecureRequestWarning: Unverified HTTPS request is being made to host 'mlflow.ap-home'. Adding certificate verification is strongly advised. See: https://urllib3.readthedocs.io/en/latest/advanced-usage.html#tls-warnings\n",
      "  warnings.warn(\n",
      "/workspaces/python/.venv/lib/python3.11/site-packages/urllib3/connectionpool.py:1103: InsecureRequestWarning: Unverified HTTPS request is being made to host 'mlflow.ap-home'. Adding certificate verification is strongly advised. See: https://urllib3.readthedocs.io/en/latest/advanced-usage.html#tls-warnings\n",
      "  warnings.warn(\n",
      "WARNING:absl:You are saving your model as an HDF5 file via `model.save()` or `keras.saving.save_model(model)`. This file format is considered legacy. We recommend using instead the native Keras format, e.g. `model.save('my_model.keras')` or `keras.saving.save_model(model, 'my_model.keras')`. \n"
     ]
    },
    {
     "name": "stdout",
     "output_type": "stream",
     "text": [
      "\u001b[1m4050/4050\u001b[0m \u001b[32m━━━━━━━━━━━━━━━━━━━━\u001b[0m\u001b[37m\u001b[0m \u001b[1m35s\u001b[0m 9ms/step - loss: 0.5393 - mae: 0.5393 - mape: 2.2919 - mse: 0.5721 - r2_score: 9.9628 - val_loss: 0.2999 - val_mae: 0.3000 - val_mape: 1.4403 - val_mse: 0.2925 - val_r2_score: 2.1197\n",
      "Epoch 19/100\n",
      "\u001b[1m4050/4050\u001b[0m \u001b[32m━━━━━━━━━━━━━━━━━━━━\u001b[0m\u001b[37m\u001b[0m \u001b[1m0s\u001b[0m 8ms/step - loss: 0.4543 - mae: 0.4543 - mape: 1.9740 - mse: 0.4327 - r2_score: -4.9620"
     ]
    },
    {
     "name": "stderr",
     "output_type": "stream",
     "text": [
      "/workspaces/python/.venv/lib/python3.11/site-packages/urllib3/connectionpool.py:1103: InsecureRequestWarning: Unverified HTTPS request is being made to host 'mlflow.ap-home'. Adding certificate verification is strongly advised. See: https://urllib3.readthedocs.io/en/latest/advanced-usage.html#tls-warnings\n",
      "  warnings.warn(\n",
      "/workspaces/python/.venv/lib/python3.11/site-packages/urllib3/connectionpool.py:1103: InsecureRequestWarning: Unverified HTTPS request is being made to host 'mlflow.ap-home'. Adding certificate verification is strongly advised. See: https://urllib3.readthedocs.io/en/latest/advanced-usage.html#tls-warnings\n",
      "  warnings.warn(\n",
      "/workspaces/python/.venv/lib/python3.11/site-packages/urllib3/connectionpool.py:1103: InsecureRequestWarning: Unverified HTTPS request is being made to host 'mlflow.ap-home'. Adding certificate verification is strongly advised. See: https://urllib3.readthedocs.io/en/latest/advanced-usage.html#tls-warnings\n",
      "  warnings.warn(\n",
      "WARNING:absl:You are saving your model as an HDF5 file via `model.save()` or `keras.saving.save_model(model)`. This file format is considered legacy. We recommend using instead the native Keras format, e.g. `model.save('my_model.keras')` or `keras.saving.save_model(model, 'my_model.keras')`. \n"
     ]
    },
    {
     "name": "stdout",
     "output_type": "stream",
     "text": [
      "\u001b[1m4050/4050\u001b[0m \u001b[32m━━━━━━━━━━━━━━━━━━━━\u001b[0m\u001b[37m\u001b[0m \u001b[1m35s\u001b[0m 9ms/step - loss: 0.4543 - mae: 0.4543 - mape: 1.9739 - mse: 0.4327 - r2_score: -4.9649 - val_loss: 0.2147 - val_mae: 0.2147 - val_mape: 1.1519 - val_mse: 0.2470 - val_r2_score: 1.0348\n",
      "Epoch 20/100\n",
      "\u001b[1m4050/4050\u001b[0m \u001b[32m━━━━━━━━━━━━━━━━━━━━\u001b[0m\u001b[37m\u001b[0m \u001b[1m35s\u001b[0m 9ms/step - loss: 0.3792 - mae: 0.3792 - mape: 1.7229 - mse: 0.3430 - r2_score: 5.0255 - val_loss: 0.2232 - val_mae: 0.2233 - val_mape: 1.1983 - val_mse: 0.2699 - val_r2_score: 0.9851\n",
      "Epoch 21/100\n",
      "\u001b[1m  15/4050\u001b[0m \u001b[37m━━━━━━━━━━━━━━━━━━━━\u001b[0m \u001b[1m31s\u001b[0m 8ms/step - loss: 0.3068 - mae: 0.3068 - mape: 1.3916 - mse: 0.1873 - r2_score: -151.3329"
     ]
    },
    {
     "name": "stderr",
     "output_type": "stream",
     "text": [
      "/workspaces/python/.venv/lib/python3.11/site-packages/urllib3/connectionpool.py:1103: InsecureRequestWarning: Unverified HTTPS request is being made to host 'mlflow.ap-home'. Adding certificate verification is strongly advised. See: https://urllib3.readthedocs.io/en/latest/advanced-usage.html#tls-warnings\n",
      "  warnings.warn(\n",
      "/workspaces/python/.venv/lib/python3.11/site-packages/urllib3/connectionpool.py:1103: InsecureRequestWarning: Unverified HTTPS request is being made to host 'mlflow.ap-home'. Adding certificate verification is strongly advised. See: https://urllib3.readthedocs.io/en/latest/advanced-usage.html#tls-warnings\n",
      "  warnings.warn(\n"
     ]
    },
    {
     "name": "stdout",
     "output_type": "stream",
     "text": [
      "\u001b[1m4050/4050\u001b[0m \u001b[32m━━━━━━━━━━━━━━━━━━━━\u001b[0m\u001b[37m\u001b[0m \u001b[1m35s\u001b[0m 9ms/step - loss: 0.3125 - mae: 0.3125 - mape: 1.5127 - mse: 0.2903 - r2_score: -5.5254 - val_loss: 0.2277 - val_mae: 0.2278 - val_mape: 1.2204 - val_mse: 0.2646 - val_r2_score: 0.9689\n",
      "Epoch 22/100\n",
      "\u001b[1m  15/4050\u001b[0m \u001b[37m━━━━━━━━━━━━━━━━━━━━\u001b[0m \u001b[1m32s\u001b[0m 8ms/step - loss: 0.2378 - mae: 0.2378 - mape: 1.2104 - mse: 0.1915 - r2_score: -22.8117"
     ]
    },
    {
     "name": "stderr",
     "output_type": "stream",
     "text": [
      "/workspaces/python/.venv/lib/python3.11/site-packages/urllib3/connectionpool.py:1103: InsecureRequestWarning: Unverified HTTPS request is being made to host 'mlflow.ap-home'. Adding certificate verification is strongly advised. See: https://urllib3.readthedocs.io/en/latest/advanced-usage.html#tls-warnings\n",
      "  warnings.warn(\n",
      "/workspaces/python/.venv/lib/python3.11/site-packages/urllib3/connectionpool.py:1103: InsecureRequestWarning: Unverified HTTPS request is being made to host 'mlflow.ap-home'. Adding certificate verification is strongly advised. See: https://urllib3.readthedocs.io/en/latest/advanced-usage.html#tls-warnings\n",
      "  warnings.warn(\n"
     ]
    },
    {
     "name": "stdout",
     "output_type": "stream",
     "text": [
      "\u001b[1m4048/4050\u001b[0m \u001b[32m━━━━━━━━━━━━━━━━━━━\u001b[0m\u001b[37m━\u001b[0m \u001b[1m0s\u001b[0m 8ms/step - loss: 0.2282 - mae: 0.2282 - mape: 1.2111 - mse: 0.2366 - r2_score: 1.0718"
     ]
    },
    {
     "name": "stderr",
     "output_type": "stream",
     "text": [
      "/workspaces/python/.venv/lib/python3.11/site-packages/urllib3/connectionpool.py:1103: InsecureRequestWarning: Unverified HTTPS request is being made to host 'mlflow.ap-home'. Adding certificate verification is strongly advised. See: https://urllib3.readthedocs.io/en/latest/advanced-usage.html#tls-warnings\n",
      "  warnings.warn(\n",
      "/workspaces/python/.venv/lib/python3.11/site-packages/urllib3/connectionpool.py:1103: InsecureRequestWarning: Unverified HTTPS request is being made to host 'mlflow.ap-home'. Adding certificate verification is strongly advised. See: https://urllib3.readthedocs.io/en/latest/advanced-usage.html#tls-warnings\n",
      "  warnings.warn(\n",
      "/workspaces/python/.venv/lib/python3.11/site-packages/urllib3/connectionpool.py:1103: InsecureRequestWarning: Unverified HTTPS request is being made to host 'mlflow.ap-home'. Adding certificate verification is strongly advised. See: https://urllib3.readthedocs.io/en/latest/advanced-usage.html#tls-warnings\n",
      "  warnings.warn(\n",
      "WARNING:absl:You are saving your model as an HDF5 file via `model.save()` or `keras.saving.save_model(model)`. This file format is considered legacy. We recommend using instead the native Keras format, e.g. `model.save('my_model.keras')` or `keras.saving.save_model(model, 'my_model.keras')`. \n"
     ]
    },
    {
     "name": "stdout",
     "output_type": "stream",
     "text": [
      "\u001b[1m4050/4050\u001b[0m \u001b[32m━━━━━━━━━━━━━━━━━━━━\u001b[0m\u001b[37m\u001b[0m \u001b[1m35s\u001b[0m 9ms/step - loss: 0.2282 - mae: 0.2282 - mape: 1.2110 - mse: 0.2366 - r2_score: 1.0715 - val_loss: 0.1656 - val_mae: 0.1656 - val_mape: 0.9603 - val_mse: 0.2636 - val_r2_score: 0.8659\n",
      "Epoch 23/100\n",
      "\u001b[1m4050/4050\u001b[0m \u001b[32m━━━━━━━━━━━━━━━━━━━━\u001b[0m\u001b[37m\u001b[0m \u001b[1m35s\u001b[0m 9ms/step - loss: 0.1756 - mae: 0.1756 - mape: 1.0176 - mse: 0.2350 - r2_score: 0.8959 - val_loss: 0.1763 - val_mae: 0.1764 - val_mape: 1.0135 - val_mse: 0.2510 - val_r2_score: 0.8716\n",
      "Epoch 24/100\n",
      "\u001b[1m  15/4050\u001b[0m \u001b[37m━━━━━━━━━━━━━━━━━━━━\u001b[0m \u001b[1m31s\u001b[0m 8ms/step - loss: 0.1620 - mae: 0.1620 - mape: 0.8946 - mse: 0.1241 - r2_score: 0.9323"
     ]
    },
    {
     "name": "stderr",
     "output_type": "stream",
     "text": [
      "/workspaces/python/.venv/lib/python3.11/site-packages/urllib3/connectionpool.py:1103: InsecureRequestWarning: Unverified HTTPS request is being made to host 'mlflow.ap-home'. Adding certificate verification is strongly advised. See: https://urllib3.readthedocs.io/en/latest/advanced-usage.html#tls-warnings\n",
      "  warnings.warn(\n",
      "/workspaces/python/.venv/lib/python3.11/site-packages/urllib3/connectionpool.py:1103: InsecureRequestWarning: Unverified HTTPS request is being made to host 'mlflow.ap-home'. Adding certificate verification is strongly advised. See: https://urllib3.readthedocs.io/en/latest/advanced-usage.html#tls-warnings\n",
      "  warnings.warn(\n"
     ]
    },
    {
     "name": "stdout",
     "output_type": "stream",
     "text": [
      "\u001b[1m4045/4050\u001b[0m \u001b[32m━━━━━━━━━━━━━━━━━━━\u001b[0m\u001b[37m━\u001b[0m \u001b[1m0s\u001b[0m 8ms/step - loss: 0.1644 - mae: 0.1644 - mape: 0.9527 - mse: 0.2188 - r2_score: 0.9185"
     ]
    },
    {
     "name": "stderr",
     "output_type": "stream",
     "text": [
      "/workspaces/python/.venv/lib/python3.11/site-packages/urllib3/connectionpool.py:1103: InsecureRequestWarning: Unverified HTTPS request is being made to host 'mlflow.ap-home'. Adding certificate verification is strongly advised. See: https://urllib3.readthedocs.io/en/latest/advanced-usage.html#tls-warnings\n",
      "  warnings.warn(\n",
      "/workspaces/python/.venv/lib/python3.11/site-packages/urllib3/connectionpool.py:1103: InsecureRequestWarning: Unverified HTTPS request is being made to host 'mlflow.ap-home'. Adding certificate verification is strongly advised. See: https://urllib3.readthedocs.io/en/latest/advanced-usage.html#tls-warnings\n",
      "  warnings.warn(\n",
      "/workspaces/python/.venv/lib/python3.11/site-packages/urllib3/connectionpool.py:1103: InsecureRequestWarning: Unverified HTTPS request is being made to host 'mlflow.ap-home'. Adding certificate verification is strongly advised. See: https://urllib3.readthedocs.io/en/latest/advanced-usage.html#tls-warnings\n",
      "  warnings.warn(\n",
      "WARNING:absl:You are saving your model as an HDF5 file via `model.save()` or `keras.saving.save_model(model)`. This file format is considered legacy. We recommend using instead the native Keras format, e.g. `model.save('my_model.keras')` or `keras.saving.save_model(model, 'my_model.keras')`. \n"
     ]
    },
    {
     "name": "stdout",
     "output_type": "stream",
     "text": [
      "\u001b[1m4050/4050\u001b[0m \u001b[32m━━━━━━━━━━━━━━━━━━━━\u001b[0m\u001b[37m\u001b[0m \u001b[1m35s\u001b[0m 9ms/step - loss: 0.1644 - mae: 0.1644 - mape: 0.9527 - mse: 0.2188 - r2_score: 0.9185 - val_loss: 0.1662 - val_mae: 0.1663 - val_mape: 0.9542 - val_mse: 0.2458 - val_r2_score: 0.8742\n",
      "Epoch 25/100\n",
      "\u001b[1m4047/4050\u001b[0m \u001b[32m━━━━━━━━━━━━━━━━━━━\u001b[0m\u001b[37m━\u001b[0m \u001b[1m0s\u001b[0m 8ms/step - loss: 0.1631 - mae: 0.1631 - mape: 0.9465 - mse: 0.2168 - r2_score: 0.9206"
     ]
    },
    {
     "name": "stderr",
     "output_type": "stream",
     "text": [
      "/workspaces/python/.venv/lib/python3.11/site-packages/urllib3/connectionpool.py:1103: InsecureRequestWarning: Unverified HTTPS request is being made to host 'mlflow.ap-home'. Adding certificate verification is strongly advised. See: https://urllib3.readthedocs.io/en/latest/advanced-usage.html#tls-warnings\n",
      "  warnings.warn(\n",
      "/workspaces/python/.venv/lib/python3.11/site-packages/urllib3/connectionpool.py:1103: InsecureRequestWarning: Unverified HTTPS request is being made to host 'mlflow.ap-home'. Adding certificate verification is strongly advised. See: https://urllib3.readthedocs.io/en/latest/advanced-usage.html#tls-warnings\n",
      "  warnings.warn(\n",
      "/workspaces/python/.venv/lib/python3.11/site-packages/urllib3/connectionpool.py:1103: InsecureRequestWarning: Unverified HTTPS request is being made to host 'mlflow.ap-home'. Adding certificate verification is strongly advised. See: https://urllib3.readthedocs.io/en/latest/advanced-usage.html#tls-warnings\n",
      "  warnings.warn(\n",
      "WARNING:absl:You are saving your model as an HDF5 file via `model.save()` or `keras.saving.save_model(model)`. This file format is considered legacy. We recommend using instead the native Keras format, e.g. `model.save('my_model.keras')` or `keras.saving.save_model(model, 'my_model.keras')`. \n"
     ]
    },
    {
     "name": "stdout",
     "output_type": "stream",
     "text": [
      "\u001b[1m4050/4050\u001b[0m \u001b[32m━━━━━━━━━━━━━━━━━━━━\u001b[0m\u001b[37m\u001b[0m \u001b[1m35s\u001b[0m 9ms/step - loss: 0.1631 - mae: 0.1631 - mape: 0.9465 - mse: 0.2168 - r2_score: 0.9205 - val_loss: 0.1532 - val_mae: 0.1533 - val_mape: 0.9022 - val_mse: 0.2568 - val_r2_score: 0.8678\n",
      "Epoch 26/100\n",
      "\u001b[1m4050/4050\u001b[0m \u001b[32m━━━━━━━━━━━━━━━━━━━━\u001b[0m\u001b[37m\u001b[0m \u001b[1m34s\u001b[0m 8ms/step - loss: 0.1656 - mae: 0.1656 - mape: 0.9627 - mse: 0.2263 - r2_score: 0.9145 - val_loss: 0.1601 - val_mae: 0.1601 - val_mape: 0.9444 - val_mse: 0.2840 - val_r2_score: 0.8536\n",
      "Epoch 27/100\n",
      "\u001b[1m  15/4050\u001b[0m \u001b[37m━━━━━━━━━━━━━━━━━━━━\u001b[0m \u001b[1m31s\u001b[0m 8ms/step - loss: 0.2048 - mae: 0.2048 - mape: 1.2582 - mse: 0.3785 - r2_score: -0.1641"
     ]
    },
    {
     "name": "stderr",
     "output_type": "stream",
     "text": [
      "/workspaces/python/.venv/lib/python3.11/site-packages/urllib3/connectionpool.py:1103: InsecureRequestWarning: Unverified HTTPS request is being made to host 'mlflow.ap-home'. Adding certificate verification is strongly advised. See: https://urllib3.readthedocs.io/en/latest/advanced-usage.html#tls-warnings\n",
      "  warnings.warn(\n",
      "/workspaces/python/.venv/lib/python3.11/site-packages/urllib3/connectionpool.py:1103: InsecureRequestWarning: Unverified HTTPS request is being made to host 'mlflow.ap-home'. Adding certificate verification is strongly advised. See: https://urllib3.readthedocs.io/en/latest/advanced-usage.html#tls-warnings\n",
      "  warnings.warn(\n"
     ]
    },
    {
     "name": "stdout",
     "output_type": "stream",
     "text": [
      "\u001b[1m4050/4050\u001b[0m \u001b[32m━━━━━━━━━━━━━━━━━━━━\u001b[0m\u001b[37m\u001b[0m \u001b[1m35s\u001b[0m 9ms/step - loss: 0.1726 - mae: 0.1726 - mape: 1.0029 - mse: 0.2407 - r2_score: 0.9030 - val_loss: 0.1808 - val_mae: 0.1809 - val_mape: 1.0325 - val_mse: 0.2611 - val_r2_score: 0.8656\n",
      "Epoch 28/100\n",
      "\u001b[1m  15/4050\u001b[0m \u001b[37m━━━━━━━━━━━━━━━━━━━━\u001b[0m \u001b[1m31s\u001b[0m 8ms/step - loss: 0.1409 - mae: 0.1409 - mape: 0.7872 - mse: 0.1508 - r2_score: 1.4634"
     ]
    },
    {
     "name": "stderr",
     "output_type": "stream",
     "text": [
      "/workspaces/python/.venv/lib/python3.11/site-packages/urllib3/connectionpool.py:1103: InsecureRequestWarning: Unverified HTTPS request is being made to host 'mlflow.ap-home'. Adding certificate verification is strongly advised. See: https://urllib3.readthedocs.io/en/latest/advanced-usage.html#tls-warnings\n",
      "  warnings.warn(\n",
      "/workspaces/python/.venv/lib/python3.11/site-packages/urllib3/connectionpool.py:1103: InsecureRequestWarning: Unverified HTTPS request is being made to host 'mlflow.ap-home'. Adding certificate verification is strongly advised. See: https://urllib3.readthedocs.io/en/latest/advanced-usage.html#tls-warnings\n",
      "  warnings.warn(\n"
     ]
    },
    {
     "name": "stdout",
     "output_type": "stream",
     "text": [
      "\u001b[1m4047/4050\u001b[0m \u001b[32m━━━━━━━━━━━━━━━━━━━\u001b[0m\u001b[37m━\u001b[0m \u001b[1m0s\u001b[0m 8ms/step - loss: 0.1681 - mae: 0.1681 - mape: 0.9779 - mse: 0.2364 - r2_score: 0.9151"
     ]
    },
    {
     "name": "stderr",
     "output_type": "stream",
     "text": [
      "/workspaces/python/.venv/lib/python3.11/site-packages/urllib3/connectionpool.py:1103: InsecureRequestWarning: Unverified HTTPS request is being made to host 'mlflow.ap-home'. Adding certificate verification is strongly advised. See: https://urllib3.readthedocs.io/en/latest/advanced-usage.html#tls-warnings\n",
      "  warnings.warn(\n",
      "/workspaces/python/.venv/lib/python3.11/site-packages/urllib3/connectionpool.py:1103: InsecureRequestWarning: Unverified HTTPS request is being made to host 'mlflow.ap-home'. Adding certificate verification is strongly advised. See: https://urllib3.readthedocs.io/en/latest/advanced-usage.html#tls-warnings\n",
      "  warnings.warn(\n",
      "/workspaces/python/.venv/lib/python3.11/site-packages/urllib3/connectionpool.py:1103: InsecureRequestWarning: Unverified HTTPS request is being made to host 'mlflow.ap-home'. Adding certificate verification is strongly advised. See: https://urllib3.readthedocs.io/en/latest/advanced-usage.html#tls-warnings\n",
      "  warnings.warn(\n",
      "WARNING:absl:You are saving your model as an HDF5 file via `model.save()` or `keras.saving.save_model(model)`. This file format is considered legacy. We recommend using instead the native Keras format, e.g. `model.save('my_model.keras')` or `keras.saving.save_model(model, 'my_model.keras')`. \n"
     ]
    },
    {
     "name": "stdout",
     "output_type": "stream",
     "text": [
      "\u001b[1m4050/4050\u001b[0m \u001b[32m━━━━━━━━━━━━━━━━━━━━\u001b[0m\u001b[37m\u001b[0m \u001b[1m35s\u001b[0m 9ms/step - loss: 0.1681 - mae: 0.1681 - mape: 0.9779 - mse: 0.2364 - r2_score: 0.9151 - val_loss: 0.1696 - val_mae: 0.1696 - val_mape: 0.9800 - val_mse: 0.2542 - val_r2_score: 0.8700\n",
      "Epoch 29/100\n",
      "\u001b[1m4050/4050\u001b[0m \u001b[32m━━━━━━━━━━━━━━━━━━━━\u001b[0m\u001b[37m\u001b[0m \u001b[1m34s\u001b[0m 8ms/step - loss: 0.1734 - mae: 0.1734 - mape: 1.0085 - mse: 0.2451 - r2_score: 0.9045 - val_loss: 0.2888 - val_mae: 0.2889 - val_mape: 1.6417 - val_mse: 0.4584 - val_r2_score: 0.7621\n",
      "Epoch 30/100\n",
      "\u001b[1m  15/4050\u001b[0m \u001b[37m━━━━━━━━━━━━━━━━━━━━\u001b[0m \u001b[1m31s\u001b[0m 8ms/step - loss: 0.2325 - mae: 0.2325 - mape: 1.3332 - mse: 0.3456 - r2_score: 1.0594 "
     ]
    },
    {
     "name": "stderr",
     "output_type": "stream",
     "text": [
      "/workspaces/python/.venv/lib/python3.11/site-packages/urllib3/connectionpool.py:1103: InsecureRequestWarning: Unverified HTTPS request is being made to host 'mlflow.ap-home'. Adding certificate verification is strongly advised. See: https://urllib3.readthedocs.io/en/latest/advanced-usage.html#tls-warnings\n",
      "  warnings.warn(\n",
      "/workspaces/python/.venv/lib/python3.11/site-packages/urllib3/connectionpool.py:1103: InsecureRequestWarning: Unverified HTTPS request is being made to host 'mlflow.ap-home'. Adding certificate verification is strongly advised. See: https://urllib3.readthedocs.io/en/latest/advanced-usage.html#tls-warnings\n",
      "  warnings.warn(\n"
     ]
    },
    {
     "name": "stdout",
     "output_type": "stream",
     "text": [
      "\u001b[1m4049/4050\u001b[0m \u001b[32m━━━━━━━━━━━━━━━━━━━\u001b[0m\u001b[37m━\u001b[0m \u001b[1m0s\u001b[0m 8ms/step - loss: 0.1831 - mae: 0.1831 - mape: 1.0609 - mse: 0.2639 - r2_score: 0.8991"
     ]
    },
    {
     "name": "stderr",
     "output_type": "stream",
     "text": [
      "/workspaces/python/.venv/lib/python3.11/site-packages/urllib3/connectionpool.py:1103: InsecureRequestWarning: Unverified HTTPS request is being made to host 'mlflow.ap-home'. Adding certificate verification is strongly advised. See: https://urllib3.readthedocs.io/en/latest/advanced-usage.html#tls-warnings\n",
      "  warnings.warn(\n",
      "/workspaces/python/.venv/lib/python3.11/site-packages/urllib3/connectionpool.py:1103: InsecureRequestWarning: Unverified HTTPS request is being made to host 'mlflow.ap-home'. Adding certificate verification is strongly advised. See: https://urllib3.readthedocs.io/en/latest/advanced-usage.html#tls-warnings\n",
      "  warnings.warn(\n",
      "/workspaces/python/.venv/lib/python3.11/site-packages/urllib3/connectionpool.py:1103: InsecureRequestWarning: Unverified HTTPS request is being made to host 'mlflow.ap-home'. Adding certificate verification is strongly advised. See: https://urllib3.readthedocs.io/en/latest/advanced-usage.html#tls-warnings\n",
      "  warnings.warn(\n",
      "WARNING:absl:You are saving your model as an HDF5 file via `model.save()` or `keras.saving.save_model(model)`. This file format is considered legacy. We recommend using instead the native Keras format, e.g. `model.save('my_model.keras')` or `keras.saving.save_model(model, 'my_model.keras')`. \n"
     ]
    },
    {
     "name": "stdout",
     "output_type": "stream",
     "text": [
      "\u001b[1m4050/4050\u001b[0m \u001b[32m━━━━━━━━━━━━━━━━━━━━\u001b[0m\u001b[37m\u001b[0m \u001b[1m35s\u001b[0m 9ms/step - loss: 0.1831 - mae: 0.1831 - mape: 1.0608 - mse: 0.2639 - r2_score: 0.8991 - val_loss: 0.1847 - val_mae: 0.1846 - val_mape: 1.0472 - val_mse: 0.2542 - val_r2_score: 0.8692\n",
      "Epoch 31/100\n",
      "\u001b[1m4049/4050\u001b[0m \u001b[32m━━━━━━━━━━━━━━━━━━━\u001b[0m\u001b[37m━\u001b[0m \u001b[1m0s\u001b[0m 8ms/step - loss: 0.1655 - mae: 0.1655 - mape: 0.9605 - mse: 0.2285 - r2_score: 0.9086"
     ]
    },
    {
     "name": "stderr",
     "output_type": "stream",
     "text": [
      "/workspaces/python/.venv/lib/python3.11/site-packages/urllib3/connectionpool.py:1103: InsecureRequestWarning: Unverified HTTPS request is being made to host 'mlflow.ap-home'. Adding certificate verification is strongly advised. See: https://urllib3.readthedocs.io/en/latest/advanced-usage.html#tls-warnings\n",
      "  warnings.warn(\n",
      "/workspaces/python/.venv/lib/python3.11/site-packages/urllib3/connectionpool.py:1103: InsecureRequestWarning: Unverified HTTPS request is being made to host 'mlflow.ap-home'. Adding certificate verification is strongly advised. See: https://urllib3.readthedocs.io/en/latest/advanced-usage.html#tls-warnings\n",
      "  warnings.warn(\n",
      "/workspaces/python/.venv/lib/python3.11/site-packages/urllib3/connectionpool.py:1103: InsecureRequestWarning: Unverified HTTPS request is being made to host 'mlflow.ap-home'. Adding certificate verification is strongly advised. See: https://urllib3.readthedocs.io/en/latest/advanced-usage.html#tls-warnings\n",
      "  warnings.warn(\n",
      "WARNING:absl:You are saving your model as an HDF5 file via `model.save()` or `keras.saving.save_model(model)`. This file format is considered legacy. We recommend using instead the native Keras format, e.g. `model.save('my_model.keras')` or `keras.saving.save_model(model, 'my_model.keras')`. \n"
     ]
    },
    {
     "name": "stdout",
     "output_type": "stream",
     "text": [
      "\u001b[1m4050/4050\u001b[0m \u001b[32m━━━━━━━━━━━━━━━━━━━━\u001b[0m\u001b[37m\u001b[0m \u001b[1m35s\u001b[0m 9ms/step - loss: 0.1655 - mae: 0.1655 - mape: 0.9605 - mse: 0.2285 - r2_score: 0.9086 - val_loss: 0.1578 - val_mae: 0.1578 - val_mape: 0.9146 - val_mse: 0.2353 - val_r2_score: 0.8793\n",
      "Epoch 32/100\n",
      "\u001b[1m4044/4050\u001b[0m \u001b[32m━━━━━━━━━━━━━━━━━━━\u001b[0m\u001b[37m━\u001b[0m \u001b[1m0s\u001b[0m 8ms/step - loss: 0.1638 - mae: 0.1638 - mape: 0.9509 - mse: 0.2269 - r2_score: 0.9221"
     ]
    },
    {
     "name": "stderr",
     "output_type": "stream",
     "text": [
      "/workspaces/python/.venv/lib/python3.11/site-packages/urllib3/connectionpool.py:1103: InsecureRequestWarning: Unverified HTTPS request is being made to host 'mlflow.ap-home'. Adding certificate verification is strongly advised. See: https://urllib3.readthedocs.io/en/latest/advanced-usage.html#tls-warnings\n",
      "  warnings.warn(\n",
      "/workspaces/python/.venv/lib/python3.11/site-packages/urllib3/connectionpool.py:1103: InsecureRequestWarning: Unverified HTTPS request is being made to host 'mlflow.ap-home'. Adding certificate verification is strongly advised. See: https://urllib3.readthedocs.io/en/latest/advanced-usage.html#tls-warnings\n",
      "  warnings.warn(\n",
      "/workspaces/python/.venv/lib/python3.11/site-packages/urllib3/connectionpool.py:1103: InsecureRequestWarning: Unverified HTTPS request is being made to host 'mlflow.ap-home'. Adding certificate verification is strongly advised. See: https://urllib3.readthedocs.io/en/latest/advanced-usage.html#tls-warnings\n",
      "  warnings.warn(\n",
      "WARNING:absl:You are saving your model as an HDF5 file via `model.save()` or `keras.saving.save_model(model)`. This file format is considered legacy. We recommend using instead the native Keras format, e.g. `model.save('my_model.keras')` or `keras.saving.save_model(model, 'my_model.keras')`. \n"
     ]
    },
    {
     "name": "stdout",
     "output_type": "stream",
     "text": [
      "\u001b[1m4050/4050\u001b[0m \u001b[32m━━━━━━━━━━━━━━━━━━━━\u001b[0m\u001b[37m\u001b[0m \u001b[1m35s\u001b[0m 9ms/step - loss: 0.1639 - mae: 0.1639 - mape: 0.9510 - mse: 0.2269 - r2_score: 0.9220 - val_loss: 0.1521 - val_mae: 0.1522 - val_mape: 0.8920 - val_mse: 0.2536 - val_r2_score: 0.8695\n",
      "Epoch 33/100\n",
      "\u001b[1m4050/4050\u001b[0m \u001b[32m━━━━━━━━━━━━━━━━━━━━\u001b[0m\u001b[37m\u001b[0m \u001b[1m35s\u001b[0m 9ms/step - loss: 0.1653 - mae: 0.1653 - mape: 0.9606 - mse: 0.2300 - r2_score: 0.9005 - val_loss: 0.1547 - val_mae: 0.1547 - val_mape: 0.9088 - val_mse: 0.2576 - val_r2_score: 0.8675\n",
      "Epoch 34/100\n",
      "\u001b[1m  15/4050\u001b[0m \u001b[37m━━━━━━━━━━━━━━━━━━━━\u001b[0m \u001b[1m32s\u001b[0m 8ms/step - loss: 0.1616 - mae: 0.1616 - mape: 0.9204 - mse: 0.2136 - r2_score: 0.7308 "
     ]
    },
    {
     "name": "stderr",
     "output_type": "stream",
     "text": [
      "/workspaces/python/.venv/lib/python3.11/site-packages/urllib3/connectionpool.py:1103: InsecureRequestWarning: Unverified HTTPS request is being made to host 'mlflow.ap-home'. Adding certificate verification is strongly advised. See: https://urllib3.readthedocs.io/en/latest/advanced-usage.html#tls-warnings\n",
      "  warnings.warn(\n",
      "/workspaces/python/.venv/lib/python3.11/site-packages/urllib3/connectionpool.py:1103: InsecureRequestWarning: Unverified HTTPS request is being made to host 'mlflow.ap-home'. Adding certificate verification is strongly advised. See: https://urllib3.readthedocs.io/en/latest/advanced-usage.html#tls-warnings\n",
      "  warnings.warn(\n"
     ]
    },
    {
     "name": "stdout",
     "output_type": "stream",
     "text": [
      "\u001b[1m4050/4050\u001b[0m \u001b[32m━━━━━━━━━━━━━━━━━━━━\u001b[0m\u001b[37m\u001b[0m \u001b[1m34s\u001b[0m 8ms/step - loss: 0.1610 - mae: 0.1610 - mape: 0.9353 - mse: 0.2174 - r2_score: 0.9060 - val_loss: 0.1700 - val_mae: 0.1701 - val_mape: 0.9830 - val_mse: 0.2637 - val_r2_score: 0.8645\n",
      "Epoch 35/100\n",
      "\u001b[1m  22/4050\u001b[0m \u001b[37m━━━━━━━━━━━━━━━━━━━━\u001b[0m \u001b[1m29s\u001b[0m 7ms/step - loss: 0.1640 - mae: 0.1640 - mape: 0.9713 - mse: 0.2146 - r2_score: 0.6070"
     ]
    },
    {
     "name": "stderr",
     "output_type": "stream",
     "text": [
      "/workspaces/python/.venv/lib/python3.11/site-packages/urllib3/connectionpool.py:1103: InsecureRequestWarning: Unverified HTTPS request is being made to host 'mlflow.ap-home'. Adding certificate verification is strongly advised. See: https://urllib3.readthedocs.io/en/latest/advanced-usage.html#tls-warnings\n",
      "  warnings.warn(\n",
      "/workspaces/python/.venv/lib/python3.11/site-packages/urllib3/connectionpool.py:1103: InsecureRequestWarning: Unverified HTTPS request is being made to host 'mlflow.ap-home'. Adding certificate verification is strongly advised. See: https://urllib3.readthedocs.io/en/latest/advanced-usage.html#tls-warnings\n",
      "  warnings.warn(\n"
     ]
    },
    {
     "name": "stdout",
     "output_type": "stream",
     "text": [
      "\u001b[1m4043/4050\u001b[0m \u001b[32m━━━━━━━━━━━━━━━━━━━\u001b[0m\u001b[37m━\u001b[0m \u001b[1m0s\u001b[0m 7ms/step - loss: 0.1623 - mae: 0.1623 - mape: 0.9440 - mse: 0.2197 - r2_score: 0.9167"
     ]
    },
    {
     "name": "stderr",
     "output_type": "stream",
     "text": [
      "/workspaces/python/.venv/lib/python3.11/site-packages/urllib3/connectionpool.py:1103: InsecureRequestWarning: Unverified HTTPS request is being made to host 'mlflow.ap-home'. Adding certificate verification is strongly advised. See: https://urllib3.readthedocs.io/en/latest/advanced-usage.html#tls-warnings\n",
      "  warnings.warn(\n",
      "/workspaces/python/.venv/lib/python3.11/site-packages/urllib3/connectionpool.py:1103: InsecureRequestWarning: Unverified HTTPS request is being made to host 'mlflow.ap-home'. Adding certificate verification is strongly advised. See: https://urllib3.readthedocs.io/en/latest/advanced-usage.html#tls-warnings\n",
      "  warnings.warn(\n",
      "/workspaces/python/.venv/lib/python3.11/site-packages/urllib3/connectionpool.py:1103: InsecureRequestWarning: Unverified HTTPS request is being made to host 'mlflow.ap-home'. Adding certificate verification is strongly advised. See: https://urllib3.readthedocs.io/en/latest/advanced-usage.html#tls-warnings\n",
      "  warnings.warn(\n",
      "WARNING:absl:You are saving your model as an HDF5 file via `model.save()` or `keras.saving.save_model(model)`. This file format is considered legacy. We recommend using instead the native Keras format, e.g. `model.save('my_model.keras')` or `keras.saving.save_model(model, 'my_model.keras')`. \n"
     ]
    },
    {
     "name": "stdout",
     "output_type": "stream",
     "text": [
      "\u001b[1m4050/4050\u001b[0m \u001b[32m━━━━━━━━━━━━━━━━━━━━\u001b[0m\u001b[37m\u001b[0m \u001b[1m30s\u001b[0m 7ms/step - loss: 0.1623 - mae: 0.1623 - mape: 0.9440 - mse: 0.2198 - r2_score: 0.9166 - val_loss: 0.1547 - val_mae: 0.1548 - val_mape: 0.8919 - val_mse: 0.2348 - val_r2_score: 0.8796\n",
      "Epoch 36/100\n",
      "\u001b[1m4050/4050\u001b[0m \u001b[32m━━━━━━━━━━━━━━━━━━━━\u001b[0m\u001b[37m\u001b[0m \u001b[1m29s\u001b[0m 7ms/step - loss: 0.1615 - mae: 0.1615 - mape: 0.9393 - mse: 0.2208 - r2_score: 0.9135 - val_loss: 0.1680 - val_mae: 0.1681 - val_mape: 0.9951 - val_mse: 0.3377 - val_r2_score: 0.8248\n",
      "Epoch 37/100\n",
      "\u001b[1m  25/4050\u001b[0m \u001b[37m━━━━━━━━━━━━━━━━━━━━\u001b[0m \u001b[1m26s\u001b[0m 7ms/step - loss: 0.1709 - mae: 0.1709 - mape: 1.0077 - mse: 0.2704 - r2_score: 1.3788"
     ]
    },
    {
     "name": "stderr",
     "output_type": "stream",
     "text": [
      "/workspaces/python/.venv/lib/python3.11/site-packages/urllib3/connectionpool.py:1103: InsecureRequestWarning: Unverified HTTPS request is being made to host 'mlflow.ap-home'. Adding certificate verification is strongly advised. See: https://urllib3.readthedocs.io/en/latest/advanced-usage.html#tls-warnings\n",
      "  warnings.warn(\n",
      "/workspaces/python/.venv/lib/python3.11/site-packages/urllib3/connectionpool.py:1103: InsecureRequestWarning: Unverified HTTPS request is being made to host 'mlflow.ap-home'. Adding certificate verification is strongly advised. See: https://urllib3.readthedocs.io/en/latest/advanced-usage.html#tls-warnings\n",
      "  warnings.warn(\n"
     ]
    },
    {
     "name": "stdout",
     "output_type": "stream",
     "text": [
      "\u001b[1m4050/4050\u001b[0m \u001b[32m━━━━━━━━━━━━━━━━━━━━\u001b[0m\u001b[37m\u001b[0m \u001b[1m29s\u001b[0m 7ms/step - loss: 0.1654 - mae: 0.1654 - mape: 0.9621 - mse: 0.2312 - r2_score: 0.9225 - val_loss: 0.2711 - val_mae: 0.2712 - val_mape: 1.5414 - val_mse: 0.4337 - val_r2_score: 0.7734\n",
      "Epoch 38/100\n",
      "\u001b[1m  16/4050\u001b[0m \u001b[37m━━━━━━━━━━━━━━━━━━━━\u001b[0m \u001b[1m28s\u001b[0m 7ms/step - loss: 0.3180 - mae: 0.3180 - mape: 1.8570 - mse: 0.5975 - r2_score: 0.1424"
     ]
    },
    {
     "name": "stderr",
     "output_type": "stream",
     "text": [
      "/workspaces/python/.venv/lib/python3.11/site-packages/urllib3/connectionpool.py:1103: InsecureRequestWarning: Unverified HTTPS request is being made to host 'mlflow.ap-home'. Adding certificate verification is strongly advised. See: https://urllib3.readthedocs.io/en/latest/advanced-usage.html#tls-warnings\n",
      "  warnings.warn(\n",
      "/workspaces/python/.venv/lib/python3.11/site-packages/urllib3/connectionpool.py:1103: InsecureRequestWarning: Unverified HTTPS request is being made to host 'mlflow.ap-home'. Adding certificate verification is strongly advised. See: https://urllib3.readthedocs.io/en/latest/advanced-usage.html#tls-warnings\n",
      "  warnings.warn(\n"
     ]
    },
    {
     "name": "stdout",
     "output_type": "stream",
     "text": [
      "\u001b[1m4045/4050\u001b[0m \u001b[32m━━━━━━━━━━━━━━━━━━━\u001b[0m\u001b[37m━\u001b[0m \u001b[1m0s\u001b[0m 7ms/step - loss: 0.2138 - mae: 0.2138 - mape: 1.2415 - mse: 0.3385 - r2_score: 0.8604"
     ]
    },
    {
     "name": "stderr",
     "output_type": "stream",
     "text": [
      "/workspaces/python/.venv/lib/python3.11/site-packages/urllib3/connectionpool.py:1103: InsecureRequestWarning: Unverified HTTPS request is being made to host 'mlflow.ap-home'. Adding certificate verification is strongly advised. See: https://urllib3.readthedocs.io/en/latest/advanced-usage.html#tls-warnings\n",
      "  warnings.warn(\n",
      "/workspaces/python/.venv/lib/python3.11/site-packages/urllib3/connectionpool.py:1103: InsecureRequestWarning: Unverified HTTPS request is being made to host 'mlflow.ap-home'. Adding certificate verification is strongly advised. See: https://urllib3.readthedocs.io/en/latest/advanced-usage.html#tls-warnings\n",
      "  warnings.warn(\n",
      "/workspaces/python/.venv/lib/python3.11/site-packages/urllib3/connectionpool.py:1103: InsecureRequestWarning: Unverified HTTPS request is being made to host 'mlflow.ap-home'. Adding certificate verification is strongly advised. See: https://urllib3.readthedocs.io/en/latest/advanced-usage.html#tls-warnings\n",
      "  warnings.warn(\n",
      "WARNING:absl:You are saving your model as an HDF5 file via `model.save()` or `keras.saving.save_model(model)`. This file format is considered legacy. We recommend using instead the native Keras format, e.g. `model.save('my_model.keras')` or `keras.saving.save_model(model, 'my_model.keras')`. \n"
     ]
    },
    {
     "name": "stdout",
     "output_type": "stream",
     "text": [
      "\u001b[1m4050/4050\u001b[0m \u001b[32m━━━━━━━━━━━━━━━━━━━━\u001b[0m\u001b[37m\u001b[0m \u001b[1m29s\u001b[0m 7ms/step - loss: 0.2137 - mae: 0.2137 - mape: 1.2413 - mse: 0.3384 - r2_score: 0.8605 - val_loss: 0.1623 - val_mae: 0.1624 - val_mape: 0.9465 - val_mse: 0.2713 - val_r2_score: 0.8602\n",
      "Epoch 39/100\n",
      "\u001b[1m4048/4050\u001b[0m \u001b[32m━━━━━━━━━━━━━━━━━━━\u001b[0m\u001b[37m━\u001b[0m \u001b[1m0s\u001b[0m 7ms/step - loss: 0.1597 - mae: 0.1597 - mape: 0.9315 - mse: 0.2217 - r2_score: 0.8920"
     ]
    },
    {
     "name": "stderr",
     "output_type": "stream",
     "text": [
      "/workspaces/python/.venv/lib/python3.11/site-packages/urllib3/connectionpool.py:1103: InsecureRequestWarning: Unverified HTTPS request is being made to host 'mlflow.ap-home'. Adding certificate verification is strongly advised. See: https://urllib3.readthedocs.io/en/latest/advanced-usage.html#tls-warnings\n",
      "  warnings.warn(\n",
      "/workspaces/python/.venv/lib/python3.11/site-packages/urllib3/connectionpool.py:1103: InsecureRequestWarning: Unverified HTTPS request is being made to host 'mlflow.ap-home'. Adding certificate verification is strongly advised. See: https://urllib3.readthedocs.io/en/latest/advanced-usage.html#tls-warnings\n",
      "  warnings.warn(\n",
      "/workspaces/python/.venv/lib/python3.11/site-packages/urllib3/connectionpool.py:1103: InsecureRequestWarning: Unverified HTTPS request is being made to host 'mlflow.ap-home'. Adding certificate verification is strongly advised. See: https://urllib3.readthedocs.io/en/latest/advanced-usage.html#tls-warnings\n",
      "  warnings.warn(\n",
      "WARNING:absl:You are saving your model as an HDF5 file via `model.save()` or `keras.saving.save_model(model)`. This file format is considered legacy. We recommend using instead the native Keras format, e.g. `model.save('my_model.keras')` or `keras.saving.save_model(model, 'my_model.keras')`. \n"
     ]
    },
    {
     "name": "stdout",
     "output_type": "stream",
     "text": [
      "\u001b[1m4050/4050\u001b[0m \u001b[32m━━━━━━━━━━━━━━━━━━━━\u001b[0m\u001b[37m\u001b[0m \u001b[1m29s\u001b[0m 7ms/step - loss: 0.1597 - mae: 0.1597 - mape: 0.9315 - mse: 0.2217 - r2_score: 0.8920 - val_loss: 0.1506 - val_mae: 0.1506 - val_mape: 0.8805 - val_mse: 0.2439 - val_r2_score: 0.8747\n",
      "Epoch 40/100\n",
      "\u001b[1m4049/4050\u001b[0m \u001b[32m━━━━━━━━━━━━━━━━━━━\u001b[0m\u001b[37m━\u001b[0m \u001b[1m0s\u001b[0m 7ms/step - loss: 0.1698 - mae: 0.1698 - mape: 0.9876 - mse: 0.2394 - r2_score: 0.9131"
     ]
    },
    {
     "name": "stderr",
     "output_type": "stream",
     "text": [
      "/workspaces/python/.venv/lib/python3.11/site-packages/urllib3/connectionpool.py:1103: InsecureRequestWarning: Unverified HTTPS request is being made to host 'mlflow.ap-home'. Adding certificate verification is strongly advised. See: https://urllib3.readthedocs.io/en/latest/advanced-usage.html#tls-warnings\n",
      "  warnings.warn(\n",
      "/workspaces/python/.venv/lib/python3.11/site-packages/urllib3/connectionpool.py:1103: InsecureRequestWarning: Unverified HTTPS request is being made to host 'mlflow.ap-home'. Adding certificate verification is strongly advised. See: https://urllib3.readthedocs.io/en/latest/advanced-usage.html#tls-warnings\n",
      "  warnings.warn(\n",
      "/workspaces/python/.venv/lib/python3.11/site-packages/urllib3/connectionpool.py:1103: InsecureRequestWarning: Unverified HTTPS request is being made to host 'mlflow.ap-home'. Adding certificate verification is strongly advised. See: https://urllib3.readthedocs.io/en/latest/advanced-usage.html#tls-warnings\n",
      "  warnings.warn(\n",
      "WARNING:absl:You are saving your model as an HDF5 file via `model.save()` or `keras.saving.save_model(model)`. This file format is considered legacy. We recommend using instead the native Keras format, e.g. `model.save('my_model.keras')` or `keras.saving.save_model(model, 'my_model.keras')`. \n"
     ]
    },
    {
     "name": "stdout",
     "output_type": "stream",
     "text": [
      "\u001b[1m4050/4050\u001b[0m \u001b[32m━━━━━━━━━━━━━━━━━━━━\u001b[0m\u001b[37m\u001b[0m \u001b[1m29s\u001b[0m 7ms/step - loss: 0.1698 - mae: 0.1698 - mape: 0.9876 - mse: 0.2394 - r2_score: 0.9131 - val_loss: 0.1436 - val_mae: 0.1437 - val_mape: 0.8480 - val_mse: 0.2440 - val_r2_score: 0.8751\n",
      "Epoch 41/100\n",
      "\u001b[1m4050/4050\u001b[0m \u001b[32m━━━━━━━━━━━━━━━━━━━━\u001b[0m\u001b[37m\u001b[0m \u001b[1m29s\u001b[0m 7ms/step - loss: 0.1645 - mae: 0.1645 - mape: 0.9542 - mse: 0.2316 - r2_score: 0.9038 - val_loss: 0.2700 - val_mae: 0.2701 - val_mape: 1.5584 - val_mse: 0.4515 - val_r2_score: 0.7640\n",
      "Epoch 42/100\n",
      "\u001b[1m  25/4050\u001b[0m \u001b[37m━━━━━━━━━━━━━━━━━━━━\u001b[0m \u001b[1m26s\u001b[0m 7ms/step - loss: 0.2439 - mae: 0.2439 - mape: 1.4208 - mse: 0.4487 - r2_score: 0.6443"
     ]
    },
    {
     "name": "stderr",
     "output_type": "stream",
     "text": [
      "/workspaces/python/.venv/lib/python3.11/site-packages/urllib3/connectionpool.py:1103: InsecureRequestWarning: Unverified HTTPS request is being made to host 'mlflow.ap-home'. Adding certificate verification is strongly advised. See: https://urllib3.readthedocs.io/en/latest/advanced-usage.html#tls-warnings\n",
      "  warnings.warn(\n",
      "/workspaces/python/.venv/lib/python3.11/site-packages/urllib3/connectionpool.py:1103: InsecureRequestWarning: Unverified HTTPS request is being made to host 'mlflow.ap-home'. Adding certificate verification is strongly advised. See: https://urllib3.readthedocs.io/en/latest/advanced-usage.html#tls-warnings\n",
      "  warnings.warn(\n"
     ]
    },
    {
     "name": "stdout",
     "output_type": "stream",
     "text": [
      "\u001b[1m4043/4050\u001b[0m \u001b[32m━━━━━━━━━━━━━━━━━━━\u001b[0m\u001b[37m━\u001b[0m \u001b[1m0s\u001b[0m 7ms/step - loss: 0.1710 - mae: 0.1710 - mape: 0.9922 - mse: 0.2425 - r2_score: 0.9222"
     ]
    },
    {
     "name": "stderr",
     "output_type": "stream",
     "text": [
      "/workspaces/python/.venv/lib/python3.11/site-packages/urllib3/connectionpool.py:1103: InsecureRequestWarning: Unverified HTTPS request is being made to host 'mlflow.ap-home'. Adding certificate verification is strongly advised. See: https://urllib3.readthedocs.io/en/latest/advanced-usage.html#tls-warnings\n",
      "  warnings.warn(\n",
      "/workspaces/python/.venv/lib/python3.11/site-packages/urllib3/connectionpool.py:1103: InsecureRequestWarning: Unverified HTTPS request is being made to host 'mlflow.ap-home'. Adding certificate verification is strongly advised. See: https://urllib3.readthedocs.io/en/latest/advanced-usage.html#tls-warnings\n",
      "  warnings.warn(\n",
      "/workspaces/python/.venv/lib/python3.11/site-packages/urllib3/connectionpool.py:1103: InsecureRequestWarning: Unverified HTTPS request is being made to host 'mlflow.ap-home'. Adding certificate verification is strongly advised. See: https://urllib3.readthedocs.io/en/latest/advanced-usage.html#tls-warnings\n",
      "  warnings.warn(\n",
      "WARNING:absl:You are saving your model as an HDF5 file via `model.save()` or `keras.saving.save_model(model)`. This file format is considered legacy. We recommend using instead the native Keras format, e.g. `model.save('my_model.keras')` or `keras.saving.save_model(model, 'my_model.keras')`. \n"
     ]
    },
    {
     "name": "stdout",
     "output_type": "stream",
     "text": [
      "\u001b[1m4050/4050\u001b[0m \u001b[32m━━━━━━━━━━━━━━━━━━━━\u001b[0m\u001b[37m\u001b[0m \u001b[1m29s\u001b[0m 7ms/step - loss: 0.1710 - mae: 0.1710 - mape: 0.9922 - mse: 0.2425 - r2_score: 0.9221 - val_loss: 0.1533 - val_mae: 0.1534 - val_mape: 0.9002 - val_mse: 0.2667 - val_r2_score: 0.8627\n",
      "Epoch 43/100\n",
      "\u001b[1m4043/4050\u001b[0m \u001b[32m━━━━━━━━━━━━━━━━━━━\u001b[0m\u001b[37m━\u001b[0m \u001b[1m0s\u001b[0m 7ms/step - loss: 0.1641 - mae: 0.1641 - mape: 0.9524 - mse: 0.2284 - r2_score: 0.9097"
     ]
    },
    {
     "name": "stderr",
     "output_type": "stream",
     "text": [
      "/workspaces/python/.venv/lib/python3.11/site-packages/urllib3/connectionpool.py:1103: InsecureRequestWarning: Unverified HTTPS request is being made to host 'mlflow.ap-home'. Adding certificate verification is strongly advised. See: https://urllib3.readthedocs.io/en/latest/advanced-usage.html#tls-warnings\n",
      "  warnings.warn(\n",
      "/workspaces/python/.venv/lib/python3.11/site-packages/urllib3/connectionpool.py:1103: InsecureRequestWarning: Unverified HTTPS request is being made to host 'mlflow.ap-home'. Adding certificate verification is strongly advised. See: https://urllib3.readthedocs.io/en/latest/advanced-usage.html#tls-warnings\n",
      "  warnings.warn(\n",
      "/workspaces/python/.venv/lib/python3.11/site-packages/urllib3/connectionpool.py:1103: InsecureRequestWarning: Unverified HTTPS request is being made to host 'mlflow.ap-home'. Adding certificate verification is strongly advised. See: https://urllib3.readthedocs.io/en/latest/advanced-usage.html#tls-warnings\n",
      "  warnings.warn(\n",
      "WARNING:absl:You are saving your model as an HDF5 file via `model.save()` or `keras.saving.save_model(model)`. This file format is considered legacy. We recommend using instead the native Keras format, e.g. `model.save('my_model.keras')` or `keras.saving.save_model(model, 'my_model.keras')`. \n"
     ]
    },
    {
     "name": "stdout",
     "output_type": "stream",
     "text": [
      "\u001b[1m4050/4050\u001b[0m \u001b[32m━━━━━━━━━━━━━━━━━━━━\u001b[0m\u001b[37m\u001b[0m \u001b[1m29s\u001b[0m 7ms/step - loss: 0.1640 - mae: 0.1640 - mape: 0.9523 - mse: 0.2284 - r2_score: 0.9096 - val_loss: 0.1465 - val_mae: 0.1465 - val_mape: 0.8537 - val_mse: 0.2260 - val_r2_score: 0.8842\n",
      "Epoch 44/100\n",
      "\u001b[1m4050/4050\u001b[0m \u001b[32m━━━━━━━━━━━━━━━━━━━━\u001b[0m\u001b[37m\u001b[0m \u001b[1m29s\u001b[0m 7ms/step - loss: 0.1519 - mae: 0.1519 - mape: 0.8832 - mse: 0.2025 - r2_score: 0.9199 - val_loss: 0.1662 - val_mae: 0.1663 - val_mape: 0.9639 - val_mse: 0.2772 - val_r2_score: 0.8574\n",
      "Epoch 45/100\n",
      "\u001b[1m  25/4050\u001b[0m \u001b[37m━━━━━━━━━━━━━━━━━━━━\u001b[0m \u001b[1m26s\u001b[0m 7ms/step - loss: 0.1449 - mae: 0.1449 - mape: 0.8084 - mse: 0.1448 - r2_score: 1.2836"
     ]
    },
    {
     "name": "stderr",
     "output_type": "stream",
     "text": [
      "/workspaces/python/.venv/lib/python3.11/site-packages/urllib3/connectionpool.py:1103: InsecureRequestWarning: Unverified HTTPS request is being made to host 'mlflow.ap-home'. Adding certificate verification is strongly advised. See: https://urllib3.readthedocs.io/en/latest/advanced-usage.html#tls-warnings\n",
      "  warnings.warn(\n",
      "/workspaces/python/.venv/lib/python3.11/site-packages/urllib3/connectionpool.py:1103: InsecureRequestWarning: Unverified HTTPS request is being made to host 'mlflow.ap-home'. Adding certificate verification is strongly advised. See: https://urllib3.readthedocs.io/en/latest/advanced-usage.html#tls-warnings\n",
      "  warnings.warn(\n"
     ]
    },
    {
     "name": "stdout",
     "output_type": "stream",
     "text": [
      "\u001b[1m4050/4050\u001b[0m \u001b[32m━━━━━━━━━━━━━━━━━━━━\u001b[0m\u001b[37m\u001b[0m \u001b[1m29s\u001b[0m 7ms/step - loss: 0.1599 - mae: 0.1599 - mape: 0.9263 - mse: 0.2133 - r2_score: 0.9222 - val_loss: 0.1710 - val_mae: 0.1710 - val_mape: 0.9981 - val_mse: 0.2829 - val_r2_score: 0.8540\n",
      "Epoch 46/100\n",
      "\u001b[1m  23/4050\u001b[0m \u001b[37m━━━━━━━━━━━━━━━━━━━━\u001b[0m \u001b[1m29s\u001b[0m 7ms/step - loss: 0.1293 - mae: 0.1293 - mape: 0.7230 - mse: 0.1123 - r2_score: 0.9835"
     ]
    },
    {
     "name": "stderr",
     "output_type": "stream",
     "text": [
      "/workspaces/python/.venv/lib/python3.11/site-packages/urllib3/connectionpool.py:1103: InsecureRequestWarning: Unverified HTTPS request is being made to host 'mlflow.ap-home'. Adding certificate verification is strongly advised. See: https://urllib3.readthedocs.io/en/latest/advanced-usage.html#tls-warnings\n",
      "  warnings.warn(\n",
      "/workspaces/python/.venv/lib/python3.11/site-packages/urllib3/connectionpool.py:1103: InsecureRequestWarning: Unverified HTTPS request is being made to host 'mlflow.ap-home'. Adding certificate verification is strongly advised. See: https://urllib3.readthedocs.io/en/latest/advanced-usage.html#tls-warnings\n",
      "  warnings.warn(\n"
     ]
    },
    {
     "name": "stdout",
     "output_type": "stream",
     "text": [
      "\u001b[1m4047/4050\u001b[0m \u001b[32m━━━━━━━━━━━━━━━━━━━\u001b[0m\u001b[37m━\u001b[0m \u001b[1m0s\u001b[0m 7ms/step - loss: 0.1670 - mae: 0.1670 - mape: 0.9681 - mse: 0.2371 - r2_score: 0.8839"
     ]
    },
    {
     "name": "stderr",
     "output_type": "stream",
     "text": [
      "/workspaces/python/.venv/lib/python3.11/site-packages/urllib3/connectionpool.py:1103: InsecureRequestWarning: Unverified HTTPS request is being made to host 'mlflow.ap-home'. Adding certificate verification is strongly advised. See: https://urllib3.readthedocs.io/en/latest/advanced-usage.html#tls-warnings\n",
      "  warnings.warn(\n",
      "/workspaces/python/.venv/lib/python3.11/site-packages/urllib3/connectionpool.py:1103: InsecureRequestWarning: Unverified HTTPS request is being made to host 'mlflow.ap-home'. Adding certificate verification is strongly advised. See: https://urllib3.readthedocs.io/en/latest/advanced-usage.html#tls-warnings\n",
      "  warnings.warn(\n",
      "/workspaces/python/.venv/lib/python3.11/site-packages/urllib3/connectionpool.py:1103: InsecureRequestWarning: Unverified HTTPS request is being made to host 'mlflow.ap-home'. Adding certificate verification is strongly advised. See: https://urllib3.readthedocs.io/en/latest/advanced-usage.html#tls-warnings\n",
      "  warnings.warn(\n",
      "WARNING:absl:You are saving your model as an HDF5 file via `model.save()` or `keras.saving.save_model(model)`. This file format is considered legacy. We recommend using instead the native Keras format, e.g. `model.save('my_model.keras')` or `keras.saving.save_model(model, 'my_model.keras')`. \n"
     ]
    },
    {
     "name": "stdout",
     "output_type": "stream",
     "text": [
      "\u001b[1m4050/4050\u001b[0m \u001b[32m━━━━━━━━━━━━━━━━━━━━\u001b[0m\u001b[37m\u001b[0m \u001b[1m29s\u001b[0m 7ms/step - loss: 0.1670 - mae: 0.1670 - mape: 0.9681 - mse: 0.2371 - r2_score: 0.8839 - val_loss: 0.1590 - val_mae: 0.1591 - val_mape: 0.9251 - val_mse: 0.2788 - val_r2_score: 0.8562\n",
      "Epoch 47/100\n",
      "\u001b[1m4049/4050\u001b[0m \u001b[32m━━━━━━━━━━━━━━━━━━━\u001b[0m\u001b[37m━\u001b[0m \u001b[1m0s\u001b[0m 7ms/step - loss: 0.1617 - mae: 0.1617 - mape: 0.9400 - mse: 0.2286 - r2_score: 0.9112"
     ]
    },
    {
     "name": "stderr",
     "output_type": "stream",
     "text": [
      "/workspaces/python/.venv/lib/python3.11/site-packages/urllib3/connectionpool.py:1103: InsecureRequestWarning: Unverified HTTPS request is being made to host 'mlflow.ap-home'. Adding certificate verification is strongly advised. See: https://urllib3.readthedocs.io/en/latest/advanced-usage.html#tls-warnings\n",
      "  warnings.warn(\n",
      "/workspaces/python/.venv/lib/python3.11/site-packages/urllib3/connectionpool.py:1103: InsecureRequestWarning: Unverified HTTPS request is being made to host 'mlflow.ap-home'. Adding certificate verification is strongly advised. See: https://urllib3.readthedocs.io/en/latest/advanced-usage.html#tls-warnings\n",
      "  warnings.warn(\n",
      "/workspaces/python/.venv/lib/python3.11/site-packages/urllib3/connectionpool.py:1103: InsecureRequestWarning: Unverified HTTPS request is being made to host 'mlflow.ap-home'. Adding certificate verification is strongly advised. See: https://urllib3.readthedocs.io/en/latest/advanced-usage.html#tls-warnings\n",
      "  warnings.warn(\n",
      "WARNING:absl:You are saving your model as an HDF5 file via `model.save()` or `keras.saving.save_model(model)`. This file format is considered legacy. We recommend using instead the native Keras format, e.g. `model.save('my_model.keras')` or `keras.saving.save_model(model, 'my_model.keras')`. \n"
     ]
    },
    {
     "name": "stdout",
     "output_type": "stream",
     "text": [
      "\u001b[1m4050/4050\u001b[0m \u001b[32m━━━━━━━━━━━━━━━━━━━━\u001b[0m\u001b[37m\u001b[0m \u001b[1m29s\u001b[0m 7ms/step - loss: 0.1617 - mae: 0.1617 - mape: 0.9400 - mse: 0.2286 - r2_score: 0.9112 - val_loss: 0.1424 - val_mae: 0.1425 - val_mape: 0.8391 - val_mse: 0.2450 - val_r2_score: 0.8744\n",
      "Epoch 48/100\n",
      "\u001b[1m4050/4050\u001b[0m \u001b[32m━━━━━━━━━━━━━━━━━━━━\u001b[0m\u001b[37m\u001b[0m \u001b[1m29s\u001b[0m 7ms/step - loss: 0.1688 - mae: 0.1688 - mape: 0.9811 - mse: 0.2386 - r2_score: 0.8847 - val_loss: 0.1437 - val_mae: 0.1438 - val_mape: 0.8428 - val_mse: 0.2397 - val_r2_score: 0.8769\n",
      "Epoch 49/100\n",
      "\u001b[1m  25/4050\u001b[0m \u001b[37m━━━━━━━━━━━━━━━━━━━━\u001b[0m \u001b[1m26s\u001b[0m 7ms/step - loss: 0.1698 - mae: 0.1698 - mape: 1.0128 - mse: 0.2823 - r2_score: 0.6784"
     ]
    },
    {
     "name": "stderr",
     "output_type": "stream",
     "text": [
      "/workspaces/python/.venv/lib/python3.11/site-packages/urllib3/connectionpool.py:1103: InsecureRequestWarning: Unverified HTTPS request is being made to host 'mlflow.ap-home'. Adding certificate verification is strongly advised. See: https://urllib3.readthedocs.io/en/latest/advanced-usage.html#tls-warnings\n",
      "  warnings.warn(\n",
      "/workspaces/python/.venv/lib/python3.11/site-packages/urllib3/connectionpool.py:1103: InsecureRequestWarning: Unverified HTTPS request is being made to host 'mlflow.ap-home'. Adding certificate verification is strongly advised. See: https://urllib3.readthedocs.io/en/latest/advanced-usage.html#tls-warnings\n",
      "  warnings.warn(\n"
     ]
    },
    {
     "name": "stdout",
     "output_type": "stream",
     "text": [
      "\u001b[1m4050/4050\u001b[0m \u001b[32m━━━━━━━━━━━━━━━━━━━━\u001b[0m\u001b[37m\u001b[0m \u001b[1m29s\u001b[0m 7ms/step - loss: 0.1549 - mae: 0.1549 - mape: 0.9002 - mse: 0.2101 - r2_score: 0.9270 - val_loss: 0.2489 - val_mae: 0.2490 - val_mape: 1.3844 - val_mse: 0.4182 - val_r2_score: 0.7818\n",
      "Epoch 50/100\n",
      "\u001b[1m  25/4050\u001b[0m \u001b[37m━━━━━━━━━━━━━━━━━━━━\u001b[0m \u001b[1m26s\u001b[0m 7ms/step - loss: 0.2179 - mae: 0.2179 - mape: 1.2543 - mse: 0.3541 - r2_score: 0.2127"
     ]
    },
    {
     "name": "stderr",
     "output_type": "stream",
     "text": [
      "/workspaces/python/.venv/lib/python3.11/site-packages/urllib3/connectionpool.py:1103: InsecureRequestWarning: Unverified HTTPS request is being made to host 'mlflow.ap-home'. Adding certificate verification is strongly advised. See: https://urllib3.readthedocs.io/en/latest/advanced-usage.html#tls-warnings\n",
      "  warnings.warn(\n",
      "/workspaces/python/.venv/lib/python3.11/site-packages/urllib3/connectionpool.py:1103: InsecureRequestWarning: Unverified HTTPS request is being made to host 'mlflow.ap-home'. Adding certificate verification is strongly advised. See: https://urllib3.readthedocs.io/en/latest/advanced-usage.html#tls-warnings\n",
      "  warnings.warn(\n"
     ]
    },
    {
     "name": "stdout",
     "output_type": "stream",
     "text": [
      "\u001b[1m4050/4050\u001b[0m \u001b[32m━━━━━━━━━━━━━━━━━━━━\u001b[0m\u001b[37m\u001b[0m \u001b[1m0s\u001b[0m 7ms/step - loss: 0.1705 - mae: 0.1705 - mape: 0.9904 - mse: 0.2418 - r2_score: 0.8821"
     ]
    },
    {
     "name": "stderr",
     "output_type": "stream",
     "text": [
      "/workspaces/python/.venv/lib/python3.11/site-packages/urllib3/connectionpool.py:1103: InsecureRequestWarning: Unverified HTTPS request is being made to host 'mlflow.ap-home'. Adding certificate verification is strongly advised. See: https://urllib3.readthedocs.io/en/latest/advanced-usage.html#tls-warnings\n",
      "  warnings.warn(\n",
      "/workspaces/python/.venv/lib/python3.11/site-packages/urllib3/connectionpool.py:1103: InsecureRequestWarning: Unverified HTTPS request is being made to host 'mlflow.ap-home'. Adding certificate verification is strongly advised. See: https://urllib3.readthedocs.io/en/latest/advanced-usage.html#tls-warnings\n",
      "  warnings.warn(\n",
      "/workspaces/python/.venv/lib/python3.11/site-packages/urllib3/connectionpool.py:1103: InsecureRequestWarning: Unverified HTTPS request is being made to host 'mlflow.ap-home'. Adding certificate verification is strongly advised. See: https://urllib3.readthedocs.io/en/latest/advanced-usage.html#tls-warnings\n",
      "  warnings.warn(\n",
      "WARNING:absl:You are saving your model as an HDF5 file via `model.save()` or `keras.saving.save_model(model)`. This file format is considered legacy. We recommend using instead the native Keras format, e.g. `model.save('my_model.keras')` or `keras.saving.save_model(model, 'my_model.keras')`. \n"
     ]
    },
    {
     "name": "stdout",
     "output_type": "stream",
     "text": [
      "\u001b[1m4050/4050\u001b[0m \u001b[32m━━━━━━━━━━━━━━━━━━━━\u001b[0m\u001b[37m\u001b[0m \u001b[1m29s\u001b[0m 7ms/step - loss: 0.1705 - mae: 0.1705 - mape: 0.9904 - mse: 0.2418 - r2_score: 0.8821 - val_loss: 0.1536 - val_mae: 0.1536 - val_mape: 0.8981 - val_mse: 0.2770 - val_r2_score: 0.8572\n",
      "Epoch 51/100\n",
      "\u001b[1m4050/4050\u001b[0m \u001b[32m━━━━━━━━━━━━━━━━━━━━\u001b[0m\u001b[37m\u001b[0m \u001b[1m29s\u001b[0m 7ms/step - loss: 0.1794 - mae: 0.1794 - mape: 1.0423 - mse: 0.2640 - r2_score: 0.8981 - val_loss: 0.1638 - val_mae: 0.1639 - val_mape: 0.9468 - val_mse: 0.2516 - val_r2_score: 0.8707\n",
      "Epoch 52/100\n",
      "\u001b[1m  17/4050\u001b[0m \u001b[37m━━━━━━━━━━━━━━━━━━━━\u001b[0m \u001b[1m27s\u001b[0m 7ms/step - loss: 0.1568 - mae: 0.1568 - mape: 0.9129 - mse: 0.2196 - r2_score: 0.6543 "
     ]
    },
    {
     "name": "stderr",
     "output_type": "stream",
     "text": [
      "/workspaces/python/.venv/lib/python3.11/site-packages/urllib3/connectionpool.py:1103: InsecureRequestWarning: Unverified HTTPS request is being made to host 'mlflow.ap-home'. Adding certificate verification is strongly advised. See: https://urllib3.readthedocs.io/en/latest/advanced-usage.html#tls-warnings\n",
      "  warnings.warn(\n",
      "/workspaces/python/.venv/lib/python3.11/site-packages/urllib3/connectionpool.py:1103: InsecureRequestWarning: Unverified HTTPS request is being made to host 'mlflow.ap-home'. Adding certificate verification is strongly advised. See: https://urllib3.readthedocs.io/en/latest/advanced-usage.html#tls-warnings\n",
      "  warnings.warn(\n"
     ]
    },
    {
     "name": "stdout",
     "output_type": "stream",
     "text": [
      "\u001b[1m4050/4050\u001b[0m \u001b[32m━━━━━━━━━━━━━━━━━━━━\u001b[0m\u001b[37m\u001b[0m \u001b[1m29s\u001b[0m 7ms/step - loss: 0.1629 - mae: 0.1629 - mape: 0.9472 - mse: 0.2277 - r2_score: 0.9053 - val_loss: 0.1661 - val_mae: 0.1662 - val_mape: 0.9617 - val_mse: 0.2739 - val_r2_score: 0.8586\n",
      "Epoch 53/100\n",
      "\u001b[1m  17/4050\u001b[0m \u001b[37m━━━━━━━━━━━━━━━━━━━━\u001b[0m \u001b[1m27s\u001b[0m 7ms/step - loss: 0.1381 - mae: 0.1381 - mape: 0.8029 - mse: 0.1536 - r2_score: 0.4183 "
     ]
    },
    {
     "name": "stderr",
     "output_type": "stream",
     "text": [
      "/workspaces/python/.venv/lib/python3.11/site-packages/urllib3/connectionpool.py:1103: InsecureRequestWarning: Unverified HTTPS request is being made to host 'mlflow.ap-home'. Adding certificate verification is strongly advised. See: https://urllib3.readthedocs.io/en/latest/advanced-usage.html#tls-warnings\n",
      "  warnings.warn(\n",
      "/workspaces/python/.venv/lib/python3.11/site-packages/urllib3/connectionpool.py:1103: InsecureRequestWarning: Unverified HTTPS request is being made to host 'mlflow.ap-home'. Adding certificate verification is strongly advised. See: https://urllib3.readthedocs.io/en/latest/advanced-usage.html#tls-warnings\n",
      "  warnings.warn(\n"
     ]
    },
    {
     "name": "stdout",
     "output_type": "stream",
     "text": [
      "\u001b[1m4045/4050\u001b[0m \u001b[32m━━━━━━━━━━━━━━━━━━━\u001b[0m\u001b[37m━\u001b[0m \u001b[1m0s\u001b[0m 7ms/step - loss: 0.1566 - mae: 0.1566 - mape: 0.9097 - mse: 0.2140 - r2_score: 0.9165"
     ]
    },
    {
     "name": "stderr",
     "output_type": "stream",
     "text": [
      "/workspaces/python/.venv/lib/python3.11/site-packages/urllib3/connectionpool.py:1103: InsecureRequestWarning: Unverified HTTPS request is being made to host 'mlflow.ap-home'. Adding certificate verification is strongly advised. See: https://urllib3.readthedocs.io/en/latest/advanced-usage.html#tls-warnings\n",
      "  warnings.warn(\n",
      "/workspaces/python/.venv/lib/python3.11/site-packages/urllib3/connectionpool.py:1103: InsecureRequestWarning: Unverified HTTPS request is being made to host 'mlflow.ap-home'. Adding certificate verification is strongly advised. See: https://urllib3.readthedocs.io/en/latest/advanced-usage.html#tls-warnings\n",
      "  warnings.warn(\n",
      "/workspaces/python/.venv/lib/python3.11/site-packages/urllib3/connectionpool.py:1103: InsecureRequestWarning: Unverified HTTPS request is being made to host 'mlflow.ap-home'. Adding certificate verification is strongly advised. See: https://urllib3.readthedocs.io/en/latest/advanced-usage.html#tls-warnings\n",
      "  warnings.warn(\n",
      "WARNING:absl:You are saving your model as an HDF5 file via `model.save()` or `keras.saving.save_model(model)`. This file format is considered legacy. We recommend using instead the native Keras format, e.g. `model.save('my_model.keras')` or `keras.saving.save_model(model, 'my_model.keras')`. \n"
     ]
    },
    {
     "name": "stdout",
     "output_type": "stream",
     "text": [
      "\u001b[1m4050/4050\u001b[0m \u001b[32m━━━━━━━━━━━━━━━━━━━━\u001b[0m\u001b[37m\u001b[0m \u001b[1m29s\u001b[0m 7ms/step - loss: 0.1566 - mae: 0.1566 - mape: 0.9097 - mse: 0.2140 - r2_score: 0.9165 - val_loss: 0.1401 - val_mae: 0.1402 - val_mape: 0.8243 - val_mse: 0.2390 - val_r2_score: 0.8775\n",
      "Epoch 54/100\n",
      "\u001b[1m4050/4050\u001b[0m \u001b[32m━━━━━━━━━━━━━━━━━━━━\u001b[0m\u001b[37m\u001b[0m \u001b[1m30s\u001b[0m 7ms/step - loss: 0.1607 - mae: 0.1607 - mape: 0.9316 - mse: 0.2183 - r2_score: 0.9196 - val_loss: 0.1644 - val_mae: 0.1645 - val_mape: 0.9596 - val_mse: 0.2969 - val_r2_score: 0.8466\n",
      "Epoch 55/100\n",
      "\u001b[1m  17/4050\u001b[0m \u001b[37m━━━━━━━━━━━━━━━━━━━━\u001b[0m \u001b[1m28s\u001b[0m 7ms/step - loss: 0.1325 - mae: 0.1325 - mape: 0.7461 - mse: 0.1494 - r2_score: 0.7441"
     ]
    },
    {
     "name": "stderr",
     "output_type": "stream",
     "text": [
      "/workspaces/python/.venv/lib/python3.11/site-packages/urllib3/connectionpool.py:1103: InsecureRequestWarning: Unverified HTTPS request is being made to host 'mlflow.ap-home'. Adding certificate verification is strongly advised. See: https://urllib3.readthedocs.io/en/latest/advanced-usage.html#tls-warnings\n",
      "  warnings.warn(\n",
      "/workspaces/python/.venv/lib/python3.11/site-packages/urllib3/connectionpool.py:1103: InsecureRequestWarning: Unverified HTTPS request is being made to host 'mlflow.ap-home'. Adding certificate verification is strongly advised. See: https://urllib3.readthedocs.io/en/latest/advanced-usage.html#tls-warnings\n",
      "  warnings.warn(\n"
     ]
    },
    {
     "name": "stdout",
     "output_type": "stream",
     "text": [
      "\u001b[1m4048/4050\u001b[0m \u001b[32m━━━━━━━━━━━━━━━━━━━\u001b[0m\u001b[37m━\u001b[0m \u001b[1m0s\u001b[0m 7ms/step - loss: 0.2240 - mae: 0.2240 - mape: 1.2845 - mse: 0.3580 - r2_score: 0.8657"
     ]
    },
    {
     "name": "stderr",
     "output_type": "stream",
     "text": [
      "/workspaces/python/.venv/lib/python3.11/site-packages/urllib3/connectionpool.py:1103: InsecureRequestWarning: Unverified HTTPS request is being made to host 'mlflow.ap-home'. Adding certificate verification is strongly advised. See: https://urllib3.readthedocs.io/en/latest/advanced-usage.html#tls-warnings\n",
      "  warnings.warn(\n",
      "/workspaces/python/.venv/lib/python3.11/site-packages/urllib3/connectionpool.py:1103: InsecureRequestWarning: Unverified HTTPS request is being made to host 'mlflow.ap-home'. Adding certificate verification is strongly advised. See: https://urllib3.readthedocs.io/en/latest/advanced-usage.html#tls-warnings\n",
      "  warnings.warn(\n",
      "/workspaces/python/.venv/lib/python3.11/site-packages/urllib3/connectionpool.py:1103: InsecureRequestWarning: Unverified HTTPS request is being made to host 'mlflow.ap-home'. Adding certificate verification is strongly advised. See: https://urllib3.readthedocs.io/en/latest/advanced-usage.html#tls-warnings\n",
      "  warnings.warn(\n",
      "WARNING:absl:You are saving your model as an HDF5 file via `model.save()` or `keras.saving.save_model(model)`. This file format is considered legacy. We recommend using instead the native Keras format, e.g. `model.save('my_model.keras')` or `keras.saving.save_model(model, 'my_model.keras')`. \n"
     ]
    },
    {
     "name": "stdout",
     "output_type": "stream",
     "text": [
      "\u001b[1m4050/4050\u001b[0m \u001b[32m━━━━━━━━━━━━━━━━━━━━\u001b[0m\u001b[37m\u001b[0m \u001b[1m30s\u001b[0m 7ms/step - loss: 0.2240 - mae: 0.2240 - mape: 1.2843 - mse: 0.3580 - r2_score: 0.8657 - val_loss: 0.1493 - val_mae: 0.1494 - val_mape: 0.8812 - val_mse: 0.2548 - val_r2_score: 0.8692\n",
      "Epoch 56/100\n",
      "\u001b[1m4050/4050\u001b[0m \u001b[32m━━━━━━━━━━━━━━━━━━━━\u001b[0m\u001b[37m\u001b[0m \u001b[1m30s\u001b[0m 7ms/step - loss: 0.1596 - mae: 0.1596 - mape: 0.9255 - mse: 0.2181 - r2_score: 0.9425 - val_loss: 0.1638 - val_mae: 0.1638 - val_mape: 0.9546 - val_mse: 0.2878 - val_r2_score: 0.8513\n",
      "Epoch 57/100\n",
      "\u001b[1m  16/4050\u001b[0m \u001b[37m━━━━━━━━━━━━━━━━━━━━\u001b[0m \u001b[1m28s\u001b[0m 7ms/step - loss: 0.1525 - mae: 0.1525 - mape: 0.8780 - mse: 0.1911 - r2_score: 1.0805"
     ]
    },
    {
     "name": "stderr",
     "output_type": "stream",
     "text": [
      "/workspaces/python/.venv/lib/python3.11/site-packages/urllib3/connectionpool.py:1103: InsecureRequestWarning: Unverified HTTPS request is being made to host 'mlflow.ap-home'. Adding certificate verification is strongly advised. See: https://urllib3.readthedocs.io/en/latest/advanced-usage.html#tls-warnings\n",
      "  warnings.warn(\n",
      "/workspaces/python/.venv/lib/python3.11/site-packages/urllib3/connectionpool.py:1103: InsecureRequestWarning: Unverified HTTPS request is being made to host 'mlflow.ap-home'. Adding certificate verification is strongly advised. See: https://urllib3.readthedocs.io/en/latest/advanced-usage.html#tls-warnings\n",
      "  warnings.warn(\n"
     ]
    },
    {
     "name": "stdout",
     "output_type": "stream",
     "text": [
      "\u001b[1m4050/4050\u001b[0m \u001b[32m━━━━━━━━━━━━━━━━━━━━\u001b[0m\u001b[37m\u001b[0m \u001b[1m30s\u001b[0m 7ms/step - loss: 0.1536 - mae: 0.1536 - mape: 0.8891 - mse: 0.2044 - r2_score: 0.9200 - val_loss: 0.1867 - val_mae: 0.1867 - val_mape: 1.0970 - val_mse: 0.3316 - val_r2_score: 0.8280\n",
      "Epoch 58/100\n",
      "\u001b[1m  17/4050\u001b[0m \u001b[37m━━━━━━━━━━━━━━━━━━━━\u001b[0m \u001b[1m27s\u001b[0m 7ms/step - loss: 0.1590 - mae: 0.1590 - mape: 0.8994 - mse: 0.1831 - r2_score: 1.5190"
     ]
    },
    {
     "name": "stderr",
     "output_type": "stream",
     "text": [
      "/workspaces/python/.venv/lib/python3.11/site-packages/urllib3/connectionpool.py:1103: InsecureRequestWarning: Unverified HTTPS request is being made to host 'mlflow.ap-home'. Adding certificate verification is strongly advised. See: https://urllib3.readthedocs.io/en/latest/advanced-usage.html#tls-warnings\n",
      "  warnings.warn(\n",
      "/workspaces/python/.venv/lib/python3.11/site-packages/urllib3/connectionpool.py:1103: InsecureRequestWarning: Unverified HTTPS request is being made to host 'mlflow.ap-home'. Adding certificate verification is strongly advised. See: https://urllib3.readthedocs.io/en/latest/advanced-usage.html#tls-warnings\n",
      "  warnings.warn(\n"
     ]
    },
    {
     "name": "stdout",
     "output_type": "stream",
     "text": [
      "\u001b[1m4050/4050\u001b[0m \u001b[32m━━━━━━━━━━━━━━━━━━━━\u001b[0m\u001b[37m\u001b[0m \u001b[1m30s\u001b[0m 7ms/step - loss: 0.1567 - mae: 0.1567 - mape: 0.9094 - mse: 0.2127 - r2_score: 0.9132 - val_loss: 0.2744 - val_mae: 0.2745 - val_mape: 1.6108 - val_mse: 0.5175 - val_r2_score: 0.7295\n",
      "Epoch 59/100\n",
      "\u001b[1m  16/4050\u001b[0m \u001b[37m━━━━━━━━━━━━━━━━━━━━\u001b[0m \u001b[1m28s\u001b[0m 7ms/step - loss: 0.2892 - mae: 0.2892 - mape: 1.6961 - mse: 0.5373 - r2_score: -0.3073 "
     ]
    },
    {
     "name": "stderr",
     "output_type": "stream",
     "text": [
      "/workspaces/python/.venv/lib/python3.11/site-packages/urllib3/connectionpool.py:1103: InsecureRequestWarning: Unverified HTTPS request is being made to host 'mlflow.ap-home'. Adding certificate verification is strongly advised. See: https://urllib3.readthedocs.io/en/latest/advanced-usage.html#tls-warnings\n",
      "  warnings.warn(\n",
      "/workspaces/python/.venv/lib/python3.11/site-packages/urllib3/connectionpool.py:1103: InsecureRequestWarning: Unverified HTTPS request is being made to host 'mlflow.ap-home'. Adding certificate verification is strongly advised. See: https://urllib3.readthedocs.io/en/latest/advanced-usage.html#tls-warnings\n",
      "  warnings.warn(\n"
     ]
    },
    {
     "name": "stdout",
     "output_type": "stream",
     "text": [
      "\u001b[1m4045/4050\u001b[0m \u001b[32m━━━━━━━━━━━━━━━━━━━\u001b[0m\u001b[37m━\u001b[0m \u001b[1m0s\u001b[0m 7ms/step - loss: 0.1680 - mae: 0.1680 - mape: 0.9767 - mse: 0.2406 - r2_score: 0.9080"
     ]
    },
    {
     "name": "stderr",
     "output_type": "stream",
     "text": [
      "/workspaces/python/.venv/lib/python3.11/site-packages/urllib3/connectionpool.py:1103: InsecureRequestWarning: Unverified HTTPS request is being made to host 'mlflow.ap-home'. Adding certificate verification is strongly advised. See: https://urllib3.readthedocs.io/en/latest/advanced-usage.html#tls-warnings\n",
      "  warnings.warn(\n",
      "/workspaces/python/.venv/lib/python3.11/site-packages/urllib3/connectionpool.py:1103: InsecureRequestWarning: Unverified HTTPS request is being made to host 'mlflow.ap-home'. Adding certificate verification is strongly advised. See: https://urllib3.readthedocs.io/en/latest/advanced-usage.html#tls-warnings\n",
      "  warnings.warn(\n",
      "/workspaces/python/.venv/lib/python3.11/site-packages/urllib3/connectionpool.py:1103: InsecureRequestWarning: Unverified HTTPS request is being made to host 'mlflow.ap-home'. Adding certificate verification is strongly advised. See: https://urllib3.readthedocs.io/en/latest/advanced-usage.html#tls-warnings\n",
      "  warnings.warn(\n",
      "WARNING:absl:You are saving your model as an HDF5 file via `model.save()` or `keras.saving.save_model(model)`. This file format is considered legacy. We recommend using instead the native Keras format, e.g. `model.save('my_model.keras')` or `keras.saving.save_model(model, 'my_model.keras')`. \n"
     ]
    },
    {
     "name": "stdout",
     "output_type": "stream",
     "text": [
      "\u001b[1m4050/4050\u001b[0m \u001b[32m━━━━━━━━━━━━━━━━━━━━\u001b[0m\u001b[37m\u001b[0m \u001b[1m31s\u001b[0m 8ms/step - loss: 0.1680 - mae: 0.1680 - mape: 0.9766 - mse: 0.2406 - r2_score: 0.9080 - val_loss: 0.1608 - val_mae: 0.1608 - val_mape: 0.9424 - val_mse: 0.2702 - val_r2_score: 0.8610\n",
      "Epoch 60/100\n",
      "\u001b[1m4050/4050\u001b[0m \u001b[32m━━━━━━━━━━━━━━━━━━━━\u001b[0m\u001b[37m\u001b[0m \u001b[1m31s\u001b[0m 8ms/step - loss: 0.1530 - mae: 0.1530 - mape: 0.8862 - mse: 0.2016 - r2_score: 0.9129 - val_loss: 0.1815 - val_mae: 0.1816 - val_mape: 1.0455 - val_mse: 0.3271 - val_r2_score: 0.8303\n",
      "Epoch 61/100\n",
      "\u001b[1m  22/4050\u001b[0m \u001b[37m━━━━━━━━━━━━━━━━━━━━\u001b[0m \u001b[1m29s\u001b[0m 7ms/step - loss: 0.1525 - mae: 0.1525 - mape: 0.8670 - mse: 0.1790 - r2_score: 0.7675"
     ]
    },
    {
     "name": "stderr",
     "output_type": "stream",
     "text": [
      "/workspaces/python/.venv/lib/python3.11/site-packages/urllib3/connectionpool.py:1103: InsecureRequestWarning: Unverified HTTPS request is being made to host 'mlflow.ap-home'. Adding certificate verification is strongly advised. See: https://urllib3.readthedocs.io/en/latest/advanced-usage.html#tls-warnings\n",
      "  warnings.warn(\n",
      "/workspaces/python/.venv/lib/python3.11/site-packages/urllib3/connectionpool.py:1103: InsecureRequestWarning: Unverified HTTPS request is being made to host 'mlflow.ap-home'. Adding certificate verification is strongly advised. See: https://urllib3.readthedocs.io/en/latest/advanced-usage.html#tls-warnings\n",
      "  warnings.warn(\n"
     ]
    },
    {
     "name": "stdout",
     "output_type": "stream",
     "text": [
      "\u001b[1m4047/4050\u001b[0m \u001b[32m━━━━━━━━━━━━━━━━━━━\u001b[0m\u001b[37m━\u001b[0m \u001b[1m0s\u001b[0m 7ms/step - loss: 0.1550 - mae: 0.1550 - mape: 0.9023 - mse: 0.2112 - r2_score: 0.9266"
     ]
    },
    {
     "name": "stderr",
     "output_type": "stream",
     "text": [
      "/workspaces/python/.venv/lib/python3.11/site-packages/urllib3/connectionpool.py:1103: InsecureRequestWarning: Unverified HTTPS request is being made to host 'mlflow.ap-home'. Adding certificate verification is strongly advised. See: https://urllib3.readthedocs.io/en/latest/advanced-usage.html#tls-warnings\n",
      "  warnings.warn(\n",
      "/workspaces/python/.venv/lib/python3.11/site-packages/urllib3/connectionpool.py:1103: InsecureRequestWarning: Unverified HTTPS request is being made to host 'mlflow.ap-home'. Adding certificate verification is strongly advised. See: https://urllib3.readthedocs.io/en/latest/advanced-usage.html#tls-warnings\n",
      "  warnings.warn(\n",
      "/workspaces/python/.venv/lib/python3.11/site-packages/urllib3/connectionpool.py:1103: InsecureRequestWarning: Unverified HTTPS request is being made to host 'mlflow.ap-home'. Adding certificate verification is strongly advised. See: https://urllib3.readthedocs.io/en/latest/advanced-usage.html#tls-warnings\n",
      "  warnings.warn(\n",
      "WARNING:absl:You are saving your model as an HDF5 file via `model.save()` or `keras.saving.save_model(model)`. This file format is considered legacy. We recommend using instead the native Keras format, e.g. `model.save('my_model.keras')` or `keras.saving.save_model(model, 'my_model.keras')`. \n"
     ]
    },
    {
     "name": "stdout",
     "output_type": "stream",
     "text": [
      "\u001b[1m4050/4050\u001b[0m \u001b[32m━━━━━━━━━━━━━━━━━━━━\u001b[0m\u001b[37m\u001b[0m \u001b[1m31s\u001b[0m 8ms/step - loss: 0.1550 - mae: 0.1550 - mape: 0.9023 - mse: 0.2112 - r2_score: 0.9266 - val_loss: 0.1727 - val_mae: 0.1727 - val_mape: 1.0025 - val_mse: 0.2822 - val_r2_score: 0.8551\n",
      "Epoch 62/100\n",
      "\u001b[1m4044/4050\u001b[0m \u001b[32m━━━━━━━━━━━━━━━━━━━\u001b[0m\u001b[37m━\u001b[0m \u001b[1m0s\u001b[0m 7ms/step - loss: 0.2023 - mae: 0.2023 - mape: 1.1627 - mse: 0.3047 - r2_score: 0.8794"
     ]
    },
    {
     "name": "stderr",
     "output_type": "stream",
     "text": [
      "/workspaces/python/.venv/lib/python3.11/site-packages/urllib3/connectionpool.py:1103: InsecureRequestWarning: Unverified HTTPS request is being made to host 'mlflow.ap-home'. Adding certificate verification is strongly advised. See: https://urllib3.readthedocs.io/en/latest/advanced-usage.html#tls-warnings\n",
      "  warnings.warn(\n",
      "/workspaces/python/.venv/lib/python3.11/site-packages/urllib3/connectionpool.py:1103: InsecureRequestWarning: Unverified HTTPS request is being made to host 'mlflow.ap-home'. Adding certificate verification is strongly advised. See: https://urllib3.readthedocs.io/en/latest/advanced-usage.html#tls-warnings\n",
      "  warnings.warn(\n",
      "/workspaces/python/.venv/lib/python3.11/site-packages/urllib3/connectionpool.py:1103: InsecureRequestWarning: Unverified HTTPS request is being made to host 'mlflow.ap-home'. Adding certificate verification is strongly advised. See: https://urllib3.readthedocs.io/en/latest/advanced-usage.html#tls-warnings\n",
      "  warnings.warn(\n",
      "WARNING:absl:You are saving your model as an HDF5 file via `model.save()` or `keras.saving.save_model(model)`. This file format is considered legacy. We recommend using instead the native Keras format, e.g. `model.save('my_model.keras')` or `keras.saving.save_model(model, 'my_model.keras')`. \n"
     ]
    },
    {
     "name": "stdout",
     "output_type": "stream",
     "text": [
      "\u001b[1m4050/4050\u001b[0m \u001b[32m━━━━━━━━━━━━━━━━━━━━\u001b[0m\u001b[37m\u001b[0m \u001b[1m31s\u001b[0m 8ms/step - loss: 0.2023 - mae: 0.2023 - mape: 1.1628 - mse: 0.3047 - r2_score: 0.8793 - val_loss: 0.1584 - val_mae: 0.1585 - val_mape: 0.9328 - val_mse: 0.2854 - val_r2_score: 0.8526\n",
      "Epoch 63/100\n",
      "\u001b[1m4048/4050\u001b[0m \u001b[32m━━━━━━━━━━━━━━━━━━━\u001b[0m\u001b[37m━\u001b[0m \u001b[1m0s\u001b[0m 7ms/step - loss: 0.1581 - mae: 0.1581 - mape: 0.9179 - mse: 0.2178 - r2_score: 0.9131"
     ]
    },
    {
     "name": "stderr",
     "output_type": "stream",
     "text": [
      "/workspaces/python/.venv/lib/python3.11/site-packages/urllib3/connectionpool.py:1103: InsecureRequestWarning: Unverified HTTPS request is being made to host 'mlflow.ap-home'. Adding certificate verification is strongly advised. See: https://urllib3.readthedocs.io/en/latest/advanced-usage.html#tls-warnings\n",
      "  warnings.warn(\n",
      "/workspaces/python/.venv/lib/python3.11/site-packages/urllib3/connectionpool.py:1103: InsecureRequestWarning: Unverified HTTPS request is being made to host 'mlflow.ap-home'. Adding certificate verification is strongly advised. See: https://urllib3.readthedocs.io/en/latest/advanced-usage.html#tls-warnings\n",
      "  warnings.warn(\n",
      "/workspaces/python/.venv/lib/python3.11/site-packages/urllib3/connectionpool.py:1103: InsecureRequestWarning: Unverified HTTPS request is being made to host 'mlflow.ap-home'. Adding certificate verification is strongly advised. See: https://urllib3.readthedocs.io/en/latest/advanced-usage.html#tls-warnings\n",
      "  warnings.warn(\n",
      "WARNING:absl:You are saving your model as an HDF5 file via `model.save()` or `keras.saving.save_model(model)`. This file format is considered legacy. We recommend using instead the native Keras format, e.g. `model.save('my_model.keras')` or `keras.saving.save_model(model, 'my_model.keras')`. \n"
     ]
    },
    {
     "name": "stdout",
     "output_type": "stream",
     "text": [
      "\u001b[1m4050/4050\u001b[0m \u001b[32m━━━━━━━━━━━━━━━━━━━━\u001b[0m\u001b[37m\u001b[0m \u001b[1m31s\u001b[0m 8ms/step - loss: 0.1581 - mae: 0.1581 - mape: 0.9179 - mse: 0.2178 - r2_score: 0.9131 - val_loss: 0.1557 - val_mae: 0.1557 - val_mape: 0.9130 - val_mse: 0.2693 - val_r2_score: 0.8617\n",
      "Epoch 64/100\n",
      "\u001b[1m4050/4050\u001b[0m \u001b[32m━━━━━━━━━━━━━━━━━━━━\u001b[0m\u001b[37m\u001b[0m \u001b[1m0s\u001b[0m 7ms/step - loss: 0.1511 - mae: 0.1511 - mape: 0.8761 - mse: 0.2001 - r2_score: 0.9200"
     ]
    },
    {
     "name": "stderr",
     "output_type": "stream",
     "text": [
      "/workspaces/python/.venv/lib/python3.11/site-packages/urllib3/connectionpool.py:1103: InsecureRequestWarning: Unverified HTTPS request is being made to host 'mlflow.ap-home'. Adding certificate verification is strongly advised. See: https://urllib3.readthedocs.io/en/latest/advanced-usage.html#tls-warnings\n",
      "  warnings.warn(\n",
      "/workspaces/python/.venv/lib/python3.11/site-packages/urllib3/connectionpool.py:1103: InsecureRequestWarning: Unverified HTTPS request is being made to host 'mlflow.ap-home'. Adding certificate verification is strongly advised. See: https://urllib3.readthedocs.io/en/latest/advanced-usage.html#tls-warnings\n",
      "  warnings.warn(\n",
      "/workspaces/python/.venv/lib/python3.11/site-packages/urllib3/connectionpool.py:1103: InsecureRequestWarning: Unverified HTTPS request is being made to host 'mlflow.ap-home'. Adding certificate verification is strongly advised. See: https://urllib3.readthedocs.io/en/latest/advanced-usage.html#tls-warnings\n",
      "  warnings.warn(\n",
      "WARNING:absl:You are saving your model as an HDF5 file via `model.save()` or `keras.saving.save_model(model)`. This file format is considered legacy. We recommend using instead the native Keras format, e.g. `model.save('my_model.keras')` or `keras.saving.save_model(model, 'my_model.keras')`. \n"
     ]
    },
    {
     "name": "stdout",
     "output_type": "stream",
     "text": [
      "\u001b[1m4050/4050\u001b[0m \u001b[32m━━━━━━━━━━━━━━━━━━━━\u001b[0m\u001b[37m\u001b[0m \u001b[1m31s\u001b[0m 8ms/step - loss: 0.1511 - mae: 0.1511 - mape: 0.8761 - mse: 0.2001 - r2_score: 0.9200 - val_loss: 0.1517 - val_mae: 0.1518 - val_mape: 0.8826 - val_mse: 0.2368 - val_r2_score: 0.8784\n",
      "Epoch 65/100\n",
      "\u001b[1m4044/4050\u001b[0m \u001b[32m━━━━━━━━━━━━━━━━━━━\u001b[0m\u001b[37m━\u001b[0m \u001b[1m0s\u001b[0m 7ms/step - loss: 0.1624 - mae: 0.1624 - mape: 0.9387 - mse: 0.2294 - r2_score: 0.9103"
     ]
    },
    {
     "name": "stderr",
     "output_type": "stream",
     "text": [
      "/workspaces/python/.venv/lib/python3.11/site-packages/urllib3/connectionpool.py:1103: InsecureRequestWarning: Unverified HTTPS request is being made to host 'mlflow.ap-home'. Adding certificate verification is strongly advised. See: https://urllib3.readthedocs.io/en/latest/advanced-usage.html#tls-warnings\n",
      "  warnings.warn(\n",
      "/workspaces/python/.venv/lib/python3.11/site-packages/urllib3/connectionpool.py:1103: InsecureRequestWarning: Unverified HTTPS request is being made to host 'mlflow.ap-home'. Adding certificate verification is strongly advised. See: https://urllib3.readthedocs.io/en/latest/advanced-usage.html#tls-warnings\n",
      "  warnings.warn(\n",
      "/workspaces/python/.venv/lib/python3.11/site-packages/urllib3/connectionpool.py:1103: InsecureRequestWarning: Unverified HTTPS request is being made to host 'mlflow.ap-home'. Adding certificate verification is strongly advised. See: https://urllib3.readthedocs.io/en/latest/advanced-usage.html#tls-warnings\n",
      "  warnings.warn(\n",
      "WARNING:absl:You are saving your model as an HDF5 file via `model.save()` or `keras.saving.save_model(model)`. This file format is considered legacy. We recommend using instead the native Keras format, e.g. `model.save('my_model.keras')` or `keras.saving.save_model(model, 'my_model.keras')`. \n"
     ]
    },
    {
     "name": "stdout",
     "output_type": "stream",
     "text": [
      "\u001b[1m4050/4050\u001b[0m \u001b[32m━━━━━━━━━━━━━━━━━━━━\u001b[0m\u001b[37m\u001b[0m \u001b[1m31s\u001b[0m 8ms/step - loss: 0.1624 - mae: 0.1624 - mape: 0.9388 - mse: 0.2294 - r2_score: 0.9102 - val_loss: 0.1464 - val_mae: 0.1465 - val_mape: 0.8582 - val_mse: 0.2541 - val_r2_score: 0.8692\n",
      "Epoch 66/100\n",
      "\u001b[1m4050/4050\u001b[0m \u001b[32m━━━━━━━━━━━━━━━━━━━━\u001b[0m\u001b[37m\u001b[0m \u001b[1m30s\u001b[0m 7ms/step - loss: 0.1761 - mae: 0.1761 - mape: 1.0190 - mse: 0.2554 - r2_score: 0.9116 - val_loss: 0.1853 - val_mae: 0.1854 - val_mape: 1.0573 - val_mse: 0.2984 - val_r2_score: 0.8458\n",
      "Epoch 67/100\n",
      "\u001b[1m  16/4050\u001b[0m \u001b[37m━━━━━━━━━━━━━━━━━━━━\u001b[0m \u001b[1m28s\u001b[0m 7ms/step - loss: 0.2148 - mae: 0.2148 - mape: 1.2681 - mse: 0.3925 - r2_score: 0.0502"
     ]
    },
    {
     "name": "stderr",
     "output_type": "stream",
     "text": [
      "/workspaces/python/.venv/lib/python3.11/site-packages/urllib3/connectionpool.py:1103: InsecureRequestWarning: Unverified HTTPS request is being made to host 'mlflow.ap-home'. Adding certificate verification is strongly advised. See: https://urllib3.readthedocs.io/en/latest/advanced-usage.html#tls-warnings\n",
      "  warnings.warn(\n",
      "/workspaces/python/.venv/lib/python3.11/site-packages/urllib3/connectionpool.py:1103: InsecureRequestWarning: Unverified HTTPS request is being made to host 'mlflow.ap-home'. Adding certificate verification is strongly advised. See: https://urllib3.readthedocs.io/en/latest/advanced-usage.html#tls-warnings\n",
      "  warnings.warn(\n"
     ]
    },
    {
     "name": "stdout",
     "output_type": "stream",
     "text": [
      "\u001b[1m4050/4050\u001b[0m \u001b[32m━━━━━━━━━━━━━━━━━━━━\u001b[0m\u001b[37m\u001b[0m \u001b[1m30s\u001b[0m 7ms/step - loss: 0.1839 - mae: 0.1839 - mape: 1.0618 - mse: 0.2726 - r2_score: 0.8750 - val_loss: 0.1857 - val_mae: 0.1858 - val_mape: 1.0831 - val_mse: 0.3676 - val_r2_score: 0.8089\n",
      "Epoch 68/100\n",
      "\u001b[1m  17/4050\u001b[0m \u001b[37m━━━━━━━━━━━━━━━━━━━━\u001b[0m \u001b[1m28s\u001b[0m 7ms/step - loss: 0.1401 - mae: 0.1401 - mape: 0.8103 - mse: 0.2020 - r2_score: 1.3267 "
     ]
    },
    {
     "name": "stderr",
     "output_type": "stream",
     "text": [
      "/workspaces/python/.venv/lib/python3.11/site-packages/urllib3/connectionpool.py:1103: InsecureRequestWarning: Unverified HTTPS request is being made to host 'mlflow.ap-home'. Adding certificate verification is strongly advised. See: https://urllib3.readthedocs.io/en/latest/advanced-usage.html#tls-warnings\n",
      "  warnings.warn(\n",
      "/workspaces/python/.venv/lib/python3.11/site-packages/urllib3/connectionpool.py:1103: InsecureRequestWarning: Unverified HTTPS request is being made to host 'mlflow.ap-home'. Adding certificate verification is strongly advised. See: https://urllib3.readthedocs.io/en/latest/advanced-usage.html#tls-warnings\n",
      "  warnings.warn(\n"
     ]
    },
    {
     "name": "stdout",
     "output_type": "stream",
     "text": [
      "\u001b[1m4048/4050\u001b[0m \u001b[32m━━━━━━━━━━━━━━━━━━━\u001b[0m\u001b[37m━\u001b[0m \u001b[1m0s\u001b[0m 7ms/step - loss: 0.1473 - mae: 0.1473 - mape: 0.8527 - mse: 0.1893 - r2_score: 0.9362"
     ]
    },
    {
     "name": "stderr",
     "output_type": "stream",
     "text": [
      "/workspaces/python/.venv/lib/python3.11/site-packages/urllib3/connectionpool.py:1103: InsecureRequestWarning: Unverified HTTPS request is being made to host 'mlflow.ap-home'. Adding certificate verification is strongly advised. See: https://urllib3.readthedocs.io/en/latest/advanced-usage.html#tls-warnings\n",
      "  warnings.warn(\n",
      "/workspaces/python/.venv/lib/python3.11/site-packages/urllib3/connectionpool.py:1103: InsecureRequestWarning: Unverified HTTPS request is being made to host 'mlflow.ap-home'. Adding certificate verification is strongly advised. See: https://urllib3.readthedocs.io/en/latest/advanced-usage.html#tls-warnings\n",
      "  warnings.warn(\n",
      "/workspaces/python/.venv/lib/python3.11/site-packages/urllib3/connectionpool.py:1103: InsecureRequestWarning: Unverified HTTPS request is being made to host 'mlflow.ap-home'. Adding certificate verification is strongly advised. See: https://urllib3.readthedocs.io/en/latest/advanced-usage.html#tls-warnings\n",
      "  warnings.warn(\n",
      "WARNING:absl:You are saving your model as an HDF5 file via `model.save()` or `keras.saving.save_model(model)`. This file format is considered legacy. We recommend using instead the native Keras format, e.g. `model.save('my_model.keras')` or `keras.saving.save_model(model, 'my_model.keras')`. \n"
     ]
    },
    {
     "name": "stdout",
     "output_type": "stream",
     "text": [
      "\u001b[1m4050/4050\u001b[0m \u001b[32m━━━━━━━━━━━━━━━━━━━━\u001b[0m\u001b[37m\u001b[0m \u001b[1m31s\u001b[0m 8ms/step - loss: 0.1473 - mae: 0.1473 - mape: 0.8527 - mse: 0.1893 - r2_score: 0.9362 - val_loss: 0.1424 - val_mae: 0.1424 - val_mape: 0.8335 - val_mse: 0.2352 - val_r2_score: 0.8796\n",
      "Epoch 69/100\n",
      "\u001b[1m4050/4050\u001b[0m \u001b[32m━━━━━━━━━━━━━━━━━━━━\u001b[0m\u001b[37m\u001b[0m \u001b[1m30s\u001b[0m 7ms/step - loss: 0.1621 - mae: 0.1621 - mape: 0.9309 - mse: 0.2285 - r2_score: 0.9078 - val_loss: 0.1593 - val_mae: 0.1593 - val_mape: 0.9250 - val_mse: 0.2547 - val_r2_score: 0.8692\n",
      "Epoch 70/100\n",
      "\u001b[1m  23/4050\u001b[0m \u001b[37m━━━━━━━━━━━━━━━━━━━━\u001b[0m \u001b[1m28s\u001b[0m 7ms/step - loss: 0.1715 - mae: 0.1715 - mape: 1.0132 - mse: 0.2960 - r2_score: 0.1951"
     ]
    },
    {
     "name": "stderr",
     "output_type": "stream",
     "text": [
      "/workspaces/python/.venv/lib/python3.11/site-packages/urllib3/connectionpool.py:1103: InsecureRequestWarning: Unverified HTTPS request is being made to host 'mlflow.ap-home'. Adding certificate verification is strongly advised. See: https://urllib3.readthedocs.io/en/latest/advanced-usage.html#tls-warnings\n",
      "  warnings.warn(\n",
      "/workspaces/python/.venv/lib/python3.11/site-packages/urllib3/connectionpool.py:1103: InsecureRequestWarning: Unverified HTTPS request is being made to host 'mlflow.ap-home'. Adding certificate verification is strongly advised. See: https://urllib3.readthedocs.io/en/latest/advanced-usage.html#tls-warnings\n",
      "  warnings.warn(\n"
     ]
    },
    {
     "name": "stdout",
     "output_type": "stream",
     "text": [
      "\u001b[1m4050/4050\u001b[0m \u001b[32m━━━━━━━━━━━━━━━━━━━━\u001b[0m\u001b[37m\u001b[0m \u001b[1m30s\u001b[0m 7ms/step - loss: 0.1733 - mae: 0.1733 - mape: 1.0024 - mse: 0.2504 - r2_score: 0.8936 - val_loss: 0.1699 - val_mae: 0.1700 - val_mape: 0.9891 - val_mse: 0.2984 - val_r2_score: 0.8457\n",
      "Epoch 71/100\n",
      "\u001b[1m  15/4050\u001b[0m \u001b[37m━━━━━━━━━━━━━━━━━━━━\u001b[0m \u001b[1m29s\u001b[0m 7ms/step - loss: 0.1477 - mae: 0.1477 - mape: 0.8744 - mse: 0.1802 - r2_score: 0.2150"
     ]
    },
    {
     "name": "stderr",
     "output_type": "stream",
     "text": [
      "/workspaces/python/.venv/lib/python3.11/site-packages/urllib3/connectionpool.py:1103: InsecureRequestWarning: Unverified HTTPS request is being made to host 'mlflow.ap-home'. Adding certificate verification is strongly advised. See: https://urllib3.readthedocs.io/en/latest/advanced-usage.html#tls-warnings\n",
      "  warnings.warn(\n",
      "/workspaces/python/.venv/lib/python3.11/site-packages/urllib3/connectionpool.py:1103: InsecureRequestWarning: Unverified HTTPS request is being made to host 'mlflow.ap-home'. Adding certificate verification is strongly advised. See: https://urllib3.readthedocs.io/en/latest/advanced-usage.html#tls-warnings\n",
      "  warnings.warn(\n"
     ]
    },
    {
     "name": "stdout",
     "output_type": "stream",
     "text": [
      "\u001b[1m4049/4050\u001b[0m \u001b[32m━━━━━━━━━━━━━━━━━━━\u001b[0m\u001b[37m━\u001b[0m \u001b[1m0s\u001b[0m 7ms/step - loss: 0.1853 - mae: 0.1853 - mape: 1.0592 - mse: 0.2623 - r2_score: 0.8922"
     ]
    },
    {
     "name": "stderr",
     "output_type": "stream",
     "text": [
      "/workspaces/python/.venv/lib/python3.11/site-packages/urllib3/connectionpool.py:1103: InsecureRequestWarning: Unverified HTTPS request is being made to host 'mlflow.ap-home'. Adding certificate verification is strongly advised. See: https://urllib3.readthedocs.io/en/latest/advanced-usage.html#tls-warnings\n",
      "  warnings.warn(\n",
      "/workspaces/python/.venv/lib/python3.11/site-packages/urllib3/connectionpool.py:1103: InsecureRequestWarning: Unverified HTTPS request is being made to host 'mlflow.ap-home'. Adding certificate verification is strongly advised. See: https://urllib3.readthedocs.io/en/latest/advanced-usage.html#tls-warnings\n",
      "  warnings.warn(\n",
      "/workspaces/python/.venv/lib/python3.11/site-packages/urllib3/connectionpool.py:1103: InsecureRequestWarning: Unverified HTTPS request is being made to host 'mlflow.ap-home'. Adding certificate verification is strongly advised. See: https://urllib3.readthedocs.io/en/latest/advanced-usage.html#tls-warnings\n",
      "  warnings.warn(\n",
      "WARNING:absl:You are saving your model as an HDF5 file via `model.save()` or `keras.saving.save_model(model)`. This file format is considered legacy. We recommend using instead the native Keras format, e.g. `model.save('my_model.keras')` or `keras.saving.save_model(model, 'my_model.keras')`. \n"
     ]
    },
    {
     "name": "stdout",
     "output_type": "stream",
     "text": [
      "\u001b[1m4050/4050\u001b[0m \u001b[32m━━━━━━━━━━━━━━━━━━━━\u001b[0m\u001b[37m\u001b[0m \u001b[1m31s\u001b[0m 8ms/step - loss: 0.1853 - mae: 0.1853 - mape: 1.0592 - mse: 0.2623 - r2_score: 0.8922 - val_loss: 0.1475 - val_mae: 0.1476 - val_mape: 0.8601 - val_mse: 0.2204 - val_r2_score: 0.8874\n",
      "Epoch 72/100\n",
      "\u001b[1m4050/4050\u001b[0m \u001b[32m━━━━━━━━━━━━━━━━━━━━\u001b[0m\u001b[37m\u001b[0m \u001b[1m30s\u001b[0m 7ms/step - loss: 0.1571 - mae: 0.1571 - mape: 0.9092 - mse: 0.2148 - r2_score: 0.9336 - val_loss: 0.1772 - val_mae: 0.1773 - val_mape: 1.0261 - val_mse: 0.3245 - val_r2_score: 0.8320\n",
      "Epoch 73/100\n",
      "\u001b[1m  22/4050\u001b[0m \u001b[37m━━━━━━━━━━━━━━━━━━━━\u001b[0m \u001b[1m30s\u001b[0m 8ms/step - loss: 0.1226 - mae: 0.1226 - mape: 0.7037 - mse: 0.1051 - r2_score: 0.2800 "
     ]
    },
    {
     "name": "stderr",
     "output_type": "stream",
     "text": [
      "/workspaces/python/.venv/lib/python3.11/site-packages/urllib3/connectionpool.py:1103: InsecureRequestWarning: Unverified HTTPS request is being made to host 'mlflow.ap-home'. Adding certificate verification is strongly advised. See: https://urllib3.readthedocs.io/en/latest/advanced-usage.html#tls-warnings\n",
      "  warnings.warn(\n",
      "/workspaces/python/.venv/lib/python3.11/site-packages/urllib3/connectionpool.py:1103: InsecureRequestWarning: Unverified HTTPS request is being made to host 'mlflow.ap-home'. Adding certificate verification is strongly advised. See: https://urllib3.readthedocs.io/en/latest/advanced-usage.html#tls-warnings\n",
      "  warnings.warn(\n"
     ]
    },
    {
     "name": "stdout",
     "output_type": "stream",
     "text": [
      "\u001b[1m4050/4050\u001b[0m \u001b[32m━━━━━━━━━━━━━━━━━━━━\u001b[0m\u001b[37m\u001b[0m \u001b[1m0s\u001b[0m 5ms/step - loss: 0.1523 - mae: 0.1523 - mape: 0.8828 - mse: 0.2031 - r2_score: 0.9126"
     ]
    },
    {
     "name": "stderr",
     "output_type": "stream",
     "text": [
      "/workspaces/python/.venv/lib/python3.11/site-packages/urllib3/connectionpool.py:1103: InsecureRequestWarning: Unverified HTTPS request is being made to host 'mlflow.ap-home'. Adding certificate verification is strongly advised. See: https://urllib3.readthedocs.io/en/latest/advanced-usage.html#tls-warnings\n",
      "  warnings.warn(\n",
      "/workspaces/python/.venv/lib/python3.11/site-packages/urllib3/connectionpool.py:1103: InsecureRequestWarning: Unverified HTTPS request is being made to host 'mlflow.ap-home'. Adding certificate verification is strongly advised. See: https://urllib3.readthedocs.io/en/latest/advanced-usage.html#tls-warnings\n",
      "  warnings.warn(\n",
      "/workspaces/python/.venv/lib/python3.11/site-packages/urllib3/connectionpool.py:1103: InsecureRequestWarning: Unverified HTTPS request is being made to host 'mlflow.ap-home'. Adding certificate verification is strongly advised. See: https://urllib3.readthedocs.io/en/latest/advanced-usage.html#tls-warnings\n",
      "  warnings.warn(\n",
      "WARNING:absl:You are saving your model as an HDF5 file via `model.save()` or `keras.saving.save_model(model)`. This file format is considered legacy. We recommend using instead the native Keras format, e.g. `model.save('my_model.keras')` or `keras.saving.save_model(model, 'my_model.keras')`. \n"
     ]
    },
    {
     "name": "stdout",
     "output_type": "stream",
     "text": [
      "\u001b[1m4050/4050\u001b[0m \u001b[32m━━━━━━━━━━━━━━━━━━━━\u001b[0m\u001b[37m\u001b[0m \u001b[1m22s\u001b[0m 5ms/step - loss: 0.1523 - mae: 0.1523 - mape: 0.8828 - mse: 0.2031 - r2_score: 0.9126 - val_loss: 0.1702 - val_mae: 0.1702 - val_mape: 0.9735 - val_mse: 0.2888 - val_r2_score: 0.8525\n",
      "Epoch 74/100\n",
      "\u001b[1m4041/4050\u001b[0m \u001b[32m━━━━━━━━━━━━━━━━━━━\u001b[0m\u001b[37m━\u001b[0m \u001b[1m0s\u001b[0m 5ms/step - loss: 0.1698 - mae: 0.1698 - mape: 0.9861 - mse: 0.2439 - r2_score: 0.8984"
     ]
    },
    {
     "name": "stderr",
     "output_type": "stream",
     "text": [
      "/workspaces/python/.venv/lib/python3.11/site-packages/urllib3/connectionpool.py:1103: InsecureRequestWarning: Unverified HTTPS request is being made to host 'mlflow.ap-home'. Adding certificate verification is strongly advised. See: https://urllib3.readthedocs.io/en/latest/advanced-usage.html#tls-warnings\n",
      "  warnings.warn(\n",
      "/workspaces/python/.venv/lib/python3.11/site-packages/urllib3/connectionpool.py:1103: InsecureRequestWarning: Unverified HTTPS request is being made to host 'mlflow.ap-home'. Adding certificate verification is strongly advised. See: https://urllib3.readthedocs.io/en/latest/advanced-usage.html#tls-warnings\n",
      "  warnings.warn(\n",
      "/workspaces/python/.venv/lib/python3.11/site-packages/urllib3/connectionpool.py:1103: InsecureRequestWarning: Unverified HTTPS request is being made to host 'mlflow.ap-home'. Adding certificate verification is strongly advised. See: https://urllib3.readthedocs.io/en/latest/advanced-usage.html#tls-warnings\n",
      "  warnings.warn(\n",
      "WARNING:absl:You are saving your model as an HDF5 file via `model.save()` or `keras.saving.save_model(model)`. This file format is considered legacy. We recommend using instead the native Keras format, e.g. `model.save('my_model.keras')` or `keras.saving.save_model(model, 'my_model.keras')`. \n"
     ]
    },
    {
     "name": "stdout",
     "output_type": "stream",
     "text": [
      "\u001b[1m4050/4050\u001b[0m \u001b[32m━━━━━━━━━━━━━━━━━━━━\u001b[0m\u001b[37m\u001b[0m \u001b[1m22s\u001b[0m 5ms/step - loss: 0.1698 - mae: 0.1698 - mape: 0.9860 - mse: 0.2439 - r2_score: 0.8984 - val_loss: 0.1446 - val_mae: 0.1446 - val_mape: 0.8472 - val_mse: 0.2552 - val_r2_score: 0.8694\n",
      "Epoch 75/100\n",
      "\u001b[1m4050/4050\u001b[0m \u001b[32m━━━━━━━━━━━━━━━━━━━━\u001b[0m\u001b[37m\u001b[0m \u001b[1m21s\u001b[0m 5ms/step - loss: 0.1504 - mae: 0.1504 - mape: 0.8679 - mse: 0.1972 - r2_score: 0.9240 - val_loss: 0.1542 - val_mae: 0.1543 - val_mape: 0.9002 - val_mse: 0.2500 - val_r2_score: 0.8713\n",
      "Epoch 76/100\n",
      "\u001b[1m  32/4050\u001b[0m \u001b[37m━━━━━━━━━━━━━━━━━━━━\u001b[0m \u001b[1m20s\u001b[0m 5ms/step - loss: 0.1386 - mae: 0.1386 - mape: 0.7924 - mse: 0.1613 - r2_score: 1.0281"
     ]
    },
    {
     "name": "stderr",
     "output_type": "stream",
     "text": [
      "/workspaces/python/.venv/lib/python3.11/site-packages/urllib3/connectionpool.py:1103: InsecureRequestWarning: Unverified HTTPS request is being made to host 'mlflow.ap-home'. Adding certificate verification is strongly advised. See: https://urllib3.readthedocs.io/en/latest/advanced-usage.html#tls-warnings\n",
      "  warnings.warn(\n",
      "/workspaces/python/.venv/lib/python3.11/site-packages/urllib3/connectionpool.py:1103: InsecureRequestWarning: Unverified HTTPS request is being made to host 'mlflow.ap-home'. Adding certificate verification is strongly advised. See: https://urllib3.readthedocs.io/en/latest/advanced-usage.html#tls-warnings\n",
      "  warnings.warn(\n"
     ]
    },
    {
     "name": "stdout",
     "output_type": "stream",
     "text": [
      "\u001b[1m4050/4050\u001b[0m \u001b[32m━━━━━━━━━━━━━━━━━━━━\u001b[0m\u001b[37m\u001b[0m \u001b[1m21s\u001b[0m 5ms/step - loss: 0.1709 - mae: 0.1709 - mape: 0.9823 - mse: 0.2372 - r2_score: 0.8997 - val_loss: 0.1605 - val_mae: 0.1606 - val_mape: 0.9302 - val_mse: 0.2626 - val_r2_score: 0.8645\n",
      "Epoch 77/100\n",
      "\u001b[1m  32/4050\u001b[0m \u001b[37m━━━━━━━━━━━━━━━━━━━━\u001b[0m \u001b[1m20s\u001b[0m 5ms/step - loss: 0.1162 - mae: 0.1162 - mape: 0.6676 - mse: 0.1170 - r2_score: 1.3953"
     ]
    },
    {
     "name": "stderr",
     "output_type": "stream",
     "text": [
      "/workspaces/python/.venv/lib/python3.11/site-packages/urllib3/connectionpool.py:1103: InsecureRequestWarning: Unverified HTTPS request is being made to host 'mlflow.ap-home'. Adding certificate verification is strongly advised. See: https://urllib3.readthedocs.io/en/latest/advanced-usage.html#tls-warnings\n",
      "  warnings.warn(\n",
      "/workspaces/python/.venv/lib/python3.11/site-packages/urllib3/connectionpool.py:1103: InsecureRequestWarning: Unverified HTTPS request is being made to host 'mlflow.ap-home'. Adding certificate verification is strongly advised. See: https://urllib3.readthedocs.io/en/latest/advanced-usage.html#tls-warnings\n",
      "  warnings.warn(\n"
     ]
    },
    {
     "name": "stdout",
     "output_type": "stream",
     "text": [
      "\u001b[1m4050/4050\u001b[0m \u001b[32m━━━━━━━━━━━━━━━━━━━━\u001b[0m\u001b[37m\u001b[0m \u001b[1m21s\u001b[0m 5ms/step - loss: 0.1544 - mae: 0.1544 - mape: 0.8925 - mse: 0.2060 - r2_score: 0.9232 - val_loss: 0.1713 - val_mae: 0.1714 - val_mape: 0.9934 - val_mse: 0.2945 - val_r2_score: 0.8489\n",
      "Epoch 78/100\n",
      "\u001b[1m  34/4050\u001b[0m \u001b[37m━━━━━━━━━━━━━━━━━━━━\u001b[0m \u001b[1m19s\u001b[0m 5ms/step - loss: 0.1285 - mae: 0.1285 - mape: 0.7377 - mse: 0.1345 - r2_score: 1.0282"
     ]
    },
    {
     "name": "stderr",
     "output_type": "stream",
     "text": [
      "/workspaces/python/.venv/lib/python3.11/site-packages/urllib3/connectionpool.py:1103: InsecureRequestWarning: Unverified HTTPS request is being made to host 'mlflow.ap-home'. Adding certificate verification is strongly advised. See: https://urllib3.readthedocs.io/en/latest/advanced-usage.html#tls-warnings\n",
      "  warnings.warn(\n",
      "/workspaces/python/.venv/lib/python3.11/site-packages/urllib3/connectionpool.py:1103: InsecureRequestWarning: Unverified HTTPS request is being made to host 'mlflow.ap-home'. Adding certificate verification is strongly advised. See: https://urllib3.readthedocs.io/en/latest/advanced-usage.html#tls-warnings\n",
      "  warnings.warn(\n"
     ]
    },
    {
     "name": "stdout",
     "output_type": "stream",
     "text": [
      "\u001b[1m4050/4050\u001b[0m \u001b[32m━━━━━━━━━━━━━━━━━━━━\u001b[0m\u001b[37m\u001b[0m \u001b[1m21s\u001b[0m 5ms/step - loss: 0.1711 - mae: 0.1711 - mape: 0.9819 - mse: 0.2352 - r2_score: 0.9111 - val_loss: 0.1778 - val_mae: 0.1779 - val_mape: 1.0215 - val_mse: 0.2842 - val_r2_score: 0.8535\n",
      "Epoch 79/100\n",
      "\u001b[1m  34/4050\u001b[0m \u001b[37m━━━━━━━━━━━━━━━━━━━━\u001b[0m \u001b[1m19s\u001b[0m 5ms/step - loss: 0.1355 - mae: 0.1355 - mape: 0.7859 - mse: 0.1504 - r2_score: 0.6061"
     ]
    },
    {
     "name": "stderr",
     "output_type": "stream",
     "text": [
      "/workspaces/python/.venv/lib/python3.11/site-packages/urllib3/connectionpool.py:1103: InsecureRequestWarning: Unverified HTTPS request is being made to host 'mlflow.ap-home'. Adding certificate verification is strongly advised. See: https://urllib3.readthedocs.io/en/latest/advanced-usage.html#tls-warnings\n",
      "  warnings.warn(\n",
      "/workspaces/python/.venv/lib/python3.11/site-packages/urllib3/connectionpool.py:1103: InsecureRequestWarning: Unverified HTTPS request is being made to host 'mlflow.ap-home'. Adding certificate verification is strongly advised. See: https://urllib3.readthedocs.io/en/latest/advanced-usage.html#tls-warnings\n",
      "  warnings.warn(\n"
     ]
    },
    {
     "name": "stdout",
     "output_type": "stream",
     "text": [
      "\u001b[1m4050/4050\u001b[0m \u001b[32m━━━━━━━━━━━━━━━━━━━━\u001b[0m\u001b[37m\u001b[0m \u001b[1m21s\u001b[0m 5ms/step - loss: 0.1478 - mae: 0.1478 - mape: 0.8555 - mse: 0.1914 - r2_score: 0.9044 - val_loss: 0.2888 - val_mae: 0.2889 - val_mape: 1.6669 - val_mse: 0.5098 - val_r2_score: 0.7333\n",
      "Epoch 80/100\n",
      "\u001b[1m  32/4050\u001b[0m \u001b[37m━━━━━━━━━━━━━━━━━━━━\u001b[0m \u001b[1m20s\u001b[0m 5ms/step - loss: 0.2665 - mae: 0.2665 - mape: 1.5791 - mse: 0.4740 - r2_score: 0.0153"
     ]
    },
    {
     "name": "stderr",
     "output_type": "stream",
     "text": [
      "/workspaces/python/.venv/lib/python3.11/site-packages/urllib3/connectionpool.py:1103: InsecureRequestWarning: Unverified HTTPS request is being made to host 'mlflow.ap-home'. Adding certificate verification is strongly advised. See: https://urllib3.readthedocs.io/en/latest/advanced-usage.html#tls-warnings\n",
      "  warnings.warn(\n",
      "/workspaces/python/.venv/lib/python3.11/site-packages/urllib3/connectionpool.py:1103: InsecureRequestWarning: Unverified HTTPS request is being made to host 'mlflow.ap-home'. Adding certificate verification is strongly advised. See: https://urllib3.readthedocs.io/en/latest/advanced-usage.html#tls-warnings\n",
      "  warnings.warn(\n"
     ]
    },
    {
     "name": "stdout",
     "output_type": "stream",
     "text": [
      "\u001b[1m4040/4050\u001b[0m \u001b[32m━━━━━━━━━━━━━━━━━━━\u001b[0m\u001b[37m━\u001b[0m \u001b[1m0s\u001b[0m 5ms/step - loss: 0.2003 - mae: 0.2003 - mape: 1.1518 - mse: 0.2931 - r2_score: 0.8587"
     ]
    },
    {
     "name": "stderr",
     "output_type": "stream",
     "text": [
      "/workspaces/python/.venv/lib/python3.11/site-packages/urllib3/connectionpool.py:1103: InsecureRequestWarning: Unverified HTTPS request is being made to host 'mlflow.ap-home'. Adding certificate verification is strongly advised. See: https://urllib3.readthedocs.io/en/latest/advanced-usage.html#tls-warnings\n",
      "  warnings.warn(\n",
      "/workspaces/python/.venv/lib/python3.11/site-packages/urllib3/connectionpool.py:1103: InsecureRequestWarning: Unverified HTTPS request is being made to host 'mlflow.ap-home'. Adding certificate verification is strongly advised. See: https://urllib3.readthedocs.io/en/latest/advanced-usage.html#tls-warnings\n",
      "  warnings.warn(\n",
      "/workspaces/python/.venv/lib/python3.11/site-packages/urllib3/connectionpool.py:1103: InsecureRequestWarning: Unverified HTTPS request is being made to host 'mlflow.ap-home'. Adding certificate verification is strongly advised. See: https://urllib3.readthedocs.io/en/latest/advanced-usage.html#tls-warnings\n",
      "  warnings.warn(\n",
      "WARNING:absl:You are saving your model as an HDF5 file via `model.save()` or `keras.saving.save_model(model)`. This file format is considered legacy. We recommend using instead the native Keras format, e.g. `model.save('my_model.keras')` or `keras.saving.save_model(model, 'my_model.keras')`. \n"
     ]
    },
    {
     "name": "stdout",
     "output_type": "stream",
     "text": [
      "\u001b[1m4050/4050\u001b[0m \u001b[32m━━━━━━━━━━━━━━━━━━━━\u001b[0m\u001b[37m\u001b[0m \u001b[1m21s\u001b[0m 5ms/step - loss: 0.2003 - mae: 0.2003 - mape: 1.1515 - mse: 0.2929 - r2_score: 0.8588 - val_loss: 0.1598 - val_mae: 0.1599 - val_mape: 0.9244 - val_mse: 0.2639 - val_r2_score: 0.8666\n",
      "Epoch 81/100\n",
      "\u001b[1m4050/4050\u001b[0m \u001b[32m━━━━━━━━━━━━━━━━━━━━\u001b[0m\u001b[37m\u001b[0m \u001b[1m21s\u001b[0m 5ms/step - loss: 0.1604 - mae: 0.1604 - mape: 0.9272 - mse: 0.2224 - r2_score: 0.9154 - val_loss: 0.1812 - val_mae: 0.1813 - val_mape: 1.0565 - val_mse: 0.3871 - val_r2_score: 0.7985\n",
      "Epoch 82/100\n",
      "\u001b[1m  33/4050\u001b[0m \u001b[37m━━━━━━━━━━━━━━━━━━━━\u001b[0m \u001b[1m20s\u001b[0m 5ms/step - loss: 0.1370 - mae: 0.1370 - mape: 0.8061 - mse: 0.1766 - r2_score: 0.1979"
     ]
    },
    {
     "name": "stderr",
     "output_type": "stream",
     "text": [
      "/workspaces/python/.venv/lib/python3.11/site-packages/urllib3/connectionpool.py:1103: InsecureRequestWarning: Unverified HTTPS request is being made to host 'mlflow.ap-home'. Adding certificate verification is strongly advised. See: https://urllib3.readthedocs.io/en/latest/advanced-usage.html#tls-warnings\n",
      "  warnings.warn(\n",
      "/workspaces/python/.venv/lib/python3.11/site-packages/urllib3/connectionpool.py:1103: InsecureRequestWarning: Unverified HTTPS request is being made to host 'mlflow.ap-home'. Adding certificate verification is strongly advised. See: https://urllib3.readthedocs.io/en/latest/advanced-usage.html#tls-warnings\n",
      "  warnings.warn(\n"
     ]
    },
    {
     "name": "stdout",
     "output_type": "stream",
     "text": [
      "\u001b[1m4046/4050\u001b[0m \u001b[32m━━━━━━━━━━━━━━━━━━━\u001b[0m\u001b[37m━\u001b[0m \u001b[1m0s\u001b[0m 5ms/step - loss: 0.1525 - mae: 0.1525 - mape: 0.8823 - mse: 0.2055 - r2_score: 0.9198"
     ]
    },
    {
     "name": "stderr",
     "output_type": "stream",
     "text": [
      "/workspaces/python/.venv/lib/python3.11/site-packages/urllib3/connectionpool.py:1103: InsecureRequestWarning: Unverified HTTPS request is being made to host 'mlflow.ap-home'. Adding certificate verification is strongly advised. See: https://urllib3.readthedocs.io/en/latest/advanced-usage.html#tls-warnings\n",
      "  warnings.warn(\n",
      "/workspaces/python/.venv/lib/python3.11/site-packages/urllib3/connectionpool.py:1103: InsecureRequestWarning: Unverified HTTPS request is being made to host 'mlflow.ap-home'. Adding certificate verification is strongly advised. See: https://urllib3.readthedocs.io/en/latest/advanced-usage.html#tls-warnings\n",
      "  warnings.warn(\n",
      "/workspaces/python/.venv/lib/python3.11/site-packages/urllib3/connectionpool.py:1103: InsecureRequestWarning: Unverified HTTPS request is being made to host 'mlflow.ap-home'. Adding certificate verification is strongly advised. See: https://urllib3.readthedocs.io/en/latest/advanced-usage.html#tls-warnings\n",
      "  warnings.warn(\n",
      "WARNING:absl:You are saving your model as an HDF5 file via `model.save()` or `keras.saving.save_model(model)`. This file format is considered legacy. We recommend using instead the native Keras format, e.g. `model.save('my_model.keras')` or `keras.saving.save_model(model, 'my_model.keras')`. \n"
     ]
    },
    {
     "name": "stdout",
     "output_type": "stream",
     "text": [
      "\u001b[1m4050/4050\u001b[0m \u001b[32m━━━━━━━━━━━━━━━━━━━━\u001b[0m\u001b[37m\u001b[0m \u001b[1m21s\u001b[0m 5ms/step - loss: 0.1525 - mae: 0.1525 - mape: 0.8823 - mse: 0.2055 - r2_score: 0.9197 - val_loss: 0.1374 - val_mae: 0.1374 - val_mape: 0.8008 - val_mse: 0.2193 - val_r2_score: 0.8877\n",
      "Epoch 83/100\n",
      "\u001b[1m4050/4050\u001b[0m \u001b[32m━━━━━━━━━━━━━━━━━━━━\u001b[0m\u001b[37m\u001b[0m \u001b[1m21s\u001b[0m 5ms/step - loss: 0.1590 - mae: 0.1590 - mape: 0.9221 - mse: 0.2215 - r2_score: 0.9020 - val_loss: 0.1719 - val_mae: 0.1720 - val_mape: 0.9887 - val_mse: 0.2866 - val_r2_score: 0.8518\n",
      "Epoch 84/100\n",
      "\u001b[1m  34/4050\u001b[0m \u001b[37m━━━━━━━━━━━━━━━━━━━━\u001b[0m \u001b[1m19s\u001b[0m 5ms/step - loss: 0.1274 - mae: 0.1274 - mape: 0.7108 - mse: 0.1067 - r2_score: 1.0970"
     ]
    },
    {
     "name": "stderr",
     "output_type": "stream",
     "text": [
      "/workspaces/python/.venv/lib/python3.11/site-packages/urllib3/connectionpool.py:1103: InsecureRequestWarning: Unverified HTTPS request is being made to host 'mlflow.ap-home'. Adding certificate verification is strongly advised. See: https://urllib3.readthedocs.io/en/latest/advanced-usage.html#tls-warnings\n",
      "  warnings.warn(\n",
      "/workspaces/python/.venv/lib/python3.11/site-packages/urllib3/connectionpool.py:1103: InsecureRequestWarning: Unverified HTTPS request is being made to host 'mlflow.ap-home'. Adding certificate verification is strongly advised. See: https://urllib3.readthedocs.io/en/latest/advanced-usage.html#tls-warnings\n",
      "  warnings.warn(\n"
     ]
    },
    {
     "name": "stdout",
     "output_type": "stream",
     "text": [
      "\u001b[1m4045/4050\u001b[0m \u001b[32m━━━━━━━━━━━━━━━━━━━\u001b[0m\u001b[37m━\u001b[0m \u001b[1m0s\u001b[0m 5ms/step - loss: 0.1514 - mae: 0.1514 - mape: 0.8746 - mse: 0.2005 - r2_score: 0.9161"
     ]
    },
    {
     "name": "stderr",
     "output_type": "stream",
     "text": [
      "/workspaces/python/.venv/lib/python3.11/site-packages/urllib3/connectionpool.py:1103: InsecureRequestWarning: Unverified HTTPS request is being made to host 'mlflow.ap-home'. Adding certificate verification is strongly advised. See: https://urllib3.readthedocs.io/en/latest/advanced-usage.html#tls-warnings\n",
      "  warnings.warn(\n",
      "/workspaces/python/.venv/lib/python3.11/site-packages/urllib3/connectionpool.py:1103: InsecureRequestWarning: Unverified HTTPS request is being made to host 'mlflow.ap-home'. Adding certificate verification is strongly advised. See: https://urllib3.readthedocs.io/en/latest/advanced-usage.html#tls-warnings\n",
      "  warnings.warn(\n",
      "/workspaces/python/.venv/lib/python3.11/site-packages/urllib3/connectionpool.py:1103: InsecureRequestWarning: Unverified HTTPS request is being made to host 'mlflow.ap-home'. Adding certificate verification is strongly advised. See: https://urllib3.readthedocs.io/en/latest/advanced-usage.html#tls-warnings\n",
      "  warnings.warn(\n",
      "WARNING:absl:You are saving your model as an HDF5 file via `model.save()` or `keras.saving.save_model(model)`. This file format is considered legacy. We recommend using instead the native Keras format, e.g. `model.save('my_model.keras')` or `keras.saving.save_model(model, 'my_model.keras')`. \n"
     ]
    },
    {
     "name": "stdout",
     "output_type": "stream",
     "text": [
      "\u001b[1m4050/4050\u001b[0m \u001b[32m━━━━━━━━━━━━━━━━━━━━\u001b[0m\u001b[37m\u001b[0m \u001b[1m21s\u001b[0m 5ms/step - loss: 0.1514 - mae: 0.1514 - mape: 0.8747 - mse: 0.2005 - r2_score: 0.9160 - val_loss: 0.1422 - val_mae: 0.1422 - val_mape: 0.8382 - val_mse: 0.2490 - val_r2_score: 0.8722\n",
      "Epoch 85/100\n",
      "\u001b[1m4050/4050\u001b[0m \u001b[32m━━━━━━━━━━━━━━━━━━━━\u001b[0m\u001b[37m\u001b[0m \u001b[1m21s\u001b[0m 5ms/step - loss: 0.1516 - mae: 0.1516 - mape: 0.8770 - mse: 0.2034 - r2_score: 0.8985 - val_loss: 0.1535 - val_mae: 0.1535 - val_mape: 0.8923 - val_mse: 0.2493 - val_r2_score: 0.8718\n",
      "Epoch 86/100\n",
      "\u001b[1m  32/4050\u001b[0m \u001b[37m━━━━━━━━━━━━━━━━━━━━\u001b[0m \u001b[1m20s\u001b[0m 5ms/step - loss: 0.1395 - mae: 0.1395 - mape: 0.8079 - mse: 0.1635 - r2_score: 1.3706"
     ]
    },
    {
     "name": "stderr",
     "output_type": "stream",
     "text": [
      "/workspaces/python/.venv/lib/python3.11/site-packages/urllib3/connectionpool.py:1103: InsecureRequestWarning: Unverified HTTPS request is being made to host 'mlflow.ap-home'. Adding certificate verification is strongly advised. See: https://urllib3.readthedocs.io/en/latest/advanced-usage.html#tls-warnings\n",
      "  warnings.warn(\n",
      "/workspaces/python/.venv/lib/python3.11/site-packages/urllib3/connectionpool.py:1103: InsecureRequestWarning: Unverified HTTPS request is being made to host 'mlflow.ap-home'. Adding certificate verification is strongly advised. See: https://urllib3.readthedocs.io/en/latest/advanced-usage.html#tls-warnings\n",
      "  warnings.warn(\n"
     ]
    },
    {
     "name": "stdout",
     "output_type": "stream",
     "text": [
      "\u001b[1m4049/4050\u001b[0m \u001b[32m━━━━━━━━━━━━━━━━━━━\u001b[0m\u001b[37m━\u001b[0m \u001b[1m0s\u001b[0m 5ms/step - loss: 0.1618 - mae: 0.1618 - mape: 0.9359 - mse: 0.2254 - r2_score: 0.8976"
     ]
    },
    {
     "name": "stderr",
     "output_type": "stream",
     "text": [
      "/workspaces/python/.venv/lib/python3.11/site-packages/urllib3/connectionpool.py:1103: InsecureRequestWarning: Unverified HTTPS request is being made to host 'mlflow.ap-home'. Adding certificate verification is strongly advised. See: https://urllib3.readthedocs.io/en/latest/advanced-usage.html#tls-warnings\n",
      "  warnings.warn(\n",
      "/workspaces/python/.venv/lib/python3.11/site-packages/urllib3/connectionpool.py:1103: InsecureRequestWarning: Unverified HTTPS request is being made to host 'mlflow.ap-home'. Adding certificate verification is strongly advised. See: https://urllib3.readthedocs.io/en/latest/advanced-usage.html#tls-warnings\n",
      "  warnings.warn(\n",
      "/workspaces/python/.venv/lib/python3.11/site-packages/urllib3/connectionpool.py:1103: InsecureRequestWarning: Unverified HTTPS request is being made to host 'mlflow.ap-home'. Adding certificate verification is strongly advised. See: https://urllib3.readthedocs.io/en/latest/advanced-usage.html#tls-warnings\n",
      "  warnings.warn(\n",
      "WARNING:absl:You are saving your model as an HDF5 file via `model.save()` or `keras.saving.save_model(model)`. This file format is considered legacy. We recommend using instead the native Keras format, e.g. `model.save('my_model.keras')` or `keras.saving.save_model(model, 'my_model.keras')`. \n"
     ]
    },
    {
     "name": "stdout",
     "output_type": "stream",
     "text": [
      "\u001b[1m4050/4050\u001b[0m \u001b[32m━━━━━━━━━━━━━━━━━━━━\u001b[0m\u001b[37m\u001b[0m \u001b[1m21s\u001b[0m 5ms/step - loss: 0.1618 - mae: 0.1618 - mape: 0.9359 - mse: 0.2253 - r2_score: 0.8976 - val_loss: 0.1525 - val_mae: 0.1526 - val_mape: 0.8818 - val_mse: 0.2423 - val_r2_score: 0.8754\n",
      "Epoch 87/100\n",
      "\u001b[1m4048/4050\u001b[0m \u001b[32m━━━━━━━━━━━━━━━━━━━\u001b[0m\u001b[37m━\u001b[0m \u001b[1m0s\u001b[0m 5ms/step - loss: 0.1661 - mae: 0.1661 - mape: 0.9596 - mse: 0.2366 - r2_score: 0.8980"
     ]
    },
    {
     "name": "stderr",
     "output_type": "stream",
     "text": [
      "/workspaces/python/.venv/lib/python3.11/site-packages/urllib3/connectionpool.py:1103: InsecureRequestWarning: Unverified HTTPS request is being made to host 'mlflow.ap-home'. Adding certificate verification is strongly advised. See: https://urllib3.readthedocs.io/en/latest/advanced-usage.html#tls-warnings\n",
      "  warnings.warn(\n",
      "/workspaces/python/.venv/lib/python3.11/site-packages/urllib3/connectionpool.py:1103: InsecureRequestWarning: Unverified HTTPS request is being made to host 'mlflow.ap-home'. Adding certificate verification is strongly advised. See: https://urllib3.readthedocs.io/en/latest/advanced-usage.html#tls-warnings\n",
      "  warnings.warn(\n",
      "/workspaces/python/.venv/lib/python3.11/site-packages/urllib3/connectionpool.py:1103: InsecureRequestWarning: Unverified HTTPS request is being made to host 'mlflow.ap-home'. Adding certificate verification is strongly advised. See: https://urllib3.readthedocs.io/en/latest/advanced-usage.html#tls-warnings\n",
      "  warnings.warn(\n",
      "WARNING:absl:You are saving your model as an HDF5 file via `model.save()` or `keras.saving.save_model(model)`. This file format is considered legacy. We recommend using instead the native Keras format, e.g. `model.save('my_model.keras')` or `keras.saving.save_model(model, 'my_model.keras')`. \n"
     ]
    },
    {
     "name": "stdout",
     "output_type": "stream",
     "text": [
      "\u001b[1m4050/4050\u001b[0m \u001b[32m━━━━━━━━━━━━━━━━━━━━\u001b[0m\u001b[37m\u001b[0m \u001b[1m22s\u001b[0m 5ms/step - loss: 0.1661 - mae: 0.1661 - mape: 0.9596 - mse: 0.2366 - r2_score: 0.8980 - val_loss: 0.1426 - val_mae: 0.1427 - val_mape: 0.8359 - val_mse: 0.2425 - val_r2_score: 0.8755\n",
      "Epoch 88/100\n",
      "\u001b[1m4050/4050\u001b[0m \u001b[32m━━━━━━━━━━━━━━━━━━━━\u001b[0m\u001b[37m\u001b[0m \u001b[1m21s\u001b[0m 5ms/step - loss: 0.1482 - mae: 0.1482 - mape: 0.8597 - mse: 0.1967 - r2_score: 0.9383 - val_loss: 0.1711 - val_mae: 0.1712 - val_mape: 0.9635 - val_mse: 0.2715 - val_r2_score: 0.8602\n",
      "Epoch 89/100\n",
      "\u001b[1m  32/4050\u001b[0m \u001b[37m━━━━━━━━━━━━━━━━━━━━\u001b[0m \u001b[1m20s\u001b[0m 5ms/step - loss: 0.1694 - mae: 0.1694 - mape: 0.9644 - mse: 0.1928 - r2_score: 0.6611"
     ]
    },
    {
     "name": "stderr",
     "output_type": "stream",
     "text": [
      "/workspaces/python/.venv/lib/python3.11/site-packages/urllib3/connectionpool.py:1103: InsecureRequestWarning: Unverified HTTPS request is being made to host 'mlflow.ap-home'. Adding certificate verification is strongly advised. See: https://urllib3.readthedocs.io/en/latest/advanced-usage.html#tls-warnings\n",
      "  warnings.warn(\n",
      "/workspaces/python/.venv/lib/python3.11/site-packages/urllib3/connectionpool.py:1103: InsecureRequestWarning: Unverified HTTPS request is being made to host 'mlflow.ap-home'. Adding certificate verification is strongly advised. See: https://urllib3.readthedocs.io/en/latest/advanced-usage.html#tls-warnings\n",
      "  warnings.warn(\n"
     ]
    },
    {
     "name": "stdout",
     "output_type": "stream",
     "text": [
      "\u001b[1m4045/4050\u001b[0m \u001b[32m━━━━━━━━━━━━━━━━━━━\u001b[0m\u001b[37m━\u001b[0m \u001b[1m0s\u001b[0m 5ms/step - loss: 0.1508 - mae: 0.1508 - mape: 0.8702 - mse: 0.1956 - r2_score: 0.8841"
     ]
    },
    {
     "name": "stderr",
     "output_type": "stream",
     "text": [
      "/workspaces/python/.venv/lib/python3.11/site-packages/urllib3/connectionpool.py:1103: InsecureRequestWarning: Unverified HTTPS request is being made to host 'mlflow.ap-home'. Adding certificate verification is strongly advised. See: https://urllib3.readthedocs.io/en/latest/advanced-usage.html#tls-warnings\n",
      "  warnings.warn(\n",
      "/workspaces/python/.venv/lib/python3.11/site-packages/urllib3/connectionpool.py:1103: InsecureRequestWarning: Unverified HTTPS request is being made to host 'mlflow.ap-home'. Adding certificate verification is strongly advised. See: https://urllib3.readthedocs.io/en/latest/advanced-usage.html#tls-warnings\n",
      "  warnings.warn(\n",
      "/workspaces/python/.venv/lib/python3.11/site-packages/urllib3/connectionpool.py:1103: InsecureRequestWarning: Unverified HTTPS request is being made to host 'mlflow.ap-home'. Adding certificate verification is strongly advised. See: https://urllib3.readthedocs.io/en/latest/advanced-usage.html#tls-warnings\n",
      "  warnings.warn(\n",
      "WARNING:absl:You are saving your model as an HDF5 file via `model.save()` or `keras.saving.save_model(model)`. This file format is considered legacy. We recommend using instead the native Keras format, e.g. `model.save('my_model.keras')` or `keras.saving.save_model(model, 'my_model.keras')`. \n"
     ]
    },
    {
     "name": "stdout",
     "output_type": "stream",
     "text": [
      "\u001b[1m4050/4050\u001b[0m \u001b[32m━━━━━━━━━━━━━━━━━━━━\u001b[0m\u001b[37m\u001b[0m \u001b[1m21s\u001b[0m 5ms/step - loss: 0.1508 - mae: 0.1508 - mape: 0.8702 - mse: 0.1956 - r2_score: 0.8842 - val_loss: 0.1448 - val_mae: 0.1449 - val_mape: 0.8431 - val_mse: 0.2271 - val_r2_score: 0.8843\n",
      "Epoch 90/100\n",
      "\u001b[1m4050/4050\u001b[0m \u001b[32m━━━━━━━━━━━━━━━━━━━━\u001b[0m\u001b[37m\u001b[0m \u001b[1m21s\u001b[0m 5ms/step - loss: 0.1581 - mae: 0.1581 - mape: 0.9102 - mse: 0.2203 - r2_score: 0.9061 - val_loss: 0.1704 - val_mae: 0.1704 - val_mape: 0.9753 - val_mse: 0.2735 - val_r2_score: 0.8586\n",
      "Epoch 91/100\n",
      "\u001b[1m  32/4050\u001b[0m \u001b[37m━━━━━━━━━━━━━━━━━━━━\u001b[0m \u001b[1m20s\u001b[0m 5ms/step - loss: 0.1387 - mae: 0.1387 - mape: 0.7938 - mse: 0.1581 - r2_score: 1.3297"
     ]
    },
    {
     "name": "stderr",
     "output_type": "stream",
     "text": [
      "/workspaces/python/.venv/lib/python3.11/site-packages/urllib3/connectionpool.py:1103: InsecureRequestWarning: Unverified HTTPS request is being made to host 'mlflow.ap-home'. Adding certificate verification is strongly advised. See: https://urllib3.readthedocs.io/en/latest/advanced-usage.html#tls-warnings\n",
      "  warnings.warn(\n",
      "/workspaces/python/.venv/lib/python3.11/site-packages/urllib3/connectionpool.py:1103: InsecureRequestWarning: Unverified HTTPS request is being made to host 'mlflow.ap-home'. Adding certificate verification is strongly advised. See: https://urllib3.readthedocs.io/en/latest/advanced-usage.html#tls-warnings\n",
      "  warnings.warn(\n"
     ]
    },
    {
     "name": "stdout",
     "output_type": "stream",
     "text": [
      "\u001b[1m4045/4050\u001b[0m \u001b[32m━━━━━━━━━━━━━━━━━━━\u001b[0m\u001b[37m━\u001b[0m \u001b[1m0s\u001b[0m 5ms/step - loss: 0.1464 - mae: 0.1464 - mape: 0.8446 - mse: 0.1866 - r2_score: 0.9276"
     ]
    },
    {
     "name": "stderr",
     "output_type": "stream",
     "text": [
      "/workspaces/python/.venv/lib/python3.11/site-packages/urllib3/connectionpool.py:1103: InsecureRequestWarning: Unverified HTTPS request is being made to host 'mlflow.ap-home'. Adding certificate verification is strongly advised. See: https://urllib3.readthedocs.io/en/latest/advanced-usage.html#tls-warnings\n",
      "  warnings.warn(\n",
      "/workspaces/python/.venv/lib/python3.11/site-packages/urllib3/connectionpool.py:1103: InsecureRequestWarning: Unverified HTTPS request is being made to host 'mlflow.ap-home'. Adding certificate verification is strongly advised. See: https://urllib3.readthedocs.io/en/latest/advanced-usage.html#tls-warnings\n",
      "  warnings.warn(\n",
      "/workspaces/python/.venv/lib/python3.11/site-packages/urllib3/connectionpool.py:1103: InsecureRequestWarning: Unverified HTTPS request is being made to host 'mlflow.ap-home'. Adding certificate verification is strongly advised. See: https://urllib3.readthedocs.io/en/latest/advanced-usage.html#tls-warnings\n",
      "  warnings.warn(\n",
      "WARNING:absl:You are saving your model as an HDF5 file via `model.save()` or `keras.saving.save_model(model)`. This file format is considered legacy. We recommend using instead the native Keras format, e.g. `model.save('my_model.keras')` or `keras.saving.save_model(model, 'my_model.keras')`. \n"
     ]
    },
    {
     "name": "stdout",
     "output_type": "stream",
     "text": [
      "\u001b[1m4050/4050\u001b[0m \u001b[32m━━━━━━━━━━━━━━━━━━━━\u001b[0m\u001b[37m\u001b[0m \u001b[1m21s\u001b[0m 5ms/step - loss: 0.1464 - mae: 0.1464 - mape: 0.8447 - mse: 0.1866 - r2_score: 0.9276 - val_loss: 0.1599 - val_mae: 0.1600 - val_mape: 0.9245 - val_mse: 0.2728 - val_r2_score: 0.8606\n",
      "Epoch 92/100\n",
      "\u001b[1m4050/4050\u001b[0m \u001b[32m━━━━━━━━━━━━━━━━━━━━\u001b[0m\u001b[37m\u001b[0m \u001b[1m21s\u001b[0m 5ms/step - loss: 0.1468 - mae: 0.1468 - mape: 0.8451 - mse: 0.1896 - r2_score: 0.9258 - val_loss: 0.2716 - val_mae: 0.2717 - val_mape: 1.5814 - val_mse: 0.5274 - val_r2_score: 0.7231\n",
      "Epoch 93/100\n",
      "\u001b[1m  33/4050\u001b[0m \u001b[37m━━━━━━━━━━━━━━━━━━━━\u001b[0m \u001b[1m20s\u001b[0m 5ms/step - loss: 0.2643 - mae: 0.2643 - mape: 1.5387 - mse: 0.5034 - r2_score: 0.1731"
     ]
    },
    {
     "name": "stderr",
     "output_type": "stream",
     "text": [
      "/workspaces/python/.venv/lib/python3.11/site-packages/urllib3/connectionpool.py:1103: InsecureRequestWarning: Unverified HTTPS request is being made to host 'mlflow.ap-home'. Adding certificate verification is strongly advised. See: https://urllib3.readthedocs.io/en/latest/advanced-usage.html#tls-warnings\n",
      "  warnings.warn(\n",
      "/workspaces/python/.venv/lib/python3.11/site-packages/urllib3/connectionpool.py:1103: InsecureRequestWarning: Unverified HTTPS request is being made to host 'mlflow.ap-home'. Adding certificate verification is strongly advised. See: https://urllib3.readthedocs.io/en/latest/advanced-usage.html#tls-warnings\n",
      "  warnings.warn(\n"
     ]
    },
    {
     "name": "stdout",
     "output_type": "stream",
     "text": [
      "\u001b[1m4044/4050\u001b[0m \u001b[32m━━━━━━━━━━━━━━━━━━━\u001b[0m\u001b[37m━\u001b[0m \u001b[1m0s\u001b[0m 5ms/step - loss: 0.1615 - mae: 0.1615 - mape: 0.9311 - mse: 0.2248 - r2_score: 0.9095"
     ]
    },
    {
     "name": "stderr",
     "output_type": "stream",
     "text": [
      "/workspaces/python/.venv/lib/python3.11/site-packages/urllib3/connectionpool.py:1103: InsecureRequestWarning: Unverified HTTPS request is being made to host 'mlflow.ap-home'. Adding certificate verification is strongly advised. See: https://urllib3.readthedocs.io/en/latest/advanced-usage.html#tls-warnings\n",
      "  warnings.warn(\n",
      "/workspaces/python/.venv/lib/python3.11/site-packages/urllib3/connectionpool.py:1103: InsecureRequestWarning: Unverified HTTPS request is being made to host 'mlflow.ap-home'. Adding certificate verification is strongly advised. See: https://urllib3.readthedocs.io/en/latest/advanced-usage.html#tls-warnings\n",
      "  warnings.warn(\n",
      "/workspaces/python/.venv/lib/python3.11/site-packages/urllib3/connectionpool.py:1103: InsecureRequestWarning: Unverified HTTPS request is being made to host 'mlflow.ap-home'. Adding certificate verification is strongly advised. See: https://urllib3.readthedocs.io/en/latest/advanced-usage.html#tls-warnings\n",
      "  warnings.warn(\n",
      "WARNING:absl:You are saving your model as an HDF5 file via `model.save()` or `keras.saving.save_model(model)`. This file format is considered legacy. We recommend using instead the native Keras format, e.g. `model.save('my_model.keras')` or `keras.saving.save_model(model, 'my_model.keras')`. \n"
     ]
    },
    {
     "name": "stdout",
     "output_type": "stream",
     "text": [
      "\u001b[1m4050/4050\u001b[0m \u001b[32m━━━━━━━━━━━━━━━━━━━━\u001b[0m\u001b[37m\u001b[0m \u001b[1m21s\u001b[0m 5ms/step - loss: 0.1615 - mae: 0.1615 - mape: 0.9311 - mse: 0.2248 - r2_score: 0.9095 - val_loss: 0.1468 - val_mae: 0.1469 - val_mape: 0.8493 - val_mse: 0.2313 - val_r2_score: 0.8820\n",
      "Epoch 94/100\n",
      "\u001b[1m4050/4050\u001b[0m \u001b[32m━━━━━━━━━━━━━━━━━━━━\u001b[0m\u001b[37m\u001b[0m \u001b[1m21s\u001b[0m 5ms/step - loss: 0.1590 - mae: 0.1590 - mape: 0.9221 - mse: 0.2225 - r2_score: 0.9060 - val_loss: 0.1545 - val_mae: 0.1546 - val_mape: 0.8980 - val_mse: 0.2648 - val_r2_score: 0.8645\n",
      "Epoch 95/100\n",
      "\u001b[1m  33/4050\u001b[0m \u001b[37m━━━━━━━━━━━━━━━━━━━━\u001b[0m \u001b[1m20s\u001b[0m 5ms/step - loss: 0.1318 - mae: 0.1318 - mape: 0.7570 - mse: 0.1655 - r2_score: 0.7458"
     ]
    },
    {
     "name": "stderr",
     "output_type": "stream",
     "text": [
      "/workspaces/python/.venv/lib/python3.11/site-packages/urllib3/connectionpool.py:1103: InsecureRequestWarning: Unverified HTTPS request is being made to host 'mlflow.ap-home'. Adding certificate verification is strongly advised. See: https://urllib3.readthedocs.io/en/latest/advanced-usage.html#tls-warnings\n",
      "  warnings.warn(\n",
      "/workspaces/python/.venv/lib/python3.11/site-packages/urllib3/connectionpool.py:1103: InsecureRequestWarning: Unverified HTTPS request is being made to host 'mlflow.ap-home'. Adding certificate verification is strongly advised. See: https://urllib3.readthedocs.io/en/latest/advanced-usage.html#tls-warnings\n",
      "  warnings.warn(\n"
     ]
    },
    {
     "name": "stdout",
     "output_type": "stream",
     "text": [
      "\u001b[1m4050/4050\u001b[0m \u001b[32m━━━━━━━━━━━━━━━━━━━━\u001b[0m\u001b[37m\u001b[0m \u001b[1m21s\u001b[0m 5ms/step - loss: 0.1540 - mae: 0.1540 - mape: 0.8918 - mse: 0.2098 - r2_score: 0.9200 - val_loss: 0.1552 - val_mae: 0.1553 - val_mape: 0.8978 - val_mse: 0.2661 - val_r2_score: 0.8624\n",
      "Epoch 96/100\n",
      "\u001b[1m  33/4050\u001b[0m \u001b[37m━━━━━━━━━━━━━━━━━━━━\u001b[0m \u001b[1m20s\u001b[0m 5ms/step - loss: 0.1495 - mae: 0.1495 - mape: 0.8609 - mse: 0.2029 - r2_score: 0.8408"
     ]
    },
    {
     "name": "stderr",
     "output_type": "stream",
     "text": [
      "/workspaces/python/.venv/lib/python3.11/site-packages/urllib3/connectionpool.py:1103: InsecureRequestWarning: Unverified HTTPS request is being made to host 'mlflow.ap-home'. Adding certificate verification is strongly advised. See: https://urllib3.readthedocs.io/en/latest/advanced-usage.html#tls-warnings\n",
      "  warnings.warn(\n",
      "/workspaces/python/.venv/lib/python3.11/site-packages/urllib3/connectionpool.py:1103: InsecureRequestWarning: Unverified HTTPS request is being made to host 'mlflow.ap-home'. Adding certificate verification is strongly advised. See: https://urllib3.readthedocs.io/en/latest/advanced-usage.html#tls-warnings\n",
      "  warnings.warn(\n"
     ]
    },
    {
     "name": "stdout",
     "output_type": "stream",
     "text": [
      "\u001b[1m4050/4050\u001b[0m \u001b[32m━━━━━━━━━━━━━━━━━━━━\u001b[0m\u001b[37m\u001b[0m \u001b[1m21s\u001b[0m 5ms/step - loss: 0.1459 - mae: 0.1459 - mape: 0.8436 - mse: 0.1904 - r2_score: 0.9234 - val_loss: 0.1553 - val_mae: 0.1554 - val_mape: 0.8975 - val_mse: 0.2537 - val_r2_score: 0.8699\n",
      "Epoch 97/100\n",
      "\u001b[1m  30/4050\u001b[0m \u001b[37m━━━━━━━━━━━━━━━━━━━━\u001b[0m \u001b[1m21s\u001b[0m 5ms/step - loss: 0.1305 - mae: 0.1305 - mape: 0.7368 - mse: 0.1280 - r2_score: 1.4406"
     ]
    },
    {
     "name": "stderr",
     "output_type": "stream",
     "text": [
      "/workspaces/python/.venv/lib/python3.11/site-packages/urllib3/connectionpool.py:1103: InsecureRequestWarning: Unverified HTTPS request is being made to host 'mlflow.ap-home'. Adding certificate verification is strongly advised. See: https://urllib3.readthedocs.io/en/latest/advanced-usage.html#tls-warnings\n",
      "  warnings.warn(\n",
      "/workspaces/python/.venv/lib/python3.11/site-packages/urllib3/connectionpool.py:1103: InsecureRequestWarning: Unverified HTTPS request is being made to host 'mlflow.ap-home'. Adding certificate verification is strongly advised. See: https://urllib3.readthedocs.io/en/latest/advanced-usage.html#tls-warnings\n",
      "  warnings.warn(\n"
     ]
    },
    {
     "name": "stdout",
     "output_type": "stream",
     "text": [
      "\u001b[1m4040/4050\u001b[0m \u001b[32m━━━━━━━━━━━━━━━━━━━\u001b[0m\u001b[37m━\u001b[0m \u001b[1m0s\u001b[0m 5ms/step - loss: 0.1523 - mae: 0.1523 - mape: 0.8813 - mse: 0.2054 - r2_score: 0.9342"
     ]
    },
    {
     "name": "stderr",
     "output_type": "stream",
     "text": [
      "/workspaces/python/.venv/lib/python3.11/site-packages/urllib3/connectionpool.py:1103: InsecureRequestWarning: Unverified HTTPS request is being made to host 'mlflow.ap-home'. Adding certificate verification is strongly advised. See: https://urllib3.readthedocs.io/en/latest/advanced-usage.html#tls-warnings\n",
      "  warnings.warn(\n",
      "/workspaces/python/.venv/lib/python3.11/site-packages/urllib3/connectionpool.py:1103: InsecureRequestWarning: Unverified HTTPS request is being made to host 'mlflow.ap-home'. Adding certificate verification is strongly advised. See: https://urllib3.readthedocs.io/en/latest/advanced-usage.html#tls-warnings\n",
      "  warnings.warn(\n",
      "/workspaces/python/.venv/lib/python3.11/site-packages/urllib3/connectionpool.py:1103: InsecureRequestWarning: Unverified HTTPS request is being made to host 'mlflow.ap-home'. Adding certificate verification is strongly advised. See: https://urllib3.readthedocs.io/en/latest/advanced-usage.html#tls-warnings\n",
      "  warnings.warn(\n",
      "WARNING:absl:You are saving your model as an HDF5 file via `model.save()` or `keras.saving.save_model(model)`. This file format is considered legacy. We recommend using instead the native Keras format, e.g. `model.save('my_model.keras')` or `keras.saving.save_model(model, 'my_model.keras')`. \n"
     ]
    },
    {
     "name": "stdout",
     "output_type": "stream",
     "text": [
      "\u001b[1m4050/4050\u001b[0m \u001b[32m━━━━━━━━━━━━━━━━━━━━\u001b[0m\u001b[37m\u001b[0m \u001b[1m21s\u001b[0m 5ms/step - loss: 0.1523 - mae: 0.1523 - mape: 0.8814 - mse: 0.2054 - r2_score: 0.9341 - val_loss: 0.1493 - val_mae: 0.1493 - val_mape: 0.8672 - val_mse: 0.2619 - val_r2_score: 0.8659\n",
      "Epoch 98/100\n",
      "\u001b[1m4050/4050\u001b[0m \u001b[32m━━━━━━━━━━━━━━━━━━━━\u001b[0m\u001b[37m\u001b[0m \u001b[1m21s\u001b[0m 5ms/step - loss: 0.1444 - mae: 0.1444 - mape: 0.8356 - mse: 0.1874 - r2_score: 0.9208 - val_loss: 0.1726 - val_mae: 0.1727 - val_mape: 1.0002 - val_mse: 0.3030 - val_r2_score: 0.8448\n",
      "Epoch 99/100\n",
      "\u001b[1m  32/4050\u001b[0m \u001b[37m━━━━━━━━━━━━━━━━━━━━\u001b[0m \u001b[1m20s\u001b[0m 5ms/step - loss: 0.1561 - mae: 0.1561 - mape: 0.9144 - mse: 0.2120 - r2_score: 0.0180"
     ]
    },
    {
     "name": "stderr",
     "output_type": "stream",
     "text": [
      "/workspaces/python/.venv/lib/python3.11/site-packages/urllib3/connectionpool.py:1103: InsecureRequestWarning: Unverified HTTPS request is being made to host 'mlflow.ap-home'. Adding certificate verification is strongly advised. See: https://urllib3.readthedocs.io/en/latest/advanced-usage.html#tls-warnings\n",
      "  warnings.warn(\n",
      "/workspaces/python/.venv/lib/python3.11/site-packages/urllib3/connectionpool.py:1103: InsecureRequestWarning: Unverified HTTPS request is being made to host 'mlflow.ap-home'. Adding certificate verification is strongly advised. See: https://urllib3.readthedocs.io/en/latest/advanced-usage.html#tls-warnings\n",
      "  warnings.warn(\n"
     ]
    },
    {
     "name": "stdout",
     "output_type": "stream",
     "text": [
      "\u001b[1m4050/4050\u001b[0m \u001b[32m━━━━━━━━━━━━━━━━━━━━\u001b[0m\u001b[37m\u001b[0m \u001b[1m0s\u001b[0m 5ms/step - loss: 0.1447 - mae: 0.1447 - mape: 0.8383 - mse: 0.1892 - r2_score: 0.9223"
     ]
    },
    {
     "name": "stderr",
     "output_type": "stream",
     "text": [
      "/workspaces/python/.venv/lib/python3.11/site-packages/urllib3/connectionpool.py:1103: InsecureRequestWarning: Unverified HTTPS request is being made to host 'mlflow.ap-home'. Adding certificate verification is strongly advised. See: https://urllib3.readthedocs.io/en/latest/advanced-usage.html#tls-warnings\n",
      "  warnings.warn(\n",
      "/workspaces/python/.venv/lib/python3.11/site-packages/urllib3/connectionpool.py:1103: InsecureRequestWarning: Unverified HTTPS request is being made to host 'mlflow.ap-home'. Adding certificate verification is strongly advised. See: https://urllib3.readthedocs.io/en/latest/advanced-usage.html#tls-warnings\n",
      "  warnings.warn(\n",
      "/workspaces/python/.venv/lib/python3.11/site-packages/urllib3/connectionpool.py:1103: InsecureRequestWarning: Unverified HTTPS request is being made to host 'mlflow.ap-home'. Adding certificate verification is strongly advised. See: https://urllib3.readthedocs.io/en/latest/advanced-usage.html#tls-warnings\n",
      "  warnings.warn(\n",
      "WARNING:absl:You are saving your model as an HDF5 file via `model.save()` or `keras.saving.save_model(model)`. This file format is considered legacy. We recommend using instead the native Keras format, e.g. `model.save('my_model.keras')` or `keras.saving.save_model(model, 'my_model.keras')`. \n"
     ]
    },
    {
     "name": "stdout",
     "output_type": "stream",
     "text": [
      "\u001b[1m4050/4050\u001b[0m \u001b[32m━━━━━━━━━━━━━━━━━━━━\u001b[0m\u001b[37m\u001b[0m \u001b[1m21s\u001b[0m 5ms/step - loss: 0.1447 - mae: 0.1447 - mape: 0.8383 - mse: 0.1892 - r2_score: 0.9223 - val_loss: 0.1689 - val_mae: 0.1689 - val_mape: 0.9753 - val_mse: 0.2892 - val_r2_score: 0.8505\n",
      "Epoch 100/100\n",
      "\u001b[1m4048/4050\u001b[0m \u001b[32m━━━━━━━━━━━━━━━━━━━\u001b[0m\u001b[37m━\u001b[0m \u001b[1m0s\u001b[0m 5ms/step - loss: 0.1478 - mae: 0.1478 - mape: 0.8554 - mse: 0.1958 - r2_score: 0.9256"
     ]
    },
    {
     "name": "stderr",
     "output_type": "stream",
     "text": [
      "/workspaces/python/.venv/lib/python3.11/site-packages/urllib3/connectionpool.py:1103: InsecureRequestWarning: Unverified HTTPS request is being made to host 'mlflow.ap-home'. Adding certificate verification is strongly advised. See: https://urllib3.readthedocs.io/en/latest/advanced-usage.html#tls-warnings\n",
      "  warnings.warn(\n",
      "/workspaces/python/.venv/lib/python3.11/site-packages/urllib3/connectionpool.py:1103: InsecureRequestWarning: Unverified HTTPS request is being made to host 'mlflow.ap-home'. Adding certificate verification is strongly advised. See: https://urllib3.readthedocs.io/en/latest/advanced-usage.html#tls-warnings\n",
      "  warnings.warn(\n",
      "/workspaces/python/.venv/lib/python3.11/site-packages/urllib3/connectionpool.py:1103: InsecureRequestWarning: Unverified HTTPS request is being made to host 'mlflow.ap-home'. Adding certificate verification is strongly advised. See: https://urllib3.readthedocs.io/en/latest/advanced-usage.html#tls-warnings\n",
      "  warnings.warn(\n",
      "WARNING:absl:You are saving your model as an HDF5 file via `model.save()` or `keras.saving.save_model(model)`. This file format is considered legacy. We recommend using instead the native Keras format, e.g. `model.save('my_model.keras')` or `keras.saving.save_model(model, 'my_model.keras')`. \n"
     ]
    },
    {
     "name": "stdout",
     "output_type": "stream",
     "text": [
      "\u001b[1m4050/4050\u001b[0m \u001b[32m━━━━━━━━━━━━━━━━━━━━\u001b[0m\u001b[37m\u001b[0m \u001b[1m21s\u001b[0m 5ms/step - loss: 0.1478 - mae: 0.1478 - mape: 0.8554 - mse: 0.1959 - r2_score: 0.9256 - val_loss: 0.1492 - val_mae: 0.1493 - val_mape: 0.8662 - val_mse: 0.2315 - val_r2_score: 0.8811\n",
      "\u001b[1m1/1\u001b[0m \u001b[32m━━━━━━━━━━━━━━━━━━━━\u001b[0m\u001b[37m\u001b[0m \u001b[1m0s\u001b[0m 138ms/step\n"
     ]
    },
    {
     "name": "stderr",
     "output_type": "stream",
     "text": [
      "2024/04/03 02:59:08 WARNING mlflow.utils.autologging_utils: MLflow autologging encountered a warning: \"/workspaces/python/.venv/lib/python3.11/site-packages/_distutils_hack/__init__.py:33: UserWarning: Setuptools is replacing distutils.\"\n",
      "2024/04/03 02:59:09 WARNING mlflow.utils.autologging_utils: MLflow autologging encountered a warning: \"/workspaces/python/.venv/lib/python3.11/site-packages/urllib3/connectionpool.py:1103: InsecureRequestWarning: Unverified HTTPS request is being made to host 'mlflow.ap-home'. Adding certificate verification is strongly advised. See: https://urllib3.readthedocs.io/en/latest/advanced-usage.html#tls-warnings\"\n",
      "2024/04/03 02:59:10 WARNING mlflow.utils.autologging_utils: MLflow autologging encountered a warning: \"/workspaces/python/.venv/lib/python3.11/site-packages/urllib3/connectionpool.py:1103: InsecureRequestWarning: Unverified HTTPS request is being made to host 'mlflow.ap-home'. Adding certificate verification is strongly advised. See: https://urllib3.readthedocs.io/en/latest/advanced-usage.html#tls-warnings\"\n"
     ]
    },
    {
     "name": "stdout",
     "output_type": "stream",
     "text": [
      "{'info': {'artifact_uri': '/mnt/nfs/mlflow/9/e3d4960c31e54f64bfd8fe0cd96a9366/artifacts', 'end_time': 1712113150484, 'experiment_id': '9', 'lifecycle_stage': 'active', 'run_id': 'e3d4960c31e54f64bfd8fe0cd96a9366', 'run_name': 'enchanting-deer-555', 'run_uuid': 'e3d4960c31e54f64bfd8fe0cd96a9366', 'start_time': 1712110216129, 'status': 'FINISHED', 'user_id': 'vscode'}, 'data': {'metrics': {'loss': 0.15090958774089813, 'mae': 0.150910422205925, 'mape': 0.8743603825569153, 'mse': 0.20491613447666168, 'r2_score': 0.9028564095497131, 'validation_loss': 0.1491832137107849, 'validation_mae': 0.14925526082515717, 'validation_mape': 0.8662377595901489, 'validation_mse': 0.23151913285255432, 'validation_r2_score': 0.8810683488845825, 'val_loss': 0.1491832137107849, 'val_mae': 0.14925526082515717, 'val_mape': 0.8662377595901489, 'val_mse': 0.23151913285255432, 'val_r2_score': 0.8810683488845825}, 'params': {'batch_size': 'None', 'class_weight': 'None', 'epochs': '100', 'initial_epoch': '0', 'opt_amsgrad': 'False', 'opt_beta_1': '0.9', 'opt_beta_2': '0.999', 'opt_clipnorm': 'None', 'opt_clipvalue': 'None', 'opt_ema_momentum': '0.99', 'opt_ema_overwrite_frequency': 'None', 'opt_epsilon': '1e-07', 'opt_global_clipnorm': 'None', 'opt_gradient_accumulation_steps': 'None', 'opt_learning_rate': '0.0010000000474974513', 'opt_loss_scale_factor': 'None', 'opt_name': 'adam', 'opt_use_ema': 'False', 'opt_weight_decay': 'None', 'sample_weight': 'None', 'shuffle': 'True', 'steps_per_epoch': 'None', 'validation_batch_size': 'None', 'validation_freq': '1', 'validation_split': '0.2', 'validation_steps': 'None'}, 'tags': {'mlflow.autologging': 'tensorflow', 'mlflow.latest_checkpoint_artifact': 'checkpoints/latest_checkpoint.h5', 'mlflow.log-model.history': '[{\"run_id\": \"e3d4960c31e54f64bfd8fe0cd96a9366\", \"artifact_path\": \"model\", \"utc_time_created\": \"2024-04-03 02:59:04.862249\", \"flavors\": {\"tensorflow\": {\"code\": null, \"data\": \"data\", \"model_type\": \"keras\", \"keras_version\": \"2.16.1\", \"save_format\": \"tf\"}, \"python_function\": {\"loader_module\": \"mlflow.tensorflow\", \"python_version\": \"3.11.8\", \"data\": \"data\", \"env\": {\"conda\": \"conda.yaml\", \"virtualenv\": \"python_env.yaml\"}}}, \"model_uuid\": \"7fd85cc981484661a27de5740b62d7d2\", \"mlflow_version\": \"2.11.3\", \"signature\": {\"inputs\": \"[{\\\\\"type\\\\\": \\\\\"tensor\\\\\", \\\\\"tensor-spec\\\\\": {\\\\\"dtype\\\\\": \\\\\"float64\\\\\", \\\\\"shape\\\\\": [-1, 18]}}]\", \"outputs\": \"[{\\\\\"type\\\\\": \\\\\"tensor\\\\\", \\\\\"tensor-spec\\\\\": {\\\\\"dtype\\\\\": \\\\\"float32\\\\\", \\\\\"shape\\\\\": [-1, 2]}}]\", \"params\": null}, \"model_size_bytes\": 13134230}]', 'mlflow.runName': 'enchanting-deer-555', 'mlflow.source.name': '/workspaces/python/.venv/lib/python3.11/site-packages/ipykernel_launcher.py', 'mlflow.source.type': 'LOCAL', 'mlflow.user': 'vscode'}}, 'inputs': {'dataset_inputs': [<DatasetInput: dataset=<Dataset: digest='58bfd0f1', name='dataset', profile=('{\"features_shape\": [161997, 18], \"features_size\": 2915946, '\n",
      " '\"features_nbytes\": 23327568, \"targets_shape\": [161997, 2], \"targets_size\": '\n",
      " '323994, \"targets_nbytes\": 2591952}'), schema=('{\"mlflow_tensorspec\": {\"features\": \"[{\\\\\"type\\\\\": \\\\\"tensor\\\\\", '\n",
      " '\\\\\"tensor-spec\\\\\": {\\\\\"dtype\\\\\": \\\\\"float64\\\\\", \\\\\"shape\\\\\": [-1, 18]}}]\", '\n",
      " '\"targets\": \"[{\\\\\"type\\\\\": \\\\\"tensor\\\\\", \\\\\"tensor-spec\\\\\": {\\\\\"dtype\\\\\": '\n",
      " '\\\\\"float64\\\\\", \\\\\"shape\\\\\": [-1, 2]}}]\"}}'), source=('{\"tags\": {\"mlflow.user\": \"vscode\", \"mlflow.source.name\": '\n",
      " '\"/workspaces/python/.venv/lib/python3.11/site-packages/ipykernel_launcher.py\", '\n",
      " '\"mlflow.source.type\": \"LOCAL\"}}'), source_type='code'>, tags=[<InputTag: key='mlflow.data.context', value='train'>]>]}}\n"
     ]
    },
    {
     "name": "stderr",
     "output_type": "stream",
     "text": [
      "/workspaces/python/.venv/lib/python3.11/site-packages/urllib3/connectionpool.py:1103: InsecureRequestWarning: Unverified HTTPS request is being made to host 'mlflow.ap-home'. Adding certificate verification is strongly advised. See: https://urllib3.readthedocs.io/en/latest/advanced-usage.html#tls-warnings\n",
      "  warnings.warn(\n"
     ]
    }
   ],
   "source": [
    "# Train the model\n",
    "batch_size = 25\n",
    "epochs = 100\n",
    "\n",
    "history = model.fit(numeric_features.values, target.values, epochs=epochs, validation_split=0.2)\n",
    "\n",
    "run_dict =  mlflow.last_active_run().to_dictionary() \n",
    "print(run_dict)\n",
    "\n",
    "mlflow.end_run()"
   ]
  },
  {
   "cell_type": "code",
   "execution_count": 9,
   "metadata": {},
   "outputs": [
    {
     "name": "stdout",
     "output_type": "stream",
     "text": [
      "\u001b[1m5063/5063\u001b[0m \u001b[32m━━━━━━━━━━━━━━━━━━━━\u001b[0m\u001b[37m\u001b[0m \u001b[1m6s\u001b[0m 1ms/step\n",
      "   in_the_area  presence  in_bed  openweathermap_temperature  \\\n",
      "0          1.0       1.0     0.0                    3.033226   \n",
      "1          1.0       1.0     0.0                    3.033548   \n",
      "2          1.0       1.0     0.0                    3.033871   \n",
      "3          1.0       1.0     0.0                    3.034194   \n",
      "4          1.0       1.0     0.0                    3.034516   \n",
      "\n",
      "   outdoor_temperature_increasing_2  outdoor_temperature_decreasing  \\\n",
      "0                               0.0                             0.0   \n",
      "1                               0.0                             0.0   \n",
      "2                               0.0                             0.0   \n",
      "3                               0.0                             0.0   \n",
      "4                               0.0                             0.0   \n",
      "\n",
      "   thermostat_base_heating_sp  living_room_occupancy  \\\n",
      "0                        20.5                    0.0   \n",
      "1                        20.5                    0.0   \n",
      "2                        20.5                    0.0   \n",
      "3                        20.5                    0.0   \n",
      "4                        20.5                    0.0   \n",
      "\n",
      "   multisensor_air_temperature  elevation  humidity_setpoint  house_humidity  \\\n",
      "0                    17.792308  20.433636                0.0       44.622222   \n",
      "1                    17.800000  20.382727                0.0       44.644444   \n",
      "2                    17.814286  20.331818                0.0       44.666667   \n",
      "3                    17.828571  20.280909                0.0       44.688889   \n",
      "4                    17.842857  20.230000                0.0       44.711111   \n",
      "\n",
      "   water_heater_low_heat  thermostat_base_cooling_sp  total_radiations  \\\n",
      "0                    0.0                        26.0        213.859524   \n",
      "1                    0.0                        26.0        213.074456   \n",
      "2                    0.0                        26.0        212.289389   \n",
      "3                    0.0                        26.0        211.504321   \n",
      "4                    0.0                        26.0        210.719253   \n",
      "\n",
      "   openweathermap_cloud_coverage  openings  electricity_peak_cost  \n",
      "0                      92.816154       0.0                    1.0  \n",
      "1                      92.807692       0.0                    1.0  \n",
      "2                      92.799231       1.0                    1.0  \n",
      "3                      92.790769       0.0                    1.0  \n",
      "4                      92.782308       0.0                    1.0  \n"
     ]
    },
    {
     "name": "stderr",
     "output_type": "stream",
     "text": [
      "/workspaces/python/.venv/lib/python3.11/site-packages/urllib3/connectionpool.py:1103: InsecureRequestWarning: Unverified HTTPS request is being made to host 'mlflow.ap-home'. Adding certificate verification is strongly advised. See: https://urllib3.readthedocs.io/en/latest/advanced-usage.html#tls-warnings\n",
      "  warnings.warn(\n"
     ]
    }
   ],
   "source": [
    "signature = infer_signature(numeric_features, model.predict(numeric_features))\n",
    "set_signature(f\"runs:/{run_dict['info']['run_id']}/model\", signature)\n",
    "\n",
    "print(numeric_features.head())"
   ]
  },
  {
   "cell_type": "code",
   "execution_count": 10,
   "metadata": {},
   "outputs": [
    {
     "name": "stdout",
     "output_type": "stream",
     "text": [
      "dict_keys(['loss', 'mae', 'mape', 'mse', 'r2_score', 'val_loss', 'val_mae', 'val_mape', 'val_mse', 'val_r2_score'])\n"
     ]
    },
    {
     "data": {
      "image/png": "[encoded data removed]",
      "text/plain": [
       "<Figure size 640x480 with 1 Axes>"
      ]
     },
     "metadata": {},
     "output_type": "display_data"
    },
    {
     "data": {
      "image/png": "[encoded data removed]",
      "text/plain": [
       "<Figure size 640x480 with 1 Axes>"
      ]
     },
     "metadata": {},
     "output_type": "display_data"
    }
   ],
   "source": [
    "import matplotlib.pyplot as plt\n",
    "# list all data in history\n",
    "print(history.history.keys())\n",
    "# summarize history for accuracy\n",
    "plt.plot(history.history['mse'])\n",
    "plt.plot(history.history['val_mse'])\n",
    "plt.title('model accuracy')\n",
    "plt.ylabel('mse')\n",
    "plt.xlabel('epoch')\n",
    "plt.legend(['train', 'test'], loc='upper left')\n",
    "plt.show()\n",
    "# summarize history for loss\n",
    "plt.plot(history.history['loss'])\n",
    "plt.plot(history.history['val_loss'])\n",
    "plt.title('model loss')\n",
    "plt.ylabel('loss')\n",
    "plt.xlabel('epoch')\n",
    "plt.legend(['train', 'test'], loc='upper left')\n",
    "plt.show()"
   ]
  },
  {
   "cell_type": "code",
   "execution_count": 11,
   "metadata": {},
   "outputs": [
    {
     "data": {
      "text/html": [
       "<pre style=\"white-space:pre;overflow-x:auto;line-height:normal;font-family:Menlo,'DejaVu Sans Mono',consolas,'Courier New',monospace\"><span style=\"font-weight: bold\">Model: \"sequential\"</span>\n",
       "</pre>\n"
      ],
      "text/plain": [
       "\u001b[1mModel: \"sequential\"\u001b[0m\n"
      ]
     },
     "metadata": {},
     "output_type": "display_data"
    },
    {
     "data": {
      "text/html": [
       "<pre style=\"white-space:pre;overflow-x:auto;line-height:normal;font-family:Menlo,'DejaVu Sans Mono',consolas,'Courier New',monospace\">┏━━━━━━━━━━━━━━━━━━━━━━━━━━━━━━━━━┳━━━━━━━━━━━━━━━━━━━━━━━━┳━━━━━━━━━━━━━━━┓\n",
       "┃<span style=\"font-weight: bold\"> Layer (type)                    </span>┃<span style=\"font-weight: bold\"> Output Shape           </span>┃<span style=\"font-weight: bold\">       Param # </span>┃\n",
       "┡━━━━━━━━━━━━━━━━━━━━━━━━━━━━━━━━━╇━━━━━━━━━━━━━━━━━━━━━━━━╇━━━━━━━━━━━━━━━┩\n",
       "│ normalization (<span style=\"color: #0087ff; text-decoration-color: #0087ff\">Normalization</span>)   │ (<span style=\"color: #00d7ff; text-decoration-color: #00d7ff\">None</span>, <span style=\"color: #00af00; text-decoration-color: #00af00\">18</span>)             │             <span style=\"color: #00af00; text-decoration-color: #00af00\">0</span> │\n",
       "├─────────────────────────────────┼────────────────────────┼───────────────┤\n",
       "│ reshape (<span style=\"color: #0087ff; text-decoration-color: #0087ff\">Reshape</span>)               │ (<span style=\"color: #00d7ff; text-decoration-color: #00d7ff\">None</span>, <span style=\"color: #00af00; text-decoration-color: #00af00\">3</span>, <span style=\"color: #00af00; text-decoration-color: #00af00\">6</span>)           │             <span style=\"color: #00af00; text-decoration-color: #00af00\">0</span> │\n",
       "├─────────────────────────────────┼────────────────────────┼───────────────┤\n",
       "│ lstm (<span style=\"color: #0087ff; text-decoration-color: #0087ff\">LSTM</span>)                     │ (<span style=\"color: #00d7ff; text-decoration-color: #00d7ff\">None</span>, <span style=\"color: #00af00; text-decoration-color: #00af00\">3</span>, <span style=\"color: #00af00; text-decoration-color: #00af00\">256</span>)         │       <span style=\"color: #00af00; text-decoration-color: #00af00\">269,312</span> │\n",
       "├─────────────────────────────────┼────────────────────────┼───────────────┤\n",
       "│ flatten (<span style=\"color: #0087ff; text-decoration-color: #0087ff\">Flatten</span>)               │ (<span style=\"color: #00d7ff; text-decoration-color: #00d7ff\">None</span>, <span style=\"color: #00af00; text-decoration-color: #00af00\">768</span>)            │             <span style=\"color: #00af00; text-decoration-color: #00af00\">0</span> │\n",
       "├─────────────────────────────────┼────────────────────────┼───────────────┤\n",
       "│ dense (<span style=\"color: #0087ff; text-decoration-color: #0087ff\">Dense</span>)                   │ (<span style=\"color: #00d7ff; text-decoration-color: #00d7ff\">None</span>, <span style=\"color: #00af00; text-decoration-color: #00af00\">512</span>)            │       <span style=\"color: #00af00; text-decoration-color: #00af00\">393,728</span> │\n",
       "├─────────────────────────────────┼────────────────────────┼───────────────┤\n",
       "│ dropout (<span style=\"color: #0087ff; text-decoration-color: #0087ff\">Dropout</span>)               │ (<span style=\"color: #00d7ff; text-decoration-color: #00d7ff\">None</span>, <span style=\"color: #00af00; text-decoration-color: #00af00\">512</span>)            │             <span style=\"color: #00af00; text-decoration-color: #00af00\">0</span> │\n",
       "├─────────────────────────────────┼────────────────────────┼───────────────┤\n",
       "│ dense_1 (<span style=\"color: #0087ff; text-decoration-color: #0087ff\">Dense</span>)                 │ (<span style=\"color: #00d7ff; text-decoration-color: #00d7ff\">None</span>, <span style=\"color: #00af00; text-decoration-color: #00af00\">512</span>)            │       <span style=\"color: #00af00; text-decoration-color: #00af00\">262,656</span> │\n",
       "├─────────────────────────────────┼────────────────────────┼───────────────┤\n",
       "│ dropout_1 (<span style=\"color: #0087ff; text-decoration-color: #0087ff\">Dropout</span>)             │ (<span style=\"color: #00d7ff; text-decoration-color: #00d7ff\">None</span>, <span style=\"color: #00af00; text-decoration-color: #00af00\">512</span>)            │             <span style=\"color: #00af00; text-decoration-color: #00af00\">0</span> │\n",
       "├─────────────────────────────────┼────────────────────────┼───────────────┤\n",
       "│ dense_2 (<span style=\"color: #0087ff; text-decoration-color: #0087ff\">Dense</span>)                 │ (<span style=\"color: #00d7ff; text-decoration-color: #00d7ff\">None</span>, <span style=\"color: #00af00; text-decoration-color: #00af00\">256</span>)            │       <span style=\"color: #00af00; text-decoration-color: #00af00\">131,328</span> │\n",
       "├─────────────────────────────────┼────────────────────────┼───────────────┤\n",
       "│ dropout_2 (<span style=\"color: #0087ff; text-decoration-color: #0087ff\">Dropout</span>)             │ (<span style=\"color: #00d7ff; text-decoration-color: #00d7ff\">None</span>, <span style=\"color: #00af00; text-decoration-color: #00af00\">256</span>)            │             <span style=\"color: #00af00; text-decoration-color: #00af00\">0</span> │\n",
       "├─────────────────────────────────┼────────────────────────┼───────────────┤\n",
       "│ dense_3 (<span style=\"color: #0087ff; text-decoration-color: #0087ff\">Dense</span>)                 │ (<span style=\"color: #00d7ff; text-decoration-color: #00d7ff\">None</span>, <span style=\"color: #00af00; text-decoration-color: #00af00\">128</span>)            │        <span style=\"color: #00af00; text-decoration-color: #00af00\">32,896</span> │\n",
       "├─────────────────────────────────┼────────────────────────┼───────────────┤\n",
       "│ dropout_3 (<span style=\"color: #0087ff; text-decoration-color: #0087ff\">Dropout</span>)             │ (<span style=\"color: #00d7ff; text-decoration-color: #00d7ff\">None</span>, <span style=\"color: #00af00; text-decoration-color: #00af00\">128</span>)            │             <span style=\"color: #00af00; text-decoration-color: #00af00\">0</span> │\n",
       "├─────────────────────────────────┼────────────────────────┼───────────────┤\n",
       "│ dense_4 (<span style=\"color: #0087ff; text-decoration-color: #0087ff\">Dense</span>)                 │ (<span style=\"color: #00d7ff; text-decoration-color: #00d7ff\">None</span>, <span style=\"color: #00af00; text-decoration-color: #00af00\">2</span>)              │           <span style=\"color: #00af00; text-decoration-color: #00af00\">258</span> │\n",
       "└─────────────────────────────────┴────────────────────────┴───────────────┘\n",
       "</pre>\n"
      ],
      "text/plain": [
       "┏━━━━━━━━━━━━━━━━━━━━━━━━━━━━━━━━━┳━━━━━━━━━━━━━━━━━━━━━━━━┳━━━━━━━━━━━━━━━┓\n",
       "┃\u001b[1m \u001b[0m\u001b[1mLayer (type)                   \u001b[0m\u001b[1m \u001b[0m┃\u001b[1m \u001b[0m\u001b[1mOutput Shape          \u001b[0m\u001b[1m \u001b[0m┃\u001b[1m \u001b[0m\u001b[1m      Param #\u001b[0m\u001b[1m \u001b[0m┃\n",
       "┡━━━━━━━━━━━━━━━━━━━━━━━━━━━━━━━━━╇━━━━━━━━━━━━━━━━━━━━━━━━╇━━━━━━━━━━━━━━━┩\n",
       "│ normalization (\u001b[38;5;33mNormalization\u001b[0m)   │ (\u001b[38;5;45mNone\u001b[0m, \u001b[38;5;34m18\u001b[0m)             │             \u001b[38;5;34m0\u001b[0m │\n",
       "├─────────────────────────────────┼────────────────────────┼───────────────┤\n",
       "│ reshape (\u001b[38;5;33mReshape\u001b[0m)               │ (\u001b[38;5;45mNone\u001b[0m, \u001b[38;5;34m3\u001b[0m, \u001b[38;5;34m6\u001b[0m)           │             \u001b[38;5;34m0\u001b[0m │\n",
       "├─────────────────────────────────┼────────────────────────┼───────────────┤\n",
       "│ lstm (\u001b[38;5;33mLSTM\u001b[0m)                     │ (\u001b[38;5;45mNone\u001b[0m, \u001b[38;5;34m3\u001b[0m, \u001b[38;5;34m256\u001b[0m)         │       \u001b[38;5;34m269,312\u001b[0m │\n",
       "├─────────────────────────────────┼────────────────────────┼───────────────┤\n",
       "│ flatten (\u001b[38;5;33mFlatten\u001b[0m)               │ (\u001b[38;5;45mNone\u001b[0m, \u001b[38;5;34m768\u001b[0m)            │             \u001b[38;5;34m0\u001b[0m │\n",
       "├─────────────────────────────────┼────────────────────────┼───────────────┤\n",
       "│ dense (\u001b[38;5;33mDense\u001b[0m)                   │ (\u001b[38;5;45mNone\u001b[0m, \u001b[38;5;34m512\u001b[0m)            │       \u001b[38;5;34m393,728\u001b[0m │\n",
       "├─────────────────────────────────┼────────────────────────┼───────────────┤\n",
       "│ dropout (\u001b[38;5;33mDropout\u001b[0m)               │ (\u001b[38;5;45mNone\u001b[0m, \u001b[38;5;34m512\u001b[0m)            │             \u001b[38;5;34m0\u001b[0m │\n",
       "├─────────────────────────────────┼────────────────────────┼───────────────┤\n",
       "│ dense_1 (\u001b[38;5;33mDense\u001b[0m)                 │ (\u001b[38;5;45mNone\u001b[0m, \u001b[38;5;34m512\u001b[0m)            │       \u001b[38;5;34m262,656\u001b[0m │\n",
       "├─────────────────────────────────┼────────────────────────┼───────────────┤\n",
       "│ dropout_1 (\u001b[38;5;33mDropout\u001b[0m)             │ (\u001b[38;5;45mNone\u001b[0m, \u001b[38;5;34m512\u001b[0m)            │             \u001b[38;5;34m0\u001b[0m │\n",
       "├─────────────────────────────────┼────────────────────────┼───────────────┤\n",
       "│ dense_2 (\u001b[38;5;33mDense\u001b[0m)                 │ (\u001b[38;5;45mNone\u001b[0m, \u001b[38;5;34m256\u001b[0m)            │       \u001b[38;5;34m131,328\u001b[0m │\n",
       "├─────────────────────────────────┼────────────────────────┼───────────────┤\n",
       "│ dropout_2 (\u001b[38;5;33mDropout\u001b[0m)             │ (\u001b[38;5;45mNone\u001b[0m, \u001b[38;5;34m256\u001b[0m)            │             \u001b[38;5;34m0\u001b[0m │\n",
       "├─────────────────────────────────┼────────────────────────┼───────────────┤\n",
       "│ dense_3 (\u001b[38;5;33mDense\u001b[0m)                 │ (\u001b[38;5;45mNone\u001b[0m, \u001b[38;5;34m128\u001b[0m)            │        \u001b[38;5;34m32,896\u001b[0m │\n",
       "├─────────────────────────────────┼────────────────────────┼───────────────┤\n",
       "│ dropout_3 (\u001b[38;5;33mDropout\u001b[0m)             │ (\u001b[38;5;45mNone\u001b[0m, \u001b[38;5;34m128\u001b[0m)            │             \u001b[38;5;34m0\u001b[0m │\n",
       "├─────────────────────────────────┼────────────────────────┼───────────────┤\n",
       "│ dense_4 (\u001b[38;5;33mDense\u001b[0m)                 │ (\u001b[38;5;45mNone\u001b[0m, \u001b[38;5;34m2\u001b[0m)              │           \u001b[38;5;34m258\u001b[0m │\n",
       "└─────────────────────────────────┴────────────────────────┴───────────────┘\n"
      ]
     },
     "metadata": {},
     "output_type": "display_data"
    },
    {
     "data": {
      "text/html": [
       "<pre style=\"white-space:pre;overflow-x:auto;line-height:normal;font-family:Menlo,'DejaVu Sans Mono',consolas,'Courier New',monospace\"><span style=\"font-weight: bold\"> Total params: </span><span style=\"color: #00af00; text-decoration-color: #00af00\">3,270,536</span> (12.48 MB)\n",
       "</pre>\n"
      ],
      "text/plain": [
       "\u001b[1m Total params: \u001b[0m\u001b[38;5;34m3,270,536\u001b[0m (12.48 MB)\n"
      ]
     },
     "metadata": {},
     "output_type": "display_data"
    },
    {
     "data": {
      "text/html": [
       "<pre style=\"white-space:pre;overflow-x:auto;line-height:normal;font-family:Menlo,'DejaVu Sans Mono',consolas,'Courier New',monospace\"><span style=\"font-weight: bold\"> Trainable params: </span><span style=\"color: #00af00; text-decoration-color: #00af00\">1,090,178</span> (4.16 MB)\n",
       "</pre>\n"
      ],
      "text/plain": [
       "\u001b[1m Trainable params: \u001b[0m\u001b[38;5;34m1,090,178\u001b[0m (4.16 MB)\n"
      ]
     },
     "metadata": {},
     "output_type": "display_data"
    },
    {
     "data": {
      "text/html": [
       "<pre style=\"white-space:pre;overflow-x:auto;line-height:normal;font-family:Menlo,'DejaVu Sans Mono',consolas,'Courier New',monospace\"><span style=\"font-weight: bold\"> Non-trainable params: </span><span style=\"color: #00af00; text-decoration-color: #00af00\">0</span> (0.00 B)\n",
       "</pre>\n"
      ],
      "text/plain": [
       "\u001b[1m Non-trainable params: \u001b[0m\u001b[38;5;34m0\u001b[0m (0.00 B)\n"
      ]
     },
     "metadata": {},
     "output_type": "display_data"
    },
    {
     "data": {
      "text/html": [
       "<pre style=\"white-space:pre;overflow-x:auto;line-height:normal;font-family:Menlo,'DejaVu Sans Mono',consolas,'Courier New',monospace\"><span style=\"font-weight: bold\"> Optimizer params: </span><span style=\"color: #00af00; text-decoration-color: #00af00\">2,180,358</span> (8.32 MB)\n",
       "</pre>\n"
      ],
      "text/plain": [
       "\u001b[1m Optimizer params: \u001b[0m\u001b[38;5;34m2,180,358\u001b[0m (8.32 MB)\n"
      ]
     },
     "metadata": {},
     "output_type": "display_data"
    }
   ],
   "source": [
    "\n",
    "# with mlflow.start_run() as run:\n",
    "#     mlflow.autolog()\n",
    "#     import autokeras as ak\n",
    "#     os.environ[\"MLFLOW_TRACKING_INSECURE_TLS\"] = \"true\"\n",
    "#     mlflow.set_tracking_uri(uri=variables[\"mlflow\"][\"url\"])\n",
    "#     mlflow.set_experiment(\"Thermostat setpoint\")\n",
    "#     signature = infer_signature(numeric_features, model.predict(numeric_features))\n",
    "#     # define the search\n",
    "#     search = ak.StructuredDataRegressor(max_trials=100, loss='mean_absolute_error',  metrics=['mse', 'mae', 'mape'])\n",
    "#     # perform the search\n",
    "#     history = search.fit(x=numeric_features.values, y=target.values, validation_split=0.2,)\n",
    "\n",
    "#     mae, mse, mape, _ = search.evaluate(numeric_features.values, target.values, verbose=0)\n",
    "#     print('MAE: %.3f' % mae)\n",
    "\n",
    "#     # get the best performing model\n",
    "#     model = search.export_model()\n",
    "#     # summarize the loaded model\n",
    "model.summary()"
   ]
  },
  {
   "cell_type": "code",
   "execution_count": 12,
   "metadata": {},
   "outputs": [],
   "source": [
    "# run_dict =  mlflow.last_active_run().to_dictionary() \n",
    "# print(run_dict)\n",
    "# signature = infer_signature(numeric_features, model.predict(numeric_features))\n",
    "# set_signature(f\"runs:/{run_dict['info']['run_id']}/model\", signature)\n",
    "\n",
    "# # list all data in history\n",
    "# print(history.history.keys())\n",
    "# # summarize history for accuracy\n",
    "# plt.plot(history.history['mse'])\n",
    "# # plt.plot(history.history['val_mse'])\n",
    "# plt.title('model accuracy')\n",
    "# plt.ylabel('mse')\n",
    "# plt.xlabel('epoch')\n",
    "# plt.legend(['train', 'test'], loc='upper left')\n",
    "# plt.show()\n",
    "# # summarize history for loss\n",
    "# plt.plot(history.history['loss'])\n",
    "# # plt.plot(history.history['val_loss'])\n",
    "# plt.title('model loss')\n",
    "# plt.ylabel('loss')\n",
    "# plt.xlabel('epoch')\n",
    "# plt.legend(['train', 'test'], loc='upper left')\n",
    "# plt.show()"
   ]
  },
  {
   "cell_type": "code",
   "execution_count": 13,
   "metadata": {},
   "outputs": [],
   "source": [
    "\n",
    "# new_df.to_csv('thermostat_2022-23.csv', encoding='utf-8')\n",
    "#!export MLFLOW_TRACKING_URI=http://192.168.0.2:5051\n",
    "#!mlflow models build-docker -m runs:/57e811d9acd34c0db02d762d6fa6c31b/model -n paillomams/presence-det --enable-mlserver\n",
    "\n",
    "#!docker push paillomams/presence-det"
   ]
  }
 ],
 "metadata": {
  "kernelspec": {
   "display_name": "Python 3",
   "language": "python",
   "name": "python3"
  },
  "language_info": {
   "codemirror_mode": {
    "name": "ipython",
    "version": 3
   },
   "file_extension": ".py",
   "mimetype": "text/x-python",
   "name": "python",
   "nbconvert_exporter": "python",
   "pygments_lexer": "ipython3",
   "version": "3.11.8"
  }
 },
 "nbformat": 4,
 "nbformat_minor": 2
}
